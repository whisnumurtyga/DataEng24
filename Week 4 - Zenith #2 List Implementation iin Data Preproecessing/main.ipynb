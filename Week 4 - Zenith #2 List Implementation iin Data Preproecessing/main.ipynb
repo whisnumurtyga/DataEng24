{
 "cells": [
  {
   "cell_type": "code",
   "execution_count": 1,
   "metadata": {},
   "outputs": [],
   "source": [
    "import pandas as pd"
   ]
  },
  {
   "cell_type": "code",
   "execution_count": 2,
   "metadata": {},
   "outputs": [],
   "source": []
  },
  {
   "cell_type": "code",
   "execution_count": 11,
   "metadata": {},
   "outputs": [
    {
     "name": "stdout",
     "output_type": "stream",
     "text": [
      "Object Columns: \n",
      "['Name', 'Birthdate', 'City']\n",
      "\n",
      "Numeric Columns: \n",
      "['Age']\n",
      "\n",
      "Date Columns: \n",
      "['Birthdate']\n"
     ]
    }
   ],
   "source": [
    "# Contoh DataFrame\n",
    "data = {\n",
    "    'Name': ['John', 'Alice', 'Bob', 'Eve'],\n",
    "    'Age': [25, 30, 35, 40],\n",
    "    'Birthdate': ['1996-05-10', '1992-08-20', '1987-12-05', '1982-04-15'],\n",
    "    'City': ['New York', 'Los Angeles', 'Chicago', 'Seattle']\n",
    "}\n",
    "\n",
    "df = pd.DataFrame(data)\n",
    "date_col = ['Birthdate']\n",
    "object_columns = [col for col in df.select_dtypes(include='O')]\n",
    "num_columns = [col for col in df.select_dtypes(exclude='O') if col not in date_col]\n",
    "\n",
    "print(f'Object Columns: \\n{object_columns}\\n')\n",
    "print(f'Numeric Columns: \\n{num_columns}\\n')\n",
    "print(f'Date Columns: \\n{date_col}')"
   ]
  },
  {
   "cell_type": "code",
   "execution_count": 12,
   "metadata": {},
   "outputs": [
    {
     "data": {
      "text/html": [
       "<div>\n",
       "<style scoped>\n",
       "    .dataframe tbody tr th:only-of-type {\n",
       "        vertical-align: middle;\n",
       "    }\n",
       "\n",
       "    .dataframe tbody tr th {\n",
       "        vertical-align: top;\n",
       "    }\n",
       "\n",
       "    .dataframe thead th {\n",
       "        text-align: right;\n",
       "    }\n",
       "</style>\n",
       "<table border=\"1\" class=\"dataframe\">\n",
       "  <thead>\n",
       "    <tr style=\"text-align: right;\">\n",
       "      <th></th>\n",
       "      <th>Name</th>\n",
       "      <th>Age</th>\n",
       "      <th>Birthdate</th>\n",
       "      <th>City</th>\n",
       "    </tr>\n",
       "  </thead>\n",
       "  <tbody>\n",
       "    <tr>\n",
       "      <th>0</th>\n",
       "      <td>John</td>\n",
       "      <td>25</td>\n",
       "      <td>1996-05-10</td>\n",
       "      <td>New York</td>\n",
       "    </tr>\n",
       "    <tr>\n",
       "      <th>1</th>\n",
       "      <td>Alice</td>\n",
       "      <td>30</td>\n",
       "      <td>1992-08-20</td>\n",
       "      <td>Los Angeles</td>\n",
       "    </tr>\n",
       "    <tr>\n",
       "      <th>2</th>\n",
       "      <td>Bob</td>\n",
       "      <td>35</td>\n",
       "      <td>1987-12-05</td>\n",
       "      <td>Chicago</td>\n",
       "    </tr>\n",
       "    <tr>\n",
       "      <th>3</th>\n",
       "      <td>Eve</td>\n",
       "      <td>40</td>\n",
       "      <td>1982-04-15</td>\n",
       "      <td>Seattle</td>\n",
       "    </tr>\n",
       "  </tbody>\n",
       "</table>\n",
       "</div>"
      ],
      "text/plain": [
       "    Name  Age   Birthdate         City\n",
       "0   John   25  1996-05-10     New York\n",
       "1  Alice   30  1992-08-20  Los Angeles\n",
       "2    Bob   35  1987-12-05      Chicago\n",
       "3    Eve   40  1982-04-15      Seattle"
      ]
     },
     "execution_count": 12,
     "metadata": {},
     "output_type": "execute_result"
    }
   ],
   "source": [
    "df.head()"
   ]
  }
 ],
 "metadata": {
  "kernelspec": {
   "display_name": "bangkit",
   "language": "python",
   "name": "python3"
  },
  "language_info": {
   "codemirror_mode": {
    "name": "ipython",
    "version": 3
   },
   "file_extension": ".py",
   "mimetype": "text/x-python",
   "name": "python",
   "nbconvert_exporter": "python",
   "pygments_lexer": "ipython3",
   "version": "3.9.18"
  }
 },
 "nbformat": 4,
 "nbformat_minor": 2
}
