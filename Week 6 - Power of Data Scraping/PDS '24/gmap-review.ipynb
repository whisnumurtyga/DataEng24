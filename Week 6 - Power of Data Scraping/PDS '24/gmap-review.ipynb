{
 "cells": [
  {
   "cell_type": "markdown",
   "metadata": {},
   "source": [
    "# Prequisite"
   ]
  },
  {
   "cell_type": "markdown",
   "metadata": {},
   "source": [
    "*Prequisite Week 3 - Power of Data Scraping*\n",
    "\n",
    "1. Download WebDriver (Edge/Chrome)  \n",
    "https://developer.microsoft.com/en-us/microsoft-edge/tools/webdriver/?form=MA13LH  \n",
    "https://developer.chrome.com/docs/chromedriver/downloads  \n",
    "sesuaikan dengan versi browser masing-masing yang terinstall (bisa di cek di pengaturan browser)  \n",
    "  \n",
    "2. Basic Concept of HTML and CSS  \n",
    "Karena kita nanti casenya web scraping, kita perlu tahu juga apa itu HTML dan CSS, salah satu refferensinya bisa cek link berikut  \n",
    "https://www.hostinger.com/tutorials/what-is-html  \n",
    "https://blog.lewagon.com/skills/what-is-css/  "
   ]
  },
  {
   "cell_type": "markdown",
   "metadata": {},
   "source": [
    "# Import Library"
   ]
  },
  {
   "cell_type": "code",
   "execution_count": 31,
   "metadata": {},
   "outputs": [],
   "source": [
    "from selenium import webdriver\n",
    "from selenium.webdriver.common.by import By\n",
    "from selenium.webdriver.support.ui import WebDriverWait\n",
    "from selenium.webdriver.support import expected_conditions as EC\n",
    "import time\n",
    "import pandas as pd"
   ]
  },
  {
   "cell_type": "markdown",
   "metadata": {},
   "source": [
    "# Web Driver Configuration"
   ]
  },
  {
   "cell_type": "code",
   "execution_count": 32,
   "metadata": {},
   "outputs": [],
   "source": [
    "# Pilih sesuai web browser\n",
    "# options = webdriver.EdgeOptions()\n",
    "options = webdriver.ChromeOptions() \n",
    "options.use_chromium = True\n",
    "# options.add_argument(\"headless\")  # Untuk menjalankan browser dalam mode headless\n",
    "driver = webdriver.Edge(options=options)\n",
    "wait = WebDriverWait(driver, 5)"
   ]
  },
  {
   "cell_type": "markdown",
   "metadata": {},
   "source": [
    "# Determine Target Location"
   ]
  },
  {
   "cell_type": "markdown",
   "metadata": {},
   "source": [
    "Akses Maps Menggunakan [Place Id](https://chromewebstore.google.com/detail/maps-place-id-search-tool/gdnnaahojechcmemagbbbbnoiieolafp) (Search Place Id Finder buat cari id dari lokasi)"
   ]
  },
  {
   "cell_type": "markdown",
   "metadata": {},
   "source": [
    "<div style=\"display: flex;\">\n",
    "    <img src=\"https://i.ibb.co.com/ncgY5Kv/111.jpg\" style=\"max-width: 50%;\">\n",
    "    <img src=\"https://i.ibb.co.com/vJX3mWP/222.jpg\" style=\"max-width: 50%;\">\n",
    "</div>"
   ]
  },
  {
   "cell_type": "code",
   "execution_count": 33,
   "metadata": {},
   "outputs": [],
   "source": [
    "tus_place_id = 'ChIJHVqSy9H71y0RnwWbLgvLvh0'\n",
    "base_url = 'https://www.google.com/maps/place/?q=place_id:'\n",
    "driver.get(f'{base_url}{tus_place_id}')"
   ]
  },
  {
   "cell_type": "markdown",
   "metadata": {},
   "source": [
    "# Open Review Tab"
   ]
  },
  {
   "cell_type": "code",
   "execution_count": 34,
   "metadata": {},
   "outputs": [
    {
     "name": "stdout",
     "output_type": "stream",
     "text": [
      "Tab Review Found\n"
     ]
    }
   ],
   "source": [
    "# Get List of Tab Menu\n",
    "list_menu = wait.until(EC.presence_of_all_elements_located((By.CSS_SELECTOR, '.Gpq6kf.fontTitleSmall')))\n",
    "\n",
    "# filter elemen berdasarkan teksnya dan berhenti pada yang pertama ditemukan\n",
    "text_target = ['Ulasan', 'Rating'] # karena kan ada menu overview dan about (jadi kita pilih rating)\n",
    "target_element = None\n",
    "for el in list_menu:\n",
    "    if el.text in text_target:\n",
    "        target_element = el\n",
    "        print('Tab Review Found')\n",
    "        break"
   ]
  },
  {
   "cell_type": "code",
   "execution_count": 35,
   "metadata": {},
   "outputs": [],
   "source": [
    "target_element.click()"
   ]
  },
  {
   "cell_type": "markdown",
   "metadata": {},
   "source": [
    "# Scrool Sidebar"
   ]
  },
  {
   "cell_type": "code",
   "execution_count": 36,
   "metadata": {},
   "outputs": [
    {
     "name": "stdout",
     "output_type": "stream",
     "text": [
      "<selenium.webdriver.remote.webelement.WebElement (session=\"4f3c6ea3af01eaa416f7ff24bffd1875\", element=\"f.31A5AFAA0109B193DB7C34880EAC0B35.d.B5DF655687FE8A82EB0F0B5B20C3648E.e.38\")>\n"
     ]
    }
   ],
   "source": [
    "# Find Sidebar\n",
    "sidebar = driver.find_element(By.CSS_SELECTOR, \".m6QErb.DxyBCb.kA9KIf.dS8AEf.XiKgde\")\n",
    "print(sidebar)"
   ]
  },
  {
   "cell_type": "code",
   "execution_count": 37,
   "metadata": {},
   "outputs": [],
   "source": [
    "# Fungsi untuk menggulir sidebar ke bawah\n",
    "def scroll_sidebar_to_bottom(time_sleep):\n",
    "    # Ambil tinggi sidebar\n",
    "    last_height = driver.execute_script(\"return arguments[0].scrollHeight;\", sidebar)\n",
    "    \n",
    "    while True:\n",
    "        # Gulir sidebar ke bawah\n",
    "        driver.execute_script(\"arguments[0].scrollTo(0, arguments[0].scrollHeight);\", sidebar)\n",
    "        \n",
    "        # Tunggu beberapa detik untuk memuat konten baru\n",
    "        time.sleep(time_sleep)\n",
    "        # Value Time Sleep Sesuaikan dengan koneksi dan device, bisa jadi bisa lebih cepat atau lambat untuk scrooling dan melakukan rendering content)\n",
    "        \n",
    "        # Hitung tinggi sidebar baru setelah menggulir\n",
    "        new_height = driver.execute_script(\"return arguments[0].scrollHeight;\", sidebar)\n",
    "        \n",
    "        # Jika tinggi sidebar baru sama dengan tinggi sebelumnya, berarti sudah mencapai bagian bawah\n",
    "        if new_height == last_height:\n",
    "            break\n",
    "        \n",
    "        last_height = new_height\n",
    "\n",
    "# Panggil fungsi untuk menggulir sidebar sampai ke bawah\n",
    "scroll_sidebar_to_bottom(2)"
   ]
  },
  {
   "cell_type": "markdown",
   "metadata": {},
   "source": [
    "# Find the Element You Want to Scrape"
   ]
  },
  {
   "cell_type": "markdown",
   "metadata": {},
   "source": [
    "<div style=\"text-align: center;\">\n",
    "    <img src=\"https://yourimageshare.com/ib/L9Su4s43Zv.webp\" width=\"450\">\n",
    "</div>"
   ]
  },
  {
   "cell_type": "markdown",
   "metadata": {},
   "source": [
    "`To scrape review URL, obtain the geo-coordinates manually in Google Maps by right-clicking near the red pin on the map`\n",
    "\n",
    ">Don't worry, Google Map coordinates are not that strict. The important thing is to ensure that your coordinates are still within the scope of the location you're referring to"
   ]
  },
  {
   "cell_type": "markdown",
   "metadata": {},
   "source": [
    "<div style=\"text-align: center;\">\n",
    "    <img src=\"https://i.ibb.co.com/1LvmxHG/Whats-App-Image-2024-05-17-at-22-22-29-c8e48943.jpg\" width=\"400\">\n",
    "</div>"
   ]
  },
  {
   "cell_type": "code",
   "execution_count": 38,
   "metadata": {},
   "outputs": [
    {
     "name": "stdout",
     "output_type": "stream",
     "text": [
      "254\n",
      "230\n",
      "254\n",
      "254\n",
      "108\n",
      "72\n",
      "254\n"
     ]
    }
   ],
   "source": [
    "print(len(driver.find_elements(By.CSS_SELECTOR, 'div.d4r55')))\n",
    "print(len(driver.find_elements(By.CSS_SELECTOR, 'div.RfnDt')))\n",
    "print(len(driver.find_elements(By.CSS_SELECTOR, 'span.kvMYJc[aria-label*=\"bintang\"]')))\n",
    "print(len(driver.find_elements(By.CSS_SELECTOR, 'span.rsqaWe')))\n",
    "print(len(driver.find_elements(By.CSS_SELECTOR, 'span.wiI7pd')))\n",
    "print(len(driver.find_elements(By.CSS_SELECTOR, 'span.pkWtMe')))\n",
    "print(len(driver.find_elements(By.CSS_SELECTOR, 'button.al6Kxe')))"
   ]
  },
  {
   "cell_type": "code",
   "execution_count": 39,
   "metadata": {},
   "outputs": [
    {
     "name": "stdout",
     "output_type": "stream",
     "text": [
      "https://www.google.com/maps/contrib/103472688785147558501/reviews?hl=id\n",
      "https://www.google.com/maps/contrib/110809995417901392155/reviews?hl=id\n",
      "https://www.google.com/maps/contrib/112880635694197045058/reviews?hl=id\n",
      "https://www.google.com/maps/contrib/114013628700700772575/reviews?hl=id\n",
      "https://www.google.com/maps/contrib/116378066798139972794/reviews?hl=id\n"
     ]
    }
   ],
   "source": [
    "for i in range(0, 5):\n",
    "    print(driver.find_elements(By.CSS_SELECTOR, 'button.al6Kxe')[i].get_attribute('data-href'))"
   ]
  },
  {
   "cell_type": "code",
   "execution_count": 40,
   "metadata": {},
   "outputs": [],
   "source": [
    "def get_digits(num, digit):\n",
    "    return tuple(round(n, digit) for n in num)"
   ]
  },
  {
   "cell_type": "markdown",
   "metadata": {},
   "source": [
    "`Adjust the geo-coordinate to your case` "
   ]
  },
  {
   "cell_type": "code",
   "execution_count": 41,
   "metadata": {},
   "outputs": [
    {
     "name": "stdout",
     "output_type": "stream",
     "text": [
      "https://www.google.com/maps/reviews/@-7.311065,112.729017,17z/data=!3m1!4b1!4m6!14m5!1m4!2m3!1sChZDSUhNMG9nS0VJQ0FnSUNKd1BtQkNREAE!2m1!1s0x0:0x4ceb8bb356c12235?hl=id&entry=ttu\n"
     ]
    }
   ],
   "source": [
    "geo_coordinate = (get_digits((-7.3110645918643185, 112.72901710435903), 6)) \n",
    "review_id_test = driver.find_element(By.CLASS_NAME, 'jftiEf').get_attribute('data-review-id')\n",
    "base_review_url = f'https://www.google.com/maps/reviews/@{geo_coordinate[0]},{geo_coordinate[1]},17z/data=!3m1!4b1!4m6!14m5!1m4!2m3!1s{review_id_test}!2m1!1s0x0:0x4ceb8bb356c12235?hl=id&entry=ttu'\n",
    "print(base_review_url)"
   ]
  },
  {
   "cell_type": "markdown",
   "metadata": {},
   "source": [
    "# Get Card Comments > Looping > Scrape All "
   ]
  },
  {
   "cell_type": "code",
   "execution_count": 42,
   "metadata": {},
   "outputs": [],
   "source": [
    "def extract_status(string):\n",
    "    parts = string.split(\"·\")\n",
    "    # ['Local Guide', '378 ulasan','1.954 foto']\n",
    "    \n",
    "    guide_type = 'Non Local Guide'\n",
    "    review_count = None\n",
    "    photo_count = None\n",
    "\n",
    "    for part in parts:\n",
    "        clean_part = part.strip().split()\n",
    "        # ['1.954', 'ulasan']\n",
    "        if any(word in clean_part for word in ['review', 'ulasan']):\n",
    "            review_count = int(clean_part[0].replace('.',''))\n",
    "        elif any(word in clean_part for word in ['photo', 'foto']):\n",
    "            photo_count = int(clean_part[0].replace('.',''))\n",
    "        else:\n",
    "            # Jika tidak mengandung kata 'ulasan' atau 'foto', itu mungkin menjadi tipe guide\n",
    "            guide_type = ' '.join(clean_part)\n",
    "\n",
    "    # print(guide_type, \"\\t\", review_count, \"\\t\", photo_count)\n",
    "    return guide_type, review_count, photo_count\n"
   ]
  },
  {
   "cell_type": "code",
   "execution_count": 43,
   "metadata": {},
   "outputs": [
    {
     "name": "stdout",
     "output_type": "stream",
     "text": [
      "('Local Guide', 378, 1954)\n",
      "('Non Local Guide', 378, 1954)\n",
      "('Non Local Guide', None, 1954)\n"
     ]
    }
   ],
   "source": [
    "print(extract_status('Local Guide · 378 ulasan · 1.954 foto'))\n",
    "print(extract_status('378 ulasan · 1.954 foto'))\n",
    "print(extract_status('1.954 foto'))"
   ]
  },
  {
   "cell_type": "code",
   "execution_count": 44,
   "metadata": {},
   "outputs": [],
   "source": [
    "names = []\n",
    "status = [] # To be parsed by type of guide (local/non-local) | number of reviews | number of photos\n",
    "guide_types = []\n",
    "guide_review_count = []\n",
    "guide_photo_count = []\n",
    "rating = []\n",
    "rating_dates = []\n",
    "descriptions = []\n",
    "likes = []\n",
    "profile_links = []\n",
    "review_links = []\n",
    "\n",
    "\n",
    "comment_cards = driver.find_elements(By.CSS_SELECTOR, 'div.jftiEf')\n",
    "for i, cc in enumerate(comment_cards):\n",
    "    # print(i)\n",
    "    names.append(cc.find_element(By.CSS_SELECTOR, 'div.d4r55').text)\n",
    "    \n",
    "    try:\n",
    "        st = cc.find_element(By.CSS_SELECTOR, 'div.RfnDt').text\n",
    "        g_type, g_review_count, g_photo_count = extract_status(st)\n",
    "        guide_types.append(g_type)\n",
    "        guide_review_count.append(g_review_count)\n",
    "        guide_photo_count.append(g_photo_count)\n",
    "    except:\n",
    "        err_val = '-'\n",
    "        guide_types.append(err_val)\n",
    "        guide_review_count.append(err_val)\n",
    "        guide_photo_count.append(err_val)\n",
    "        \n",
    "    rating.append(cc.find_element(By.CSS_SELECTOR, 'span.kvMYJc[aria-label*=\"bintang\"]').get_attribute(\"aria-label\").split()[0])\n",
    "    rating_dates.append(cc.find_element(By.CSS_SELECTOR, 'span.rsqaWe').text)\n",
    "    \n",
    "    try:\n",
    "        dsc = cc.find_element(By.CSS_SELECTOR, 'span.wiI7pd').text\n",
    "        descriptions.append(dsc)\n",
    "    except:\n",
    "        descriptions.append(\"-\")\n",
    "    \n",
    "    try:\n",
    "        like = cc.find_element(By.CSS_SELECTOR, 'span.pkWtMe').text\n",
    "        likes.append(like)\n",
    "    except:\n",
    "        likes.append(0)\n",
    "        \n",
    "    profile_links.append(cc.find_element(By.CSS_SELECTOR, 'button.al6Kxe').get_attribute(\"data-href\"))\n",
    "    try:\n",
    "        review_id = cc.get_attribute('data-review-id')\n",
    "        base_review_url = f'https://www.google.com/maps/reviews/@{geo_coordinate[0]},{geo_coordinate[1]},17z/data=!3m1!4b1!4m6!14m5!1m4!2m3!1s{review_id}!2m1!1s0x0:0x4ceb8bb356c12235?hl=id&entry=ttu'\n",
    "        review_links.append(base_review_url)\n",
    "    except:\n",
    "        print('REVIEW ID ERROR')\n",
    "    "
   ]
  },
  {
   "cell_type": "markdown",
   "metadata": {},
   "source": [
    "`use try and catch to handle unavailable element`"
   ]
  },
  {
   "cell_type": "code",
   "execution_count": 45,
   "metadata": {},
   "outputs": [
    {
     "name": "stdout",
     "output_type": "stream",
     "text": [
      "254\n",
      "254\n",
      "254\n",
      "254\n",
      "254\n",
      "254\n",
      "254\n",
      "254\n",
      "254\n",
      "254\n"
     ]
    }
   ],
   "source": [
    "print(len(names))\n",
    "print(len(guide_types))\n",
    "print(len(guide_review_count))\n",
    "print(len(guide_photo_count))\n",
    "print(len(rating))\n",
    "print(len(rating_dates))\n",
    "print(len(descriptions))\n",
    "print(len(likes))\n",
    "print(len(profile_links))\n",
    "print(len(review_links))"
   ]
  },
  {
   "cell_type": "code",
   "execution_count": 46,
   "metadata": {},
   "outputs": [
    {
     "name": "stdout",
     "output_type": "stream",
     "text": [
      "si itts\n",
      "-\n",
      "-\n",
      "-\n",
      "5\n",
      "5 tahun lalu\n",
      "-\n",
      "0\n",
      "https://www.google.com/maps/contrib/107267306127338838156/reviews?hl=id\n",
      "https://www.google.com/maps/reviews/@-7.311065,112.729017,17z/data=!3m1!4b1!4m6!14m5!1m4!2m3!1sChdDSUhNMG9nS0VJQ0FnSUNvMEpuZml3RRAB!2m1!1s0x0:0x4ceb8bb356c12235?hl=id&entry=ttu\n"
     ]
    }
   ],
   "source": [
    "datas = [names, guide_types, guide_review_count, guide_photo_count, rating, rating_dates, descriptions, likes, profile_links, review_links]\n",
    "for d in datas:\n",
    "    print(d[-1])"
   ]
  },
  {
   "cell_type": "markdown",
   "metadata": {},
   "source": [
    "# BINGO :> :> :> :> :>"
   ]
  },
  {
   "cell_type": "markdown",
   "metadata": {},
   "source": [
    "# Export "
   ]
  },
  {
   "cell_type": "code",
   "execution_count": 47,
   "metadata": {},
   "outputs": [],
   "source": [
    "import pandas as pd"
   ]
  },
  {
   "cell_type": "code",
   "execution_count": 48,
   "metadata": {},
   "outputs": [
    {
     "data": {
      "text/html": [
       "<div>\n",
       "<style scoped>\n",
       "    .dataframe tbody tr th:only-of-type {\n",
       "        vertical-align: middle;\n",
       "    }\n",
       "\n",
       "    .dataframe tbody tr th {\n",
       "        vertical-align: top;\n",
       "    }\n",
       "\n",
       "    .dataframe thead th {\n",
       "        text-align: right;\n",
       "    }\n",
       "</style>\n",
       "<table border=\"1\" class=\"dataframe\">\n",
       "  <thead>\n",
       "    <tr style=\"text-align: right;\">\n",
       "      <th></th>\n",
       "      <th>name</th>\n",
       "      <th>guide_type</th>\n",
       "      <th>guide_review_count</th>\n",
       "      <th>guide_photo_count</th>\n",
       "      <th>rating</th>\n",
       "      <th>rating_date</th>\n",
       "      <th>description</th>\n",
       "      <th>likes</th>\n",
       "      <th>profile_link</th>\n",
       "      <th>review_link</th>\n",
       "    </tr>\n",
       "  </thead>\n",
       "  <tbody>\n",
       "    <tr>\n",
       "      <th>0</th>\n",
       "      <td>Adi Prasetyo</td>\n",
       "      <td>Local Guide</td>\n",
       "      <td>378</td>\n",
       "      <td>1969</td>\n",
       "      <td>5</td>\n",
       "      <td>setahun lalu</td>\n",
       "      <td>Salah satu kampus it telkom di daerah strategi...</td>\n",
       "      <td>6</td>\n",
       "      <td>https://www.google.com/maps/contrib/1034726887...</td>\n",
       "      <td>https://www.google.com/maps/reviews/@-7.311065...</td>\n",
       "    </tr>\n",
       "    <tr>\n",
       "      <th>1</th>\n",
       "      <td>A.R. Bagas Danang Haditio</td>\n",
       "      <td>Local Guide</td>\n",
       "      <td>78</td>\n",
       "      <td>763</td>\n",
       "      <td>1</td>\n",
       "      <td>6 bulan lalu</td>\n",
       "      <td>Kangen suasana shalt ied di lapangan Telkom td...</td>\n",
       "      <td>2</td>\n",
       "      <td>https://www.google.com/maps/contrib/1108099954...</td>\n",
       "      <td>https://www.google.com/maps/reviews/@-7.311065...</td>\n",
       "    </tr>\n",
       "    <tr>\n",
       "      <th>2</th>\n",
       "      <td>mutmainnah salaminna</td>\n",
       "      <td>Non Local Guide</td>\n",
       "      <td>2</td>\n",
       "      <td>1</td>\n",
       "      <td>5</td>\n",
       "      <td>2 minggu lalu</td>\n",
       "      <td>Murid saya ada yg kuliah disini... Baru aja lu...</td>\n",
       "      <td>0</td>\n",
       "      <td>https://www.google.com/maps/contrib/1128806356...</td>\n",
       "      <td>https://www.google.com/maps/reviews/@-7.311065...</td>\n",
       "    </tr>\n",
       "    <tr>\n",
       "      <th>3</th>\n",
       "      <td>VividMUA</td>\n",
       "      <td>Non Local Guide</td>\n",
       "      <td>7</td>\n",
       "      <td>None</td>\n",
       "      <td>5</td>\n",
       "      <td>2 bulan lalu</td>\n",
       "      <td>Kampusnya adem, Semoga Telkom University menin...</td>\n",
       "      <td>1</td>\n",
       "      <td>https://www.google.com/maps/contrib/1140136287...</td>\n",
       "      <td>https://www.google.com/maps/reviews/@-7.311065...</td>\n",
       "    </tr>\n",
       "    <tr>\n",
       "      <th>4</th>\n",
       "      <td>Rosyid Abdillah</td>\n",
       "      <td>Local Guide</td>\n",
       "      <td>9</td>\n",
       "      <td>34</td>\n",
       "      <td>5</td>\n",
       "      <td>setahun lalu</td>\n",
       "      <td>salah satu opsi terbaik untuk studi lanjut dib...</td>\n",
       "      <td>5</td>\n",
       "      <td>https://www.google.com/maps/contrib/1163780667...</td>\n",
       "      <td>https://www.google.com/maps/reviews/@-7.311065...</td>\n",
       "    </tr>\n",
       "  </tbody>\n",
       "</table>\n",
       "</div>"
      ],
      "text/plain": [
       "                        name       guide_type guide_review_count  \\\n",
       "0               Adi Prasetyo      Local Guide                378   \n",
       "1  A.R. Bagas Danang Haditio      Local Guide                 78   \n",
       "2       mutmainnah salaminna  Non Local Guide                  2   \n",
       "3                   VividMUA  Non Local Guide                  7   \n",
       "4            Rosyid Abdillah      Local Guide                  9   \n",
       "\n",
       "  guide_photo_count rating    rating_date  \\\n",
       "0              1969      5   setahun lalu   \n",
       "1               763      1   6 bulan lalu   \n",
       "2                 1      5  2 minggu lalu   \n",
       "3              None      5   2 bulan lalu   \n",
       "4                34      5   setahun lalu   \n",
       "\n",
       "                                         description likes  \\\n",
       "0  Salah satu kampus it telkom di daerah strategi...     6   \n",
       "1  Kangen suasana shalt ied di lapangan Telkom td...     2   \n",
       "2  Murid saya ada yg kuliah disini... Baru aja lu...     0   \n",
       "3  Kampusnya adem, Semoga Telkom University menin...     1   \n",
       "4  salah satu opsi terbaik untuk studi lanjut dib...     5   \n",
       "\n",
       "                                        profile_link  \\\n",
       "0  https://www.google.com/maps/contrib/1034726887...   \n",
       "1  https://www.google.com/maps/contrib/1108099954...   \n",
       "2  https://www.google.com/maps/contrib/1128806356...   \n",
       "3  https://www.google.com/maps/contrib/1140136287...   \n",
       "4  https://www.google.com/maps/contrib/1163780667...   \n",
       "\n",
       "                                         review_link  \n",
       "0  https://www.google.com/maps/reviews/@-7.311065...  \n",
       "1  https://www.google.com/maps/reviews/@-7.311065...  \n",
       "2  https://www.google.com/maps/reviews/@-7.311065...  \n",
       "3  https://www.google.com/maps/reviews/@-7.311065...  \n",
       "4  https://www.google.com/maps/reviews/@-7.311065...  "
      ]
     },
     "execution_count": 48,
     "metadata": {},
     "output_type": "execute_result"
    }
   ],
   "source": [
    "data = {\n",
    "    'name': names,\n",
    "    'guide_type': guide_types,\n",
    "    'guide_review_count': guide_review_count,\n",
    "    'guide_photo_count': guide_photo_count,\n",
    "    'rating': rating,\n",
    "    'rating_date': rating_dates,\n",
    "    'description': descriptions,\n",
    "    'likes': likes,\n",
    "    'profile_link': profile_links,\n",
    "    'review_link': review_links\n",
    "}\n",
    "\n",
    "df = pd.DataFrame(data)\n",
    "df.head()"
   ]
  },
  {
   "cell_type": "code",
   "execution_count": 49,
   "metadata": {},
   "outputs": [
    {
     "data": {
      "text/plain": [
       "rating_date\n",
       "2 tahun lalu     80\n",
       "setahun lalu     56\n",
       "3 tahun lalu     23\n",
       "4 tahun lalu     14\n",
       "2 bulan lalu     10\n",
       "9 bulan lalu      8\n",
       "3 bulan lalu      8\n",
       "5 tahun lalu      7\n",
       "8 bulan lalu      7\n",
       "5 bulan lalu      6\n",
       "6 tahun lalu      6\n",
       "sebulan lalu      6\n",
       "4 bulan lalu      6\n",
       "6 bulan lalu      4\n",
       "10 bulan lalu     4\n",
       "seminggu lalu     2\n",
       "3 minggu lalu     2\n",
       "7 bulan lalu      2\n",
       "2 minggu lalu     1\n",
       "4 minggu lalu     1\n",
       "11 bulan lalu     1\n",
       "Name: count, dtype: int64"
      ]
     },
     "execution_count": 49,
     "metadata": {},
     "output_type": "execute_result"
    }
   ],
   "source": [
    "df['rating_date'].value_counts()"
   ]
  },
  {
   "cell_type": "code",
   "execution_count": 50,
   "metadata": {},
   "outputs": [],
   "source": [
    "df.to_csv('gugel_mep.csv', index=False)"
   ]
  },
  {
   "cell_type": "markdown",
   "metadata": {},
   "source": [
    "# Note: Pay attention to the language you use (to select and filtering data)"
   ]
  },
  {
   "cell_type": "code",
   "execution_count": 51,
   "metadata": {},
   "outputs": [],
   "source": [
    "import matplotlib.pyplot as plt\n",
    "import seaborn as sns"
   ]
  },
  {
   "cell_type": "code",
   "execution_count": 52,
   "metadata": {},
   "outputs": [
    {
     "name": "stdout",
     "output_type": "stream",
     "text": [
      "<class 'pandas.core.frame.DataFrame'>\n",
      "RangeIndex: 254 entries, 0 to 253\n",
      "Data columns (total 10 columns):\n",
      " #   Column              Non-Null Count  Dtype \n",
      "---  ------              --------------  ----- \n",
      " 0   name                254 non-null    object\n",
      " 1   guide_type          254 non-null    object\n",
      " 2   guide_review_count  245 non-null    object\n",
      " 3   guide_photo_count   185 non-null    object\n",
      " 4   rating              254 non-null    object\n",
      " 5   rating_date         254 non-null    object\n",
      " 6   description         254 non-null    object\n",
      " 7   likes               254 non-null    object\n",
      " 8   profile_link        254 non-null    object\n",
      " 9   review_link         254 non-null    object\n",
      "dtypes: object(10)\n",
      "memory usage: 20.0+ KB\n"
     ]
    },
    {
     "data": {
      "image/png": "[encoded data removed]",
      "text/plain": [
       "<Figure size 800x600 with 1 Axes>"
      ]
     },
     "metadata": {},
     "output_type": "display_data"
    }
   ],
   "source": [
    "# Step 1: Basic Info and Summary\n",
    "df_info = df.info()\n",
    "df_summary = df.describe(include='all')\n",
    "\n",
    "# Step 2: Guide Type Distribution\n",
    "guide_type_counts = df['guide_type'].value_counts()\n",
    "\n",
    "# Step 3: Rating Distribution Plot\n",
    "plt.figure(figsize=(8, 6))\n",
    "sns.histplot(df['rating'], bins=5, kde=True)\n",
    "plt.title('Rating Distribution')\n",
    "plt.xlabel('Rating')\n",
    "plt.ylabel('Frequency')\n",
    "plt.show()"
   ]
  },
  {
   "cell_type": "code",
   "execution_count": 53,
   "metadata": {},
   "outputs": [],
   "source": [
    "from datetime import datetime, timedelta\n",
    "import numpy as np\n",
    "\n",
    "# Function to parse relative time expressions\n",
    "def normalize_rating_date(date_str):\n",
    "    if 'setahun lalu' in date_str:\n",
    "        return datetime.now() - timedelta(days=365)\n",
    "    elif 'sebulan lalu' in date_str:\n",
    "        return datetime.now() - timedelta(days=30)\n",
    "    elif 'seminggu lalu' in date_str:\n",
    "        return datetime.now() - timedelta(weeks=1)\n",
    "    elif 'sehari lalu' in date_str:\n",
    "        return datetime.now() - timedelta(days=1)\n",
    "    elif 'tahun lalu' in date_str:\n",
    "        years_ago = int(date_str.split()[0])\n",
    "        return datetime.now() - timedelta(days=years_ago * 365)\n",
    "    elif 'bulan lalu' in date_str:\n",
    "        months_ago = int(date_str.split()[0])\n",
    "        return datetime.now() - timedelta(days=months_ago * 30)\n",
    "    elif 'minggu lalu' in date_str:\n",
    "        weeks_ago = int(date_str.split()[0])\n",
    "        return datetime.now() - timedelta(weeks=weeks_ago)\n",
    "    elif 'hari lalu' in date_str:\n",
    "        days_ago = int(date_str.split()[0])\n",
    "        return datetime.now() - timedelta(days=days_ago)\n",
    "    else:\n",
    "        return np.nan  # Set NaN for unparseable dat\n",
    "    \n",
    "# Apply normalization function to rating_date\n",
    "df['normalized_rating_date'] = df['rating_date'].apply(normalize_rating_date)\n"
   ]
  },
  {
   "cell_type": "code",
   "execution_count": 54,
   "metadata": {},
   "outputs": [
    {
     "data": {
      "text/plain": [
       "0   2023-10-27 11:05:37.379183\n",
       "1   2024-04-29 11:05:37.379183\n",
       "2   2024-10-12 11:05:37.379183\n",
       "3   2024-08-27 11:05:37.379183\n",
       "4   2023-10-27 11:05:37.379183\n",
       "Name: normalized_rating_date, dtype: datetime64[ns]"
      ]
     },
     "execution_count": 54,
     "metadata": {},
     "output_type": "execute_result"
    }
   ],
   "source": [
    "df['normalized_rating_date'].head()"
   ]
  },
  {
   "cell_type": "code",
   "execution_count": 55,
   "metadata": {},
   "outputs": [
    {
     "data": {
      "image/png": "[encoded data removed]",
      "text/plain": [
       "<Figure size 1000x600 with 1 Axes>"
      ]
     },
     "metadata": {},
     "output_type": "display_data"
    }
   ],
   "source": [
    "# Calculate the difference in days from today\n",
    "df['days_diff'] = (datetime.now() - df['normalized_rating_date']).dt.days\n",
    "\n",
    "# Define bins and labels for the specified intervals\n",
    "bins = [0, 7, 30, 90, 180, 365, float('inf')]\n",
    "labels = ['<1 minggu', '<1 bulan', '<3 bulan', '<6 bulan', '<12 bulan', '>12 bulan']\n",
    "\n",
    "# Create a new column with the binned categories\n",
    "df['time_category'] = pd.cut(df['days_diff'], bins=bins, labels=labels)\n",
    "\n",
    "# Count the number of reviews in each category\n",
    "time_category_counts = df['time_category'].value_counts().sort_index()\n",
    "\n",
    "# Plot the results\n",
    "plt.figure(figsize=(10, 6))\n",
    "time_category_counts.plot(kind='bar', color='lightgreen')\n",
    "plt.title('Review Counts by Time Interval')\n",
    "plt.xlabel('Time Interval')\n",
    "plt.ylabel('Number of Reviews')\n",
    "plt.xticks(rotation=45)\n",
    "plt.show()"
   ]
  },
  {
   "cell_type": "code",
   "execution_count": 60,
   "metadata": {},
   "outputs": [
    {
     "data": {
      "image/png": "[encoded data removed]",
      "text/plain": [
       "<Figure size 800x600 with 1 Axes>"
      ]
     },
     "metadata": {},
     "output_type": "display_data"
    }
   ],
   "source": [
    "from googletrans import Translator\n",
    "from textblob import TextBlob\n",
    "import pandas as pd\n",
    "import matplotlib.pyplot as plt\n",
    "\n",
    "# Initialize the translator\n",
    "translator = Translator()\n",
    "\n",
    "# Function to translate text to English and classify sentiment\n",
    "def classify_sentiment(text):\n",
    "    try:\n",
    "        # Translate to English\n",
    "        translated_text = translator.translate(text, dest='en').text\n",
    "        analysis = TextBlob(translated_text)\n",
    "        # Classify sentiment\n",
    "        if analysis.sentiment.polarity > 0:\n",
    "            return \"Positive\"\n",
    "        elif analysis.sentiment.polarity == 0:\n",
    "            return \"Neutral\"\n",
    "        else:\n",
    "            return \"Negative\"\n",
    "    except Exception as e:\n",
    "        print(f\"Translation error for text: {text} - {e}\")\n",
    "        return \"Neutral\"\n",
    "\n",
    "# Apply the function to the 'description' column\n",
    "df['sentiment'] = df['description'].apply(classify_sentiment)\n",
    "\n",
    "# Count the occurrences of each sentiment\n",
    "sentiment_counts = df['sentiment'].value_counts()\n",
    "\n",
    "# Plot the sentiment distribution\n",
    "plt.figure(figsize=(8, 6))\n",
    "sentiment_counts.plot(kind='bar', color=['blue', 'grey', 'red'])\n",
    "plt.title(\"Sentiment Distribution of Reviews\")\n",
    "plt.xlabel(\"Sentiment\")\n",
    "plt.ylabel(\"Count of Reviews\")\n",
    "plt.xticks(rotation=0)\n",
    "plt.show()\n"
   ]
  },
  {
   "cell_type": "markdown",
   "metadata": {},
   "source": [
    "# How to Easy Scrapping Website?\n",
    "# `Understand the Structure of Website (Inspect Element is the Key :>)`"
   ]
  },
  {
   "cell_type": "markdown",
   "metadata": {},
   "source": [
    "### Build by Whisnumurty Galih Ananta\n",
    "\n",
    "### Find me  \n",
    "- [LinkedIn](https://www.linkedin.com/in/whisnumurtyga/)\n",
    "- [GitHub](https://github.com/whisnumurtyga)"
   ]
  },
  {
   "cell_type": "markdown",
   "metadata": {},
   "source": []
  }
 ],
 "metadata": {
  "kernelspec": {
   "display_name": "bangkitcourse",
   "language": "python",
   "name": "python3"
  },
  "language_info": {
   "codemirror_mode": {
    "name": "ipython",
    "version": 3
   },
   "file_extension": ".py",
   "mimetype": "text/x-python",
   "name": "python",
   "nbconvert_exporter": "python",
   "pygments_lexer": "ipython3",
   "version": "3.9.19"
  }
 },
 "nbformat": 4,
 "nbformat_minor": 2
}
