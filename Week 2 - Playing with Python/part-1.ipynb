{
  "cells": [
    {
      "cell_type": "markdown",
      "id": "547dd748",
      "metadata": {
        "id": "547dd748"
      },
      "source": [
        "## Introduction to Python\n"
      ]
    },
    {
      "cell_type": "markdown",
      "id": "8601f5c2",
      "metadata": {
        "id": "8601f5c2"
      },
      "source": [
        "##### Python adalah bahasa pemrograman yang populer. Bahasa ini dibuat oleh Guido van Rossum, dan dirilis pada tahun 1991.\n",
        "Biasanya digunakan untuk :\n",
        "- pengembangan web (sisi server)\n",
        "- penembangan pernagkat lunak\n",
        "\n"
      ]
    },
    {
      "cell_type": "code",
      "execution_count": null,
      "id": "aedf8ad9",
      "metadata": {
        "id": "aedf8ad9",
        "outputId": "b43b6fa1-e5a3-48fc-b057-e6f4dcffe6dc"
      },
      "outputs": [
        {
          "name": "stdout",
          "output_type": "stream",
          "text": [
            "Hello World !\n"
          ]
        }
      ],
      "source": [
        "## Contoh\n",
        "print(\"Hello World !\")"
      ]
    },
    {
      "cell_type": "markdown",
      "id": "ccc62bdb",
      "metadata": {
        "id": "ccc62bdb"
      },
      "source": [
        "## Dasar Pemrogaman"
      ]
    },
    {
      "cell_type": "markdown",
      "id": "4573b5f2",
      "metadata": {
        "id": "4573b5f2"
      },
      "source": [
        "##### - Variabel\n",
        "-> tempat menyimpan data, sedangkan tipe data adalah jenis data yang tersimpan dalam variabel. Variabel bersifat mutable, artinya nilainya bisa berubah-ubah."
      ]
    },
    {
      "cell_type": "code",
      "execution_count": null,
      "id": "d5d8050b",
      "metadata": {
        "id": "d5d8050b",
        "outputId": "246224fb-ec99-4d08-f5d8-ef5ce2233e41"
      },
      "outputs": [
        {
          "name": "stdout",
          "output_type": "stream",
          "text": [
            "String\n",
            "Data Engineering\n"
          ]
        }
      ],
      "source": [
        "## Contoh\n",
        "variabel = \"String\"\n",
        "ini_interger = \"Data Engineering\"\n",
        "print(variabel)\n",
        "print(ini_interger)"
      ]
    },
    {
      "cell_type": "markdown",
      "id": "58718e13",
      "metadata": {
        "id": "58718e13"
      },
      "source": [
        "##### Tipe Data\n",
        "-> jenis-jenis nilai yang dapat ditampung oleh variabel. Python sendiri mempunyai tipe data yang cukup unik bila kita bandingkan dengan bahasa pemrograman yang lain.\n",
        "Macam-macam Tipe Data dalam Python :\n",
        "1. Tipe Data Angka\n",
        "    - int(integer) : bilangan bulat, contoh : 32, 22, 12, 10, dsb.\n",
        "    - float(floating point): bilangan real, contoh : 1.3, 4.2, 22.3, dsb.\n",
        "2. Tipe Data Teks\n",
        "    - char (character): Karakter, contoh 'R'.\n",
        "    - str (string): Kumpulan karakter, contoh \"aku lagi makan\".\n",
        "3. Tipe Data Boolean\n",
        "    - tipe data yang hanya memiliki dua nilai yaitu True dan False atau 0 dan 1."
      ]
    },
    {
      "cell_type": "code",
      "execution_count": null,
      "id": "b93e6cc5",
      "metadata": {
        "id": "b93e6cc5",
        "outputId": "b6da3555-8ab0-4b75-bb77-3e75ab8b0d99"
      },
      "outputs": [
        {
          "name": "stdout",
          "output_type": "stream",
          "text": [
            "<class 'int'>\n",
            "<class 'str'>\n"
          ]
        }
      ],
      "source": [
        "## Contoh\n",
        "x = 5\n",
        "y = \"John\"\n",
        "print(type(x))\n",
        "print(type(y))"
      ]
    },
    {
      "cell_type": "code",
      "execution_count": null,
      "id": "b382e067",
      "metadata": {
        "id": "b382e067",
        "outputId": "e4f68285-d794-40b4-dd9f-f9d4d28d97eb",
        "colab": {
          "base_uri": "https://localhost:8080/"
        }
      },
      "outputs": [
        {
          "output_type": "stream",
          "name": "stdout",
          "text": [
            "True\n",
            "True\n"
          ]
        }
      ],
      "source": [
        "x = \"Hello\"\n",
        "y = 15\n",
        "\n",
        "print(bool(x))\n",
        "print(bool(y))"
      ]
    },
    {
      "cell_type": "code",
      "execution_count": null,
      "id": "baef629a",
      "metadata": {
        "id": "baef629a",
        "outputId": "c0b376e3-e012-4309-ddae-38ae1f500f88"
      },
      "outputs": [
        {
          "name": "stdout",
          "output_type": "stream",
          "text": [
            "b is not greater than a\n"
          ]
        }
      ],
      "source": [
        "a = 500\n",
        "b = 33\n",
        "\n",
        "if b > a:\n",
        "  print(\"b is greater than a\")\n",
        "else:\n",
        "  print(\"b is not greater than a\")"
      ]
    },
    {
      "cell_type": "code",
      "execution_count": null,
      "id": "c7456561",
      "metadata": {
        "id": "c7456561",
        "outputId": "0e68ebdf-bc68-47ff-8eb9-8b0af1f583c1"
      },
      "outputs": [
        {
          "name": "stdout",
          "output_type": "stream",
          "text": [
            "Nama :  Hartono\n",
            "Alamat :  Mataram\n",
            "Umur :  19\n",
            "Tinggi :  170.5\n",
            "Status: belum menikah\n"
          ]
        }
      ],
      "source": [
        "# membuat variabel beserta isinya (nilainya)\n",
        "nama = \"Hartono\"\n",
        "alamat = 'Mataram'\n",
        "umur = 19\n",
        "tinggi = 170.5\n",
        "menikah = False\n",
        "# mencetak isi variabel\n",
        "print (\"Nama : \", nama)\n",
        "print (\"Alamat : \", alamat)\n",
        "print (\"Umur : \", umur)\n",
        "print (\"Tinggi : \", tinggi)\n",
        "if(menikah):\n",
        "    print (\"Status: menikah\")\n",
        "else:\n",
        "    print (\"Status: belum menikah\")"
      ]
    },
    {
      "cell_type": "markdown",
      "id": "f0c175a2",
      "metadata": {
        "id": "f0c175a2"
      },
      "source": [
        "## Operator Dasar"
      ]
    },
    {
      "cell_type": "markdown",
      "id": "a418d610",
      "metadata": {
        "id": "a418d610"
      },
      "source": [
        "-> simbol-simbol yang digunakan untuk melakukan operasi tertentu.\n",
        "Jenis-jenis operator :\n",
        "1. Operator Aritmatika\n",
        "    - Penjumlahan (+), ex : 1 + 3 = 4.\n",
        "    - Pengurangan (-), ex :\t4 - 1 = 3.\n",
        "    - Perkalian (*), ex : 2 * 4 = 8.\n",
        "    - Pembagian (/), ex : 10 / 5 = 2.\n",
        "    - Sisa Bagi (%), ex : 11 % 2 = 1.\n",
        "    - Pangkat (**), ex : 8 ** 2 = 64.\n",
        "    - Pembagian Floor (//), ex : 10 // 3 = 3.\n",
        "2. Operator Pembanding/Relasi\n",
        "    - Sama dengan (==), ex : 1==1.\n",
        "    - Tidak sama dengan (!=), ex : 2!=2.\n",
        "    - Tidak sama dengan (<>), ex : 2<>2.\n",
        "    - Lebih besar dari (>), ex : 5>3.\n",
        "    - Lebih kecil dari (<), ex : 3<5.\n",
        "    - Lebih besar atau sama dengan (>=), ex : 5 >= 3.\n",
        "    - Levih kecil atau sama dengan (<=), ex : 3 <= 5.\n",
        "3. Operator Penugasan\n",
        "    - Sama dengan (=), ex : a=1\n",
        "    - Tambah sama dengan (+=), ex : a += 2.\n",
        "    - Kurang sama dengan (-=), ex : a -= 2.\n",
        "    - Kali sama dengan (*=), ex : a*= 2.\n",
        "    - Bagi sama dengan (/=), ex : a/=4.\n",
        "    - Sisa bagi sama dengan (%=), ex : a %= 3.\n",
        "    - Pangkat sama dengan (**=), ex : a **= 3.\n",
        "    - Pembagian bulat sama dengan (//=), ex : a //= 3.\n",
        "4. Opeartor Logika\n",
        "    - and -> Mengembalikan True jika dua statement sama-sama benar, ex : True and True.\n",
        "    - or _> Mengembalikan True jika salah satu statement bernilai benar, ex : 2 > 5 or 1 < 3.\n",
        "    - not -> Menegaskan hasil. True menjadi False dan sebaliknya, ex : not(1 > 5).\n",
        "5. Operator Bitwise\n",
        "    - (&) ->\tBitwise AND\tMengembalikan bit 1 jika dua bit bernilai 1.\n",
        "    - (\\) ->\tBitwise OR\tMengembalikan bit 1 jika setidaknya salah satu bit bernilai 1.\n",
        "    - (^) ->\tBitwise XOR\tMengembalikan bit 1 jika hanya jika satu bit saja yang bernilai 1.\n",
        "    - (-) ->\tBitwise NOT\tMembalikkan semua bit.\n",
        "    - (>>) ->\tBitwise right shift\tMenggeser bit ke kanan dengan mendorong salinan digit sebelah kiri dan membiarkan digit sebalah kanan terlepas.\n",
        "    - (<<) ->\tBitwise left shift\tMenggeser bit ke kiri dengan mendorong digit 0 dan membiarkan bit paling kiri terlepas.\n",
        "6. Operator Ternary"
      ]
    },
    {
      "cell_type": "code",
      "execution_count": null,
      "id": "dd1e29e1",
      "metadata": {
        "id": "dd1e29e1",
        "colab": {
          "base_uri": "https://localhost:8080/"
        },
        "outputId": "401b5d4e-559c-4160-dd19-34dbeae4f04e"
      },
      "outputs": [
        {
          "output_type": "stream",
          "name": "stdout",
          "text": [
            "10 + 3 = 13\n",
            "10 - 3 = 7\n",
            "10 * 3 = 30\n",
            "10 / 3 = 3.3333333333333335\n",
            "10 % 3 = 1\n",
            "10 ** 3 = 1000\n",
            "10 // 3 = 3\n"
          ]
        }
      ],
      "source": [
        "## Contoh Aritmatika\n",
        "a, b = 10, 3\n",
        "\n",
        "print(a, '+', b, '=', a + b)\n",
        "print(a, '-', b, '=', a - b)\n",
        "print(a, '*', b, '=', a * b)\n",
        "print(a, '/', b, '=', a / b)\n",
        "print(a, '%', b, '=', a % b)\n",
        "print(a, '**', b, '=', a ** b)\n",
        "print(a, '//', b, '=', a //b)"
      ]
    },
    {
      "cell_type": "code",
      "execution_count": null,
      "id": "1b3a56ea",
      "metadata": {
        "id": "1b3a56ea",
        "colab": {
          "base_uri": "https://localhost:8080/"
        },
        "outputId": "ad88d4cb-574e-4268-90a3-061d5e044113"
      },
      "outputs": [
        {
          "output_type": "stream",
          "name": "stdout",
          "text": [
            "5 > 10 = False\n",
            "5 < 10 = True\n",
            "5 == 10 = False\n",
            "5 != 10 = True\n",
            "5 >= 10 = False\n",
            "5 <= 10 = True\n"
          ]
        }
      ],
      "source": [
        "## Contoh Pembanding/Relasi\n",
        "a, b = 5, 10\n",
        "\n",
        "print(a, '>', b, '=', a > b)\n",
        "print(a, '<', b, '=', a < b)\n",
        "print(a, '==', b, '=', a == b)\n",
        "print(a, '!=', b, '=', a != b)\n",
        "print(a, '>=', b, '=', a >= b)\n",
        "print(a, '<=', b, '=', a <= b)"
      ]
    },
    {
      "cell_type": "code",
      "execution_count": null,
      "id": "dc5a1531",
      "metadata": {
        "id": "dc5a1531",
        "colab": {
          "base_uri": "https://localhost:8080/"
        },
        "outputId": "e8037cff-9626-4526-9051-fbbac869b1e8"
      },
      "outputs": [
        {
          "output_type": "stream",
          "name": "stdout",
          "text": [
            "a = 10 ->  10\n",
            "a += 5 ->  15\n",
            "a -= 3 ->  12\n",
            "a *= 6 ->  72\n",
            "a /= 8 ->  9.0\n",
            "a %= 9 ->  0\n",
            "a //= 6 ->  0\n",
            "a **= 1 ->  0\n"
          ]
        }
      ],
      "source": [
        "## Contoh Penugasan\n",
        "# penugasan pertama\n",
        "a = 10\n",
        "print('a = 10 -> ', a)\n",
        "\n",
        "a += 5\n",
        "print('a += 5 -> ', a)\n",
        "\n",
        "a -= 3\n",
        "print('a -= 3 -> ', a)\n",
        "\n",
        "a *= 6\n",
        "print('a *= 6 -> ', a)\n",
        "\n",
        "a /= 8\n",
        "print('a /= 8 -> ', a)\n",
        "\n",
        "# karena a jadi float, kita ubah lagi menjadi integer\n",
        "a = int(a)\n",
        "\n",
        "a %= 9\n",
        "print('a %= 9 -> ', a)\n",
        "\n",
        "a //= 6\n",
        "print('a //= 6 -> ', a)\n",
        "\n",
        "a **= 1\n",
        "print('a **= 1 -> ', a)"
      ]
    },
    {
      "cell_type": "code",
      "execution_count": null,
      "id": "c2d4c4b5",
      "metadata": {
        "id": "c2d4c4b5",
        "colab": {
          "base_uri": "https://localhost:8080/"
        },
        "outputId": "d43be972-bc7b-4793-b3d6-29d6c445aba8"
      },
      "outputs": [
        {
          "output_type": "stream",
          "name": "stdout",
          "text": [
            "True\n",
            "True\n",
            "----\n",
            "False\n",
            "True\n",
            "----\n",
            "True\n",
            "False\n"
          ]
        }
      ],
      "source": [
        "## Contoh Logika\n",
        "print(True and True)\n",
        "print(1 + 2 == 3 and True)\n",
        "print('----')\n",
        "print(False or 1 > 5)\n",
        "print(False or 5 > 2)\n",
        "print('----')\n",
        "print(not(1 > 5))\n",
        "print(not(1 < 5))"
      ]
    },
    {
      "cell_type": "code",
      "execution_count": null,
      "id": "3baeca1b",
      "metadata": {
        "id": "3baeca1b",
        "colab": {
          "base_uri": "https://localhost:8080/"
        },
        "outputId": "f1e821c7-e0d4-4205-8da4-79dcb8204bdf"
      },
      "outputs": [
        {
          "output_type": "stream",
          "name": "stdout",
          "text": [
            "a = 1 = 00000001\n",
            "b = 64 = 01000000 \n",
            "\n",
            "[and]\n",
            "a & b = 0\n",
            "00000001 & 01000000 = 00000000 \n",
            "\n",
            "[or]\n",
            "a | b = 65\n",
            "00000001 | 01000000 = 01000001 \n",
            "\n",
            "[xor]\n",
            "a ^ b = 65\n",
            "00000001 ^ 01000000 = 01000001 \n",
            "\n",
            "[not]\n",
            "~a ~b = -2 -65\n",
            "~00000001 ~01000000 = -0000010 -1000001 \n",
            "\n",
            "[shift right]\n",
            "a >> b = 0\n",
            "00000001 >> 01000000 = 00000000 \n",
            "\n",
            "[shift left]\n",
            "b << a = 128\n",
            "01000000 << 00000001 = 10000000 \n",
            "\n"
          ]
        }
      ],
      "source": [
        "## Contoh Bitwise\n",
        "a = 1\n",
        "b = 64\n",
        "\n",
        "print('a =', a, '=', format(a, '08b'))\n",
        "print('b =', b, '=', format(b, '08b'), '\\n')\n",
        "\n",
        "print('[and]')\n",
        "print('a & b =', a & b)\n",
        "print(format(a, '08b'), '&', format(b, '08b'), '=', format(a & b, '08b'), '\\n')\n",
        "\n",
        "print('[or]')\n",
        "print('a | b =', a | b)\n",
        "print(format(a, '08b'), '|', format(b, '08b'), '=', format(a | b, '08b'), '\\n')\n",
        "\n",
        "print('[xor]')\n",
        "print('a ^ b =', a ^ b)\n",
        "print(format(a, '08b'), '^', format(b, '08b'), '=', format(a ^ b, '08b'), '\\n')\n",
        "\n",
        "print('[not]')\n",
        "print('~a ~b =', ~a, ~b)\n",
        "print('~' + format(a, '08b'), '~' + format(b, '08b'), '=', format(~a, '08b'), format(~b, '08b'), '\\n')\n",
        "\n",
        "print('[shift right]')\n",
        "print('a >> b =', a >> b)\n",
        "print(format(a, '08b'), '>>', format(b, '08b'), '=', format(a >> b, '08b'), '\\n')\n",
        "\n",
        "print('[shift left]')\n",
        "print('b << a =', b << a)\n",
        "print(format(b, '08b'), '<<', format(a, '08b'), '=', format(b << a, '08b'), '\\n')"
      ]
    },
    {
      "cell_type": "code",
      "execution_count": null,
      "id": "7855702c",
      "metadata": {
        "id": "7855702c"
      },
      "outputs": [],
      "source": [
        "## Contoh Ternary"
      ]
    },
    {
      "cell_type": "markdown",
      "id": "d196b614",
      "metadata": {
        "id": "d196b614"
      },
      "source": [
        "## Percabangan\n",
        "- > control flow (selain percabangan, ada juga perulangan), yaitu cara kita mengatur jalannya perintah dan pemanggilan fungsi dalam suatu program.\n",
        "Dalam bahasa Python, percabangan dapat dituliskan menggunakan syntax utama if, elif, dan else dengan format sebagai berikut:\n",
        "\n",
        "- if condition1:\n",
        "    - statement1\n",
        "- elif condition2:\n",
        "    - statement2\n",
        "- elif condition3:\n",
        "    - statement3\n",
        "- else:\n",
        "    - statement4"
      ]
    },
    {
      "cell_type": "markdown",
      "source": [
        "### Percabangan 'If'\n",
        "->  single alternative selection, karena hanya memiliki satu pilihan keputusan.\n",
        "1. Jika kondisi pada if bernilai True, maka perintah di dalamnya akan dieksekusi.\n",
        "2. Jika kondisi pada if bernilai False, maka perintah di dalamnya tidak akan dieksekusi.\n",
        "Python mendukung kondisi logika yang biasa dari matematika:\n",
        "  - Sama dengan: a == b\n",
        "  - Tidak Sama dengan: a != b\n",
        "  - Kurang dari: a < b\n",
        "  - Kurang dari atau sama dengan: a <= b\n",
        "  - Lebih besar dari: a > b\n",
        "  - Lebih besar dari atau sama dengan: a >= b\n",
        "\n",
        "### Percabangan 'If-Else'\n",
        "-> dual alternative selection, karena memiliki dua pilihan keputusan.\n",
        "  - Jika kondisi pada if bernilai True, maka perintah di dalam if tersebut akan dieksekusi.\n",
        "  - Jika kondisi pada if bernilai false, maka perintah di dalam else akan dieksekusi.\n",
        "\n",
        "### Percabangan 'If-Elif-Else'\n",
        "-> multiple alternative selection, karena memiliki lebih dari dua pilihan keputusan. Sebagai pengetahuan tambahan, kepanjangan dari elif adalah 'else if'.\n",
        "\n",
        "  - Jika kondisi pada if bernilai True, maka perintah di dalam if tersebut akan dieksekusi.\n",
        "  - Jika kondisi pada if bernilai False, maka kondisi dalam elif akan diperiksa.\n",
        "  - Jika kondisi dalam elif bernilai True, maka perintah di dalamnya akan dieksekusi. Apabila bernilai False, maka sequence selanjutnya akan dijalankan (apabila sequence selanjutnya adalah elif juga, maka ulangi langkah yang sama untuk elif tersebut).\n",
        "  - Apabila statement else ditambahkan di akhir, maka perintah di dalamnya akan dieksekusi ketika semua kondisi di dalam if dan elif sudah diperiksa dan semuanya bernilai False.\n",
        "\n",
        "### Percabangan Bersarang (Nested Conditional)\n",
        "-> kasus ketika ada percabangan di dalam suatu percabangan. Kasus ini akan terjadi apabila terdapat percabangan lain di dalam perintah dari suatu percabangan.\n"
      ],
      "metadata": {
        "id": "wCzZbB3mGk-a"
      },
      "id": "wCzZbB3mGk-a"
    },
    {
      "cell_type": "code",
      "source": [
        "## Contoh Percabangan 'If'\n",
        "nilai = int(input(\"Masukkan Nilai Mahasiswa: \"))\n",
        "\n",
        "if nilai > 80:\n",
        "    print(\"Predikat A\")\n",
        "print(\"Program telah selesai dijalankan\")"
      ],
      "metadata": {
        "colab": {
          "base_uri": "https://localhost:8080/"
        },
        "id": "XalE4cAmGjhj",
        "outputId": "223e690f-f158-4207-ea4a-7062a0d5f0a7"
      },
      "id": "XalE4cAmGjhj",
      "execution_count": null,
      "outputs": [
        {
          "output_type": "stream",
          "name": "stdout",
          "text": [
            "Masukkan Nilai Mahasiswa: 70\n",
            "Mahasiswa Remidi\n"
          ]
        }
      ]
    },
    {
      "cell_type": "code",
      "execution_count": null,
      "id": "e1bb6082",
      "metadata": {
        "id": "e1bb6082"
      },
      "outputs": [],
      "source": [
        "## Contoh Percabangan 'If-Else'\n",
        "nilai = int(input(\"Masukkan Nilai Mahasiswa: \"))\n",
        "\n",
        "if nilai > 80 and nilai <= 100:\n",
        "    print(\"Predikat A\")\n",
        "else:\n",
        "    print(\"Predikat Bukan A\")\n",
        "print(\"Program telah selesai dijalankan\")"
      ]
    },
    {
      "cell_type": "code",
      "source": [
        "## Contoh Percabangan 'If-Elif-Else'\n",
        "nilai = int(input(\"Masukkan Nilai Mahasiswa: \"))\n",
        "\n",
        "if nilai > 80 and nilai <= 100:\n",
        "    print(\"Predikat A\")\n",
        "elif nilai > 70 and nilai <= 80:\n",
        "    print(\"Predikat B\")\n",
        "elif nilai > 60 and nilai <= 70:\n",
        "    print(\"Predikat C\")\n",
        "elif nilai > 50 and nilai <= 60:\n",
        "    print(\"Predikat D\")\n",
        "elif nilai >= 0 and nilai <= 50:\n",
        "    print(\"Predikat E\")\n",
        "else:\n",
        "    print(\"Nilai tidak valid\")\n",
        "print(\"Program telah selesai dijalankan\")"
      ],
      "metadata": {
        "id": "8e8afyHZzRw0"
      },
      "id": "8e8afyHZzRw0",
      "execution_count": null,
      "outputs": []
    },
    {
      "cell_type": "code",
      "source": [
        "## Contoh Percabangan Bersarang (Nested Conditional)\n",
        "nilai = int(input(\"Masukkan Nilai Mahasiswa: \"))\n",
        "\n",
        "if nilai > 80 and nilai <= 100:\n",
        "    print(\"Predikat A\")\n",
        "    if nilai == 100:\n",
        "        print(\"Selamat! Mahasiswa mendapatkan nilai sempurna!\")\n",
        "    elif nilai == 99:\n",
        "        print(\"Selamat! Nilai mahasiswa nyaris sempurna!\")\n",
        "    else:\n",
        "        print(\"Selamat!\")\n",
        "elif nilai > 70 and nilai <= 80:\n",
        "    print(\"Predikat B\")\n",
        "elif nilai > 60 and nilai <= 70:\n",
        "    print(\"Predikat C\")\n",
        "elif nilai > 50 and nilai <= 60:\n",
        "    print(\"Predikat D\")\n",
        "elif nilai >= 0 and nilai <= 50:\n",
        "    print(\"Predikat E\")\n",
        "else:\n",
        "    print(\"Nilai tidak valid\")\n",
        "print(\"Program telah selesai dijalankan\")"
      ],
      "metadata": {
        "id": "yxdOAb_qzYnG"
      },
      "id": "yxdOAb_qzYnG",
      "execution_count": null,
      "outputs": []
    },
    {
      "cell_type": "markdown",
      "source": [
        "## Perulangan\n",
        "-> dalam bahasa pemrograman berfungsi menyuruh komputer melakukan sesuatu secara berulang-ulang.\n",
        "Terdapat dua jenis perualangan dalam bahasa pemrograman python, yaitu perulangan dengan for dan while.\n",
        "\n",
        "-> Perulangan for disebut counted loop (perulangan yang terhitung). Perulangan for pada bahasa pemrograman Python mempunyai kelebihan yang tidak hanya berdasarkan range bilangan, juga termasuk perulangan terhadap item suatu urutan (list atau string).\n",
        "\n",
        "-> Perulangan while disebut uncounted loop (perulangan yang tak terhitung). Statement while sangat berkaitan dengan variabel boolean, atau logical statement. Karena penentuan kapan suatu blok kode akan diulang-ulang ditinjau dari True or False dari suatu pernyataan logika.\n",
        "\n",
        "-> Perulangan Break\n",
        "Statement break adalah statement yang digunakan untuk menghentikan (break) perulangan for atau while. Statement break memberikan kemampuan baik secara fungsional, efisiensi kode, dan keefektifan dalam menggunakan sumber daya komputasi.\n",
        "\n",
        "-> Perulangan Continue\n",
        "Apabila pada perulangan terdapat suatu kondisi yang menjalankan statement continue maka statement berikut yang berada setelah continue tidak akan dieksekusi pada iterasi tersebut, dan perulangan akan dilanjutkan ke iterasi berikutnya.\n",
        "\n",
        "\n"
      ],
      "metadata": {
        "id": "08Q4UNGznYDu"
      },
      "id": "08Q4UNGznYDu"
    },
    {
      "cell_type": "code",
      "source": [
        "## Contoh Statement For\n",
        "for i in (\"Anaconda\"):\n",
        "    print(i)"
      ],
      "metadata": {
        "id": "9dwMf0DunbS0",
        "colab": {
          "base_uri": "https://localhost:8080/"
        },
        "outputId": "09d5ad6d-4f40-44f7-8053-8d5886dfcd0e"
      },
      "id": "9dwMf0DunbS0",
      "execution_count": null,
      "outputs": [
        {
          "output_type": "stream",
          "name": "stdout",
          "text": [
            "A\n",
            "n\n",
            "a\n",
            "c\n",
            "o\n",
            "n\n",
            "d\n",
            "a\n"
          ]
        }
      ]
    },
    {
      "cell_type": "code",
      "source": [
        "## Contoh penggunaan for untuk list dan tuple :\n",
        "data = ['Ayam', 'Angsa','Burung Puyuh', 'Kalkun', 'Bebek']\n",
        "\n",
        "for i in data:\n",
        "   print(\"Saya punya peliharaan\", i)"
      ],
      "metadata": {
        "colab": {
          "base_uri": "https://localhost:8080/"
        },
        "id": "VJdy-2uF1zmA",
        "outputId": "c091352f-1756-4124-fb13-de52be98455e"
      },
      "id": "VJdy-2uF1zmA",
      "execution_count": null,
      "outputs": [
        {
          "output_type": "stream",
          "name": "stdout",
          "text": [
            "Saya punya peliharaan Ayam\n",
            "Saya punya peliharaan Angsa\n",
            "Saya punya peliharaan Burung Puyuh\n",
            "Saya punya peliharaan Kalkun\n",
            "Saya punya peliharaan Bebek\n"
          ]
        }
      ]
    },
    {
      "cell_type": "code",
      "source": [
        "angka = 5\n",
        "for i in range(1, 6):\n",
        "    print(angka, 'x', i, '=', angka*i)"
      ],
      "metadata": {
        "colab": {
          "base_uri": "https://localhost:8080/"
        },
        "id": "kS8DUprH1z1K",
        "outputId": "3e8f3aaa-2e7d-4e4d-dee7-31c70ff12630"
      },
      "id": "kS8DUprH1z1K",
      "execution_count": null,
      "outputs": [
        {
          "output_type": "stream",
          "name": "stdout",
          "text": [
            "5 x 1 = 5\n",
            "5 x 2 = 10\n",
            "5 x 3 = 15\n",
            "5 x 4 = 20\n",
            "5 x 5 = 25\n"
          ]
        }
      ]
    },
    {
      "cell_type": "code",
      "source": [
        "## Contoh Statement While\n",
        "for baris in range(5):\n",
        "  for kolom in range(6):\n",
        "    print('o', end = ' ')\n",
        "  else:\n",
        "    print('')"
      ],
      "metadata": {
        "colab": {
          "base_uri": "https://localhost:8080/"
        },
        "id": "YGxAWD_q2ZJ_",
        "outputId": "8ee18113-f8af-4c41-8960-834ad72709ba"
      },
      "id": "YGxAWD_q2ZJ_",
      "execution_count": null,
      "outputs": [
        {
          "output_type": "stream",
          "name": "stdout",
          "text": [
            "o o o o o o \n",
            "o o o o o o \n",
            "o o o o o o \n",
            "o o o o o o \n",
            "o o o o o o \n"
          ]
        }
      ]
    },
    {
      "cell_type": "code",
      "source": [
        "string = \"\"\n",
        "bar = 1\n",
        "\n",
        "x = int(input(\"Masukkan angka :\"))\n",
        "\n",
        "# Looping Baris\n",
        "while bar <= x:\n",
        "\tkol = bar\n",
        "\n",
        "\t# Looping Kolom\n",
        "\twhile kol > 0:\n",
        "\t\tstring = string + \" * \"\n",
        "\t\tkol = kol - 1\n",
        "\n",
        "\tstring = string + \"\\n\"\n",
        "\tbar = bar + 1\n",
        "print (string)"
      ],
      "metadata": {
        "colab": {
          "base_uri": "https://localhost:8080/"
        },
        "id": "fTV8-CnQ3BGq",
        "outputId": "a95fd1dd-d0db-4f78-bb42-efa29a770642"
      },
      "id": "fTV8-CnQ3BGq",
      "execution_count": null,
      "outputs": [
        {
          "output_type": "stream",
          "name": "stdout",
          "text": [
            "Masukkan angka :6\n",
            " * \n",
            " *  * \n",
            " *  *  * \n",
            " *  *  *  * \n",
            " *  *  *  *  * \n",
            " *  *  *  *  *  * \n",
            "\n"
          ]
        }
      ]
    },
    {
      "cell_type": "code",
      "source": [
        "## Contoh Statment Break\n",
        "while True:\n",
        "    s = input('Enter something : ')\n",
        "    if s == 'quit':\n",
        "        break\n",
        "    print('Length of the string is', len(s))\n",
        "print('Done')"
      ],
      "metadata": {
        "colab": {
          "base_uri": "https://localhost:8080/"
        },
        "id": "bBXBBHi_3GEd",
        "outputId": "137c8b12-b010-4083-fee0-c12c9eece84c"
      },
      "id": "bBXBBHi_3GEd",
      "execution_count": null,
      "outputs": [
        {
          "output_type": "stream",
          "name": "stdout",
          "text": [
            "Enter something : Heychanda\n",
            "Length of the string is 9\n",
            "Enter something : Icha\n",
            "Length of the string is 4\n",
            "Enter something : Done\n",
            "Length of the string is 4\n",
            "Enter something : quit\n",
            "Done\n"
          ]
        }
      ]
    },
    {
      "cell_type": "code",
      "source": [
        "## Contoh Statement Continue\n",
        "while True:\n",
        "    s = input('Enter something : ')\n",
        "    if s == 'quit':\n",
        "        print('Terima Kasih')\n",
        "        break\n",
        "    elif len(s) < 3:\n",
        "        print('Too small')\n",
        "        continue\n",
        "    print('Input Memiliki panjang yang pas')"
      ],
      "metadata": {
        "colab": {
          "base_uri": "https://localhost:8080/"
        },
        "id": "vG0rLAGC3-A7",
        "outputId": "cb62d889-2297-4953-d80c-d1e2766e9dab"
      },
      "id": "vG0rLAGC3-A7",
      "execution_count": null,
      "outputs": [
        {
          "output_type": "stream",
          "name": "stdout",
          "text": [
            "Enter something : Heychanda\n",
            "Input Memiliki panjang yang pas\n",
            "Enter something : ica\n",
            "Input Memiliki panjang yang pas\n",
            "Enter something : ya\n",
            "Too small\n",
            "Enter something : quit\n",
            "Terima Kasih\n"
          ]
        }
      ]
    },
    {
      "cell_type": "markdown",
      "source": [
        "## Fungsi\n",
        "->  sebuah barisan kode program yang dapat digunakan berulang-kali dengan cara memanggilnya. Fungsi biasanya membutuhkan input (tapi tidak selalu), melakukan suatu proses, kemudian mengembalikan (return) atau menampilkan hasil prosesnya.\n",
        "1. Gunakan statement def untuk mendefinisikan fungsi, diikuti dengan nama fungsi.\n",
        "2. etelah nama fungsi, tuliskan daftar nama parameter formal (nama variabel sebagai input fungsi) di dalam tanda kurung. Kemudian, diakhiri dengan tanda titik dua ():.\n",
        "3. Badan fungsi (function body) adalah kode program untuk melakukan proses di dalam fungsi.\n",
        "4. Pengembalian nilai (menggunakan statement return) dilakukan secara opsional (sesuaikan dengan proses apa yang ingin dilakukan)."
      ],
      "metadata": {
        "id": "X0etSf37ngCx"
      },
      "id": "X0etSf37ngCx"
    },
    {
      "cell_type": "markdown",
      "source": [
        "### Jenis-jenis fungsi dalam python\n",
        "1. Fungsi dengan pengembalian nilai\n",
        "    -> Suatu fungsi dikatakan mengembalikan nilai apabila memiliki return di dalam badan fungsinya.\n",
        "2. Fungsi tnpa pengembalian nilai\n",
        "    -> Kebalikan dari subbab sebelumnya, fungsi dikatakan tidak mengembalikan nilai apabila tidak memiliki return di dalam badan fungsinya.\n",
        "3. Fungsi dengan Parameter\n",
        "    -> fungsi yang memiliki setidaknya satu parameter sebagai input dari fungsi tersebut (seperti yang dicontohkan beberapa subbab di atas).\n",
        "4. Fungsi dengan Parameter wajib dan atau Opsional\n",
        "    -> arameter wajib adalah parameter yang wajib dikirimkan ke fungsi ketika dipanggil di program utama. Sedangkan, parameter opsional adalah parameter yang boleh tidak dikirimkan ke fungsi ketika dipanggil, namun memiliki syarat bahwa parameter opsional tersebut sudah memiliki nilai default saat didefinisikan.\n",
        "5. Fungsi Rekursif\n",
        "    -> Recursive Case adalah kondisi yang dituliskan pada fungsi rekursif agar memanggil dirinya sendiri.\n",
        "    -> ase Case adalah kondisi yang dituliskan pada fungsi rekursif untuk menghentikan pemanggilan dirinya sendiri. Jika tidak ada, maka akan berjalan terus dan menghabiskan memory.\n",
        "    "
      ],
      "metadata": {
        "id": "eU3bgRJn5O_m"
      },
      "id": "eU3bgRJn5O_m"
    },
    {
      "cell_type": "code",
      "source": [
        "## Contoh Fungsi dengan Pengembalian Nilai\n",
        "def luasSegitiga(alas, tinggi):\n",
        "\tresult = 0.5*alas*tinggi\n",
        "\treturn result\n",
        "\n",
        "hasilLuas = luasSegitiga(10, 10)\n",
        "print(f\"Luas Segitiga: {hasilLuas}\")"
      ],
      "metadata": {
        "colab": {
          "base_uri": "https://localhost:8080/"
        },
        "id": "lYGO1NEW1-0F",
        "outputId": "b9ca28f5-ae02-41e7-a809-a420f3dd7798"
      },
      "id": "lYGO1NEW1-0F",
      "execution_count": null,
      "outputs": [
        {
          "output_type": "stream",
          "name": "stdout",
          "text": [
            "Luas Segitiga: 50.0\n"
          ]
        }
      ]
    },
    {
      "cell_type": "code",
      "source": [
        "## Contoh Fungsi tanpa Pengembalian Nilai\n",
        "def predikatMahasiswa(nilai1, nilai2, nilai3):\n",
        "\trataRata = (nilai1 + nilai2 + nilai3)/3\n",
        "\tif rataRata >= 80 and rataRata <= 100:\n",
        "\t\tprint(\"Selamat, predikat kamu A!\")\n",
        "\telif rataRata >= 60 and rataRata < 80:\n",
        "\t\tprint(\"Predikat kamu B, pertahankan yaa!\")\n",
        "\telif rataRata >= 30 and rataRata < 60:\n",
        "\t\tprint(\"Predikat kamu C, perbaiki ya!\")\n",
        "\telif rataRata >= 0 and rataRata < 30:\n",
        "\t\tprint(\"Mending pulang deck\")\n",
        "\n",
        "nilaiMhs1 = int(input(\"Masukkan nilai pertama: \"))\n",
        "nilaiMhs2 = int(input(\"Masukkan nilai kedua: \"))\n",
        "nilaiMhs3 = int(input(\"Masukkan nilai ketiga: \"))\n",
        "\n",
        "predikatMahasiswa(nilaiMhs1, nilaiMhs2, nilaiMhs3)"
      ],
      "metadata": {
        "id": "H5JdVEEZnhgw",
        "colab": {
          "base_uri": "https://localhost:8080/"
        },
        "outputId": "ae0d0ba9-15a3-405a-bfb5-ee16b712913e"
      },
      "id": "H5JdVEEZnhgw",
      "execution_count": null,
      "outputs": [
        {
          "output_type": "stream",
          "name": "stdout",
          "text": [
            "Masukkan nilai pertama: 50\n",
            "Masukkan nilai kedua: 80\n",
            "Masukkan nilai ketiga: 95\n",
            "Predikat kamu B, pertahankan yaa!\n"
          ]
        }
      ]
    },
    {
      "cell_type": "code",
      "source": [
        "## Contoh Fungsi dengan Parameter\n",
        "def menuUncleMuthu():\n",
        "\tprint(\"=======================\")\n",
        "\tprint(\"Daftar Menu Uncle Muthu\")\n",
        "\tprint(\"=======================\")\n",
        "\tprint(\"1. Teh\")\n",
        "\tprint(\"2. Teh Ice\")\n",
        "\tprint(\"3. Teh Tarik\")\n",
        "\tprint(\"4. Milo Ice\")\n",
        "\n",
        "menuUncleMuthu()"
      ],
      "metadata": {
        "colab": {
          "base_uri": "https://localhost:8080/"
        },
        "id": "ujttjb_86cxj",
        "outputId": "3cd22ac4-6e20-4ebe-fedc-d2926dcd0175"
      },
      "id": "ujttjb_86cxj",
      "execution_count": null,
      "outputs": [
        {
          "output_type": "stream",
          "name": "stdout",
          "text": [
            "=======================\n",
            "Daftar Menu Uncle Muthu\n",
            "=======================\n",
            "1. Teh\n",
            "2. Teh Ice\n",
            "3. Teh Tarik\n",
            "4. Milo Ice\n"
          ]
        }
      ]
    },
    {
      "cell_type": "code",
      "source": [
        "## Contoh Fungsi Rekursif\n",
        "def power(a, n):\n",
        "\tif n > 0: # recursive case\n",
        "\t\treturn a*power(a, n - 1)\n",
        "\telse: # base case\n",
        "\t\treturn 1\n",
        "print(f\"Hasil dari 5 dipangkatkan 4 adalah {power(5, 4)}\")"
      ],
      "metadata": {
        "colab": {
          "base_uri": "https://localhost:8080/"
        },
        "id": "z-r985qy6pzS",
        "outputId": "accd047e-cff2-40e8-e21e-29ff14868a66"
      },
      "id": "z-r985qy6pzS",
      "execution_count": null,
      "outputs": [
        {
          "output_type": "stream",
          "name": "stdout",
          "text": [
            "Hasil dari 5 dipangkatkan 4 adalah 625\n"
          ]
        }
      ]
    },
    {
      "cell_type": "code",
      "source": [],
      "metadata": {
        "id": "lVkcpMd96w0Y"
      },
      "id": "lVkcpMd96w0Y",
      "execution_count": null,
      "outputs": []
    }
  ],
  "metadata": {
    "kernelspec": {
      "display_name": "Python 3 (ipykernel)",
      "language": "python",
      "name": "python3"
    },
    "language_info": {
      "codemirror_mode": {
        "name": "ipython",
        "version": 3
      },
      "file_extension": ".py",
      "mimetype": "text/x-python",
      "name": "python",
      "nbconvert_exporter": "python",
      "pygments_lexer": "ipython3",
      "version": "3.9.12"
    },
    "colab": {
      "provenance": []
    }
  },
  "nbformat": 4,
  "nbformat_minor": 5
}