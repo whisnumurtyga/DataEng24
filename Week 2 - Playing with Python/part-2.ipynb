{
 "cells": [
  {
   "cell_type": "markdown",
   "metadata": {},
   "source": [
    "# `Python Data Structure`"
   ]
  },
  {
   "cell_type": "markdown",
   "metadata": {},
   "source": [
    "# List"
   ]
  },
  {
   "cell_type": "markdown",
   "metadata": {},
   "source": [
    "A list in Python is a mutable, ordered collection of items. It is a versatile data structure that can hold elements of different data types. Lists are defined by enclosing elements in square brackets (`[]`) and separating them with commas.\n",
    "\n",
    "\n",
    "- Lists can contain any type of data, such as integers, floats, strings, or even other lists.\n",
    "- Being ordered means that the elements in a list have a specific order, and they can be accessed by their index.\n",
    "- Mutability allows adding, removing, or modifying elements in a list after its creation.\n"
   ]
  },
  {
   "cell_type": "markdown",
   "metadata": {},
   "source": [
    "### Example"
   ]
  },
  {
   "cell_type": "code",
   "execution_count": 5,
   "metadata": {},
   "outputs": [
    {
     "name": "stdout",
     "output_type": "stream",
     "text": [
      "['Data Engineering', 'Software Development', 'Artificial Intelligence', 'Competitive Programming', 'UI/UX']\n",
      "<class 'list'>\n"
     ]
    }
   ],
   "source": [
    "# List of fruit names\n",
    "fruits = ['apple', 'banana', 'orange', 'grape', 'kiwi', 'mango', 'pineapple']\n",
    "print(fruits)\n",
    "print(type(fruits))"
   ]
  },
  {
   "cell_type": "code",
   "execution_count": 7,
   "metadata": {},
   "outputs": [
    {
     "data": {
      "text/plain": [
       "1"
      ]
     },
     "execution_count": 7,
     "metadata": {},
     "output_type": "execute_result"
    }
   ],
   "source": [
    "divisi = ['Data Engineering', 'Software Development', 'Artificial Intelligence', 'Competitive Programming', 'UI/UX']\n",
    "divisi.index('Software Development') "
   ]
  },
  {
   "cell_type": "code",
   "execution_count": 8,
   "metadata": {},
   "outputs": [
    {
     "name": "stdout",
     "output_type": "stream",
     "text": [
      "['Data Engineering', ['Web Development', 'Mobile Development'], 'Artificial Intelligence', 'Competitive Programming', 'UI/UX']\n"
     ]
    }
   ],
   "source": [
    "soft_dev = ['Web Development', 'Mobile Development']\n",
    "divisi[1] = soft_dev\n",
    "print(divisi)"
   ]
  },
  {
   "cell_type": "markdown",
   "metadata": {},
   "source": [
    "### Using List with Different Data Types"
   ]
  },
  {
   "cell_type": "code",
   "execution_count": 9,
   "metadata": {},
   "outputs": [
    {
     "name": "stdout",
     "output_type": "stream",
     "text": [
      "Element at index 2: apple\n",
      "Element at index 4: [3, 4, 5]\n",
      "Modified list: [1, 10.5, 'apple', True, [3, 4, 5], 'orange']\n"
     ]
    }
   ],
   "source": [
    "mixed_list = [1, 2.5, \"apple\", True, [3, 4, 5]]\n",
    "\n",
    "print(\"Element at index 2:\", mixed_list[2])\n",
    "print(\"Element at index 4:\", mixed_list[4]) \n",
    "\n",
    "mixed_list[1] = 10.5\n",
    "mixed_list.append(\"orange\")\n",
    "print(\"Modified list:\", mixed_list)"
   ]
  },
  {
   "cell_type": "markdown",
   "metadata": {},
   "source": [
    "### Manipulating Matrices with Nested List"
   ]
  },
  {
   "cell_type": "code",
   "execution_count": 10,
   "metadata": {},
   "outputs": [
    {
     "name": "stdout",
     "output_type": "stream",
     "text": [
      "Element at row 2, column 3: 6\n",
      "Modified matrix: [[1, 10, 3], [4, 5, 6], [7, 8, 9, 10]]\n"
     ]
    }
   ],
   "source": [
    "# Matrix represented using nested lists\n",
    "matrix = [\n",
    "    [1, 2, 3],\n",
    "    [4, 5, 6],\n",
    "    [7, 8, 9]\n",
    "]\n",
    "\n",
    "# Accessing elements\n",
    "print(\"Element at row 2, column 3:\", matrix[1][2])\n",
    "\n",
    "# Modifying the matrix\n",
    "matrix[0][1] = 10  # Modifying an element in the matrix\n",
    "matrix[2].append(10)  # Adding a new element to the end of the third row\n",
    "print(\"Modified matrix:\", matrix)"
   ]
  },
  {
   "cell_type": "markdown",
   "metadata": {},
   "source": [
    "### Determining the Length of a List"
   ]
  },
  {
   "cell_type": "code",
   "execution_count": 11,
   "metadata": {},
   "outputs": [
    {
     "name": "stdout",
     "output_type": "stream",
     "text": [
      "Length of the list: 4\n"
     ]
    }
   ],
   "source": [
    "# List with elements\n",
    "fruits = [\"apple\", \"banana\", \"orange\", \"grape\"]\n",
    "\n",
    "# Displaying the length of the list\n",
    "length_of_fruits = len(fruits)\n",
    "print(\"Length of the list:\", length_of_fruits)"
   ]
  },
  {
   "cell_type": "markdown",
   "metadata": {},
   "source": [
    "### Irregular Nested List"
   ]
  },
  {
   "cell_type": "markdown",
   "metadata": {},
   "source": [
    "In Python, nested lists are not restricted to having a perfect matrix-like structure. Lists can contain other lists of different sizes and even elements of different types. This flexibility allows the creation of irregular or jagged nested lists."
   ]
  },
  {
   "cell_type": "code",
   "execution_count": 12,
   "metadata": {},
   "outputs": [
    {
     "name": "stdout",
     "output_type": "stream",
     "text": [
      "Element at index 2: [4, 5, 6]\n",
      "Element at index 4, element 1: orange\n",
      "Modified list: [10, [2, 3], [4, 7, 6], 'apple', ['orange', 8, 9], ['grape', 10, 'kiwi']]\n"
     ]
    }
   ],
   "source": [
    "# Irregular nested list\n",
    "irregular_list = [1, [2, 3], [4, 5, 6], \"apple\", [\"orange\", 8, 9]]\n",
    "\n",
    "# Accessing elements\n",
    "print(\"Element at index 2:\", irregular_list[2])  # Accessing a nested list\n",
    "print(\"Element at index 4, element 1:\", irregular_list[4][0])  # Accessing an element in a nested list\n",
    "\n",
    "# Modifying the list\n",
    "irregular_list[0] = 10  # Modifying an integer\n",
    "irregular_list[2][1] = 7  # Modifying an element in the nested list\n",
    "irregular_list.append([\"grape\", 10, \"kiwi\"])  # Adding a new nested list\n",
    "print(\"Modified list:\", irregular_list)"
   ]
  },
  {
   "cell_type": "markdown",
   "metadata": {},
   "source": [
    "### List Indexing and Slicing"
   ]
  },
  {
   "cell_type": "code",
   "execution_count": 14,
   "metadata": {},
   "outputs": [],
   "source": [
    "# List for indexing and slicing\n",
    "numbers = [0, 1, 2, 3, 4, 5, 6, 7, 8, 9]"
   ]
  },
  {
   "cell_type": "code",
   "execution_count": 15,
   "metadata": {},
   "outputs": [
    {
     "name": "stdout",
     "output_type": "stream",
     "text": [
      "Element at index 3: 3\n",
      "Element at index -2: 8\n"
     ]
    }
   ],
   "source": [
    "# Indexing\n",
    "print(\"Element at index 3:\", numbers[3])       # Positive indexing\n",
    "print(\"Element at index -2:\", numbers[-2])     # Negative indexing"
   ]
  },
  {
   "cell_type": "code",
   "execution_count": 16,
   "metadata": {},
   "outputs": [
    {
     "name": "stdout",
     "output_type": "stream",
     "text": [
      "Sliced elements: [2, 3, 4, 5, 6]\n",
      "Sliced with step: [1, 3, 5, 7]\n",
      "Sliced in reverse: [9, 8, 7, 6, 5, 4, 3, 2, 1, 0]\n"
     ]
    }
   ],
   "source": [
    "# Slicing\n",
    "print(\"Sliced elements:\", numbers[2:7])        # Elements from index 2 to 6\n",
    "print(\"Sliced with step:\", numbers[1:9:2])     # Elements from index 1 to 8 with a step of 2\n",
    "print(\"Sliced in reverse:\", numbers[::-1])     # All elements in reverse order"
   ]
  },
  {
   "cell_type": "markdown",
   "metadata": {},
   "source": [
    "### Manipulating Elements in a List"
   ]
  },
  {
   "cell_type": "code",
   "execution_count": 21,
   "metadata": {},
   "outputs": [],
   "source": [
    "# List for manipulation\n",
    "fruits = [\"apple\", \"banana\", \"orange\", \"grape\"]"
   ]
  },
  {
   "cell_type": "code",
   "execution_count": 22,
   "metadata": {},
   "outputs": [
    {
     "name": "stdout",
     "output_type": "stream",
     "text": [
      "List after adding elements: ['apple', 'banana', 'orange', 'grape', 'kiwi', 'melon', 'pineapple', 'peach', 'mango']\n"
     ]
    }
   ],
   "source": [
    "# Adding elements\n",
    "fruits.append(\"kiwi\")                 # Adding a single element\n",
    "fruits.extend([\"melon\", \"pineapple\"])  # Adding multiple elements\n",
    "fruits += [\"peach\", \"mango\"]           # Another way to add multiple elements\n",
    "\n",
    "# Displaying the modified list\n",
    "print(\"List after adding elements:\", fruits)"
   ]
  },
  {
   "cell_type": "code",
   "execution_count": 23,
   "metadata": {},
   "outputs": [
    {
     "name": "stdout",
     "output_type": "stream",
     "text": [
      "List after removing elements: ['orange', 'kiwi', 'melon', 'pineapple', 'peach', 'mango']\n",
      "Removed element: grape\n"
     ]
    }
   ],
   "source": [
    "# Removing elements\n",
    "fruits.remove(\"banana\")        # Removing a specific element\n",
    "removed_element = fruits.pop(2) # Removing and returning element at index 2\n",
    "del fruits[0]                   # Removing element at index 0\n",
    "\n",
    "# Displaying the modified list\n",
    "print(\"List after removing elements:\", fruits)\n",
    "print(\"Removed element:\", removed_element)"
   ]
  },
  {
   "cell_type": "markdown",
   "metadata": {},
   "source": [
    "### Checking ELement in a List"
   ]
  },
  {
   "cell_type": "code",
   "execution_count": 24,
   "metadata": {},
   "outputs": [],
   "source": [
    "# List for element checks\n",
    "colors = [\"red\", \"blue\", \"green\", \"yellow\", \"orange\"]"
   ]
  },
  {
   "cell_type": "code",
   "execution_count": 30,
   "metadata": {},
   "outputs": [
    {
     "name": "stdout",
     "output_type": "stream",
     "text": [
      "Is 'green' not in the list? False\n",
      "Is 'yellow' not in the list? False\n"
     ]
    }
   ],
   "source": [
    "# Using 'not in' operator\n",
    "print(\"Is 'green' not in the list?\", 'green' not in colors)\n",
    "print(\"Is 'yellow' not in the list?\", 'yellow' not in colors)"
   ]
  },
  {
   "cell_type": "markdown",
   "metadata": {},
   "source": [
    "### Searching for Elements in a List"
   ]
  },
  {
   "cell_type": "code",
   "execution_count": 31,
   "metadata": {},
   "outputs": [
    {
     "name": "stdout",
     "output_type": "stream",
     "text": [
      "Index of 30: 2\n",
      "Element 70 not found in the list.\n"
     ]
    }
   ],
   "source": [
    "# List for searching\n",
    "numbers = [10, 20, 30, 40, 50, 20, 60]\n",
    "\n",
    "# Using 'index()' function\n",
    "index_of_30 = numbers.index(30)\n",
    "print(\"Index of 30:\", index_of_30)\n",
    "\n",
    "# Trying to find the index of a non-existing element\n",
    "try:\n",
    "    index_of_70 = numbers.index(70)\n",
    "    print(\"Index of 70:\", index_of_70)\n",
    "except ValueError:\n",
    "    print(\"Element 70 not found in the list.\")"
   ]
  },
  {
   "cell_type": "markdown",
   "metadata": {},
   "source": [
    "### Sorting a List"
   ]
  },
  {
   "cell_type": "code",
   "execution_count": 32,
   "metadata": {},
   "outputs": [
    {
     "name": "stdout",
     "output_type": "stream",
     "text": [
      "Sorted list using 'sort()': [10, 20, 30, 40, 50]\n",
      "Original list: [10, 20, 30, 40, 50]\n",
      "Sorted list using 'sorted()': [50, 40, 30, 20, 10]\n"
     ]
    }
   ],
   "source": [
    "# List for sorting\n",
    "numbers = [40, 10, 30, 20, 50]\n",
    "\n",
    "# Using 'sort()' method\n",
    "numbers.sort()\n",
    "print(\"Sorted list using 'sort()':\", numbers)\n",
    "\n",
    "# Using 'sorted()' function\n",
    "sorted_numbers = sorted(numbers, reverse=True)\n",
    "print(\"Original list:\", numbers)\n",
    "print(\"Sorted list using 'sorted()':\", sorted_numbers)"
   ]
  },
  {
   "cell_type": "markdown",
   "metadata": {},
   "source": [
    "### Unpacking a List"
   ]
  },
  {
   "cell_type": "code",
   "execution_count": 130,
   "metadata": {},
   "outputs": [
    {
     "name": "stdout",
     "output_type": "stream",
     "text": [
      "Name: John Doe\n"
     ]
    }
   ],
   "source": [
    "# List for unpacking\n",
    "student_info = [\"John Doe\", 20, \"Computer Science\"]\n",
    "\n",
    "# Unpacking the list into variables\n",
    "name, _, _ = student_info\n",
    "\n",
    "# Displaying the unpacked values\n",
    "print(\"Name:\", name)\n",
    "# print(\"Age:\", age)\n",
    "# print(\"Major:\", major)"
   ]
  },
  {
   "cell_type": "markdown",
   "metadata": {},
   "source": [
    "# Tuple"
   ]
  },
  {
   "cell_type": "markdown",
   "metadata": {},
   "source": [
    "A tuple is created by providing identifiers and data, with each data separated by a comma (`,`). The tuple can be enclosed in parentheses `()` for readability, although it's not mandatory.\n",
    "\n",
    "Key characteristics of tuples:\n",
    "- Immutable: Once a tuple is created, its elements cannot be changed or added.\n",
    "- Ordered: Elements in a tuple maintain the order of insertion.\n",
    "- Allows elements of different data types.\n",
    "- Can be nested, allowing the creation of more complex data structures.\n",
    "\n",
    "Tuples are commonly used when you want to represent a collection of items that should remain constant throughout the program."
   ]
  },
  {
   "cell_type": "code",
   "execution_count": 131,
   "metadata": {},
   "outputs": [
    {
     "name": "stdout",
     "output_type": "stream",
     "text": [
      "('apple', 'orange', 'banana', 'grape')\n",
      "(5, 10, 15, 20)\n",
      "(2.5, -1.8, 4.7, 0.3)\n",
      "(False, True, True, False)\n",
      "<class 'tuple'>\n"
     ]
    }
   ],
   "source": [
    "\n",
    "# Creating tuples\n",
    "fruits = 'apple', 'orange', 'banana', 'grape'\n",
    "numbers = 5, 10, 15, 20\n",
    "decimal_numbers = (2.5, -1.8, 4.7, 0.3)\n",
    "conditions = (False, True, True, False)\n",
    "\n",
    "# Displaying tuples\n",
    "print(fruits)\n",
    "print(numbers)\n",
    "print(decimal_numbers)\n",
    "print(conditions)\n",
    "print(type(fruits))"
   ]
  },
  {
   "cell_type": "code",
   "execution_count": 35,
   "metadata": {},
   "outputs": [
    {
     "data": {
      "text/plain": [
       "tuple"
      ]
     },
     "execution_count": 35,
     "metadata": {},
     "output_type": "execute_result"
    }
   ],
   "source": [
    "# Checking the type of 'fruits'\n",
    "type(fruits)"
   ]
  },
  {
   "cell_type": "markdown",
   "metadata": {},
   "source": [
    "### Tuple with Different Type Data "
   ]
  },
  {
   "cell_type": "code",
   "execution_count": 36,
   "metadata": {},
   "outputs": [
    {
     "name": "stdout",
     "output_type": "stream",
     "text": [
      "Mixed tuple: (1, 'two', 3.0, True)\n",
      "Nested tuple: ((1, 2), ('a', 'b'))\n"
     ]
    }
   ],
   "source": [
    "# Tuple with heterogeneous elements\n",
    "mixed_tuple = (1, \"two\", 3.0, True)\n",
    "\n",
    "# Nested tuple\n",
    "nested_tuple = ((1, 2), (\"a\", \"b\"))\n",
    "\n",
    "# Displaying tuples\n",
    "print(\"Mixed tuple:\", mixed_tuple)\n",
    "print(\"Nested tuple:\", nested_tuple)"
   ]
  },
  {
   "cell_type": "markdown",
   "metadata": {},
   "source": [
    "### Convert List to Tuple"
   ]
  },
  {
   "cell_type": "code",
   "execution_count": 37,
   "metadata": {},
   "outputs": [
    {
     "name": "stdout",
     "output_type": "stream",
     "text": [
      "List to Tuple: (1, 2, 3, 4, 5)\n",
      "Tuple to List: ['apple', 'orange', 'banana', 'grape']\n"
     ]
    }
   ],
   "source": [
    "# Converting list to tuple\n",
    "numbers_list = [1, 2, 3, 4, 5]\n",
    "numbers_tuple = tuple(numbers_list)\n",
    "\n",
    "# Converting tuple to list\n",
    "fruits_tuple = ('apple', 'orange', 'banana', 'grape')\n",
    "fruits_list = list(fruits_tuple)\n",
    "\n",
    "# Displaying the results\n",
    "print(\"List to Tuple:\", numbers_tuple)\n",
    "print(\"Tuple to List:\", fruits_list)"
   ]
  },
  {
   "cell_type": "markdown",
   "metadata": {},
   "source": [
    "### Tuple Indexing and Slicing"
   ]
  },
  {
   "cell_type": "code",
   "execution_count": 38,
   "metadata": {},
   "outputs": [
    {
     "name": "stdout",
     "output_type": "stream",
     "text": [
      "First color: red\n",
      "Last color: purple\n",
      "Selected colors: ('green', 'blue', 'yellow')\n"
     ]
    }
   ],
   "source": [
    "# Tuple for indexing and slicing\n",
    "colors_tuple = (\"red\", \"green\", \"blue\", \"yellow\", \"purple\")\n",
    "\n",
    "# Indexing\n",
    "first_color = colors_tuple[0]\n",
    "last_color = colors_tuple[-1]\n",
    "\n",
    "# Slicing\n",
    "selected_colors = colors_tuple[1:4]  # Elements at index 1, 2, 3\n",
    "\n",
    "# Displaying the results\n",
    "print(\"First color:\", first_color)\n",
    "print(\"Last color:\", last_color)\n",
    "print(\"Selected colors:\", selected_colors)"
   ]
  },
  {
   "cell_type": "code",
   "execution_count": 133,
   "metadata": {},
   "outputs": [
    {
     "name": "stdout",
     "output_type": "stream",
     "text": [
      "Original tuple: ('red', 'green', 'blue', 'yellow', 'purple')\n",
      "Modified tuple: ('red', 'green', 'blue', 'yellow', 'purple', 'orange', 'pink')\n"
     ]
    }
   ],
   "source": [
    "# Original tuple\n",
    "colors_tuple = (\"red\", \"green\", \"blue\", \"yellow\", \"purple\")\n",
    "\n",
    "# # Attempting to modify an element (not possible, will raise a TypeError)\n",
    "# colors_tuple[1] = \"orange\"  # Uncommenting this line will raise a TypeError\n",
    "\n",
    "# # Attempting to add an element (not possible, will raise a TypeError)\n",
    "# colors_tuple += (\"orange\",)  # Uncommenting this line will raise a TypeError\n",
    "\n",
    "# # Attempting to delete an element (not possible, will raise a TypeError)\n",
    "# del colors_tuple[2]  # Uncommenting this line will raise a TypeError\n",
    "\n",
    "# Creating a new tuple with modifications\n",
    "modified_colors_tuple = colors_tuple + (\"orange\", \"pink\")\n",
    "\n",
    "# Displaying the results\n",
    "print(\"Original tuple:\", colors_tuple)\n",
    "print(\"Modified tuple:\", modified_colors_tuple)"
   ]
  },
  {
   "cell_type": "markdown",
   "metadata": {},
   "source": [
    "# Set"
   ]
  },
  {
   "cell_type": "markdown",
   "metadata": {},
   "source": [
    "The major advantage of using a set, as opposed to a list, is that it has a highly optimized method for checking whether a specific element is contained in the set. This is based on a data structure known as a hash table. Since sets are unordered, we cannot access items using indexes as we do in lists.\n",
    "* Set are represented by { }\n",
    "* Sets are unordered, so you cannot be sure in which order the items will appear.\n",
    "* Set items are unchangeable, but you can remove items and add new items.\n",
    "* Duplicates Not Allowed\n",
    "\n"
   ]
  },
  {
   "cell_type": "code",
   "execution_count": 42,
   "metadata": {},
   "outputs": [
    {
     "name": "stdout",
     "output_type": "stream",
     "text": [
      "<class 'dict'>\n",
      "<class 'set'>\n"
     ]
    }
   ],
   "source": [
    "# Define empty set\n",
    "\n",
    "# Dont do this\n",
    "learning_path = {}\n",
    "print(type(learning_path))\n",
    "\n",
    "learning_path = set()\n",
    "print(type(learning_path))"
   ]
  },
  {
   "cell_type": "code",
   "execution_count": 43,
   "metadata": {},
   "outputs": [
    {
     "name": "stdout",
     "output_type": "stream",
     "text": [
      "{'Cloud Computing', 'Machine Learning', 'Mobile Development'}\n",
      "{'Cloud Computing', 'Data Scientist', 'Machine Learning', 'Mobile Development'}\n"
     ]
    }
   ],
   "source": [
    "learning_path = {\"Machine Learning\",\n",
    "                 \"Cloud Computing\",\n",
    "                 \"Mobile Development\"}\n",
    "\n",
    "print(learning_path)\n",
    "\n",
    "# Adding elements\n",
    "learning_path.add(\"Data Scientist\")\n",
    "print(learning_path)"
   ]
  },
  {
   "cell_type": "markdown",
   "metadata": {},
   "source": [
    "### Union Operation"
   ]
  },
  {
   "cell_type": "code",
   "execution_count": 45,
   "metadata": {},
   "outputs": [
    {
     "name": "stdout",
     "output_type": "stream",
     "text": [
      "Union using union() function\n",
      "{'Cloud Computing', 'Front-End Development', 'Machine Learning', 'Mobile Development', 'DevOps', 'Fullstack Website'}\n",
      "\n",
      "Union using '|' operator\n",
      "{'Cloud Computing', 'Front-End Development', 'Machine Learning', 'Mobile Development', 'DevOps', 'Fullstack Website'}\n"
     ]
    }
   ],
   "source": [
    "learning_path = {\"Machine Learning\",\n",
    "                 \"Cloud Computing\",\n",
    "                 \"Mobile Development\",\n",
    "                 'Front-End Development'}\n",
    "job = {\"DevOps\",\n",
    "        \"Machine Learning\",\n",
    "        \"Fullstack Website\"}\n",
    "\n",
    "skills = learning_path.union(job)\n",
    "\n",
    "print(\"Union using union() function\")\n",
    "print(skills)\n",
    "\n",
    "skills = learning_path|job\n",
    "\n",
    "print(\"\\nUnion using '|' operator\")\n",
    "print(skills)"
   ]
  },
  {
   "cell_type": "markdown",
   "metadata": {},
   "source": [
    "### Intersection Operation"
   ]
  },
  {
   "cell_type": "code",
   "execution_count": 46,
   "metadata": {},
   "outputs": [
    {
     "name": "stdout",
     "output_type": "stream",
     "text": [
      "Intersection using intersection() function\n",
      "{'Machine Learning'}\n",
      "\n",
      "Intersection using '&' operator\n",
      "{'Machine Learning'}\n"
     ]
    }
   ],
   "source": [
    "\n",
    "# Intersection using\n",
    "# intersection() function\n",
    "match_job = learning_path.intersection(job)\n",
    "\n",
    "print(\"Intersection using intersection() function\")\n",
    "print(match_job)\n",
    "\n",
    "# Intersection using\n",
    "# \"&\" operator\n",
    "match_job = learning_path & job\n",
    "\n",
    "print(\"\\nIntersection using '&' operator\")\n",
    "print(match_job)"
   ]
  },
  {
   "cell_type": "markdown",
   "metadata": {},
   "source": [
    "### Finding Differences of Sets in Python"
   ]
  },
  {
   "cell_type": "code",
   "execution_count": 47,
   "metadata": {},
   "outputs": [
    {
     "name": "stdout",
     "output_type": "stream",
     "text": [
      " Difference of two sets using difference() function\n",
      "{'Cloud Computing', 'Front-End Development', 'Mobile Development'}\n",
      "\n",
      "Difference of two sets using '-' operator\n",
      "{'Cloud Computing', 'Front-End Development', 'Mobile Development'}\n"
     ]
    }
   ],
   "source": [
    "# Difference of two sets\n",
    "# using difference() function\n",
    "learning = learning_path.difference(job)\n",
    "\n",
    "print(\" Difference of two sets using difference() function\")\n",
    "print(learning)\n",
    "\n",
    "# Difference of two sets\n",
    "# using '-' operator\n",
    "learning = learning_path - job\n",
    "\n",
    "print(\"\\nDifference of two sets using '-' operator\")\n",
    "print(learning)"
   ]
  },
  {
   "cell_type": "markdown",
   "metadata": {},
   "source": [
    "# Finding Symmetric"
   ]
  },
  {
   "cell_type": "code",
   "execution_count": 49,
   "metadata": {},
   "outputs": [],
   "source": [
    "learning_path = {\"Machine Learning\",\n",
    "                 \"Cloud Computing\",\n",
    "                 \"Mobile Development\",\n",
    "                 'Front-End Development'}\n",
    "job = {\"DevOps\",\n",
    "        \"Machine Learning\",\n",
    "        \"Fullstack Website\"}"
   ]
  },
  {
   "cell_type": "code",
   "execution_count": 50,
   "metadata": {},
   "outputs": [
    {
     "name": "stdout",
     "output_type": "stream",
     "text": [
      "\n",
      "Difference of two sets using 'symmtric_difference' operator\n",
      "{'Cloud Computing', 'DevOps', 'Mobile Development', 'Fullstack Website', 'Front-End Development'}\n",
      "\n",
      "Difference of two sets using '-' operator\n",
      "{'Cloud Computing', 'DevOps', 'Mobile Development', 'Fullstack Website', 'Front-End Development'}\n"
     ]
    }
   ],
   "source": [
    "# Symmetric Difference of two sets\n",
    "# using 'symmetric_difference()' operator\n",
    "\n",
    "print(\"\\nDifference of two sets using 'symmtric_difference' operator\")\n",
    "print(learning_path.symmetric_difference(job))\n",
    "\n",
    "# Symmetric Difference of two sets\n",
    "# using '^' operator\n",
    "\n",
    "print(\"\\nDifference of two sets using '-' operator\")\n",
    "print(learning_path ^ job)"
   ]
  },
  {
   "cell_type": "code",
   "execution_count": 51,
   "metadata": {},
   "outputs": [
    {
     "name": "stdout",
     "output_type": "stream",
     "text": [
      "Initial set\n",
      "{'Cloud Computing', 'Front-End Development', 'Machine Learning', 'Mobile Development'}\n",
      "\n",
      "Set after using clear() function\n",
      "set()\n"
     ]
    }
   ],
   "source": [
    "print(\"Initial set\")\n",
    "print(learning_path)\n",
    "\n",
    "# This method will remove\n",
    "# all the elements of the set\n",
    "learning_path.clear()\n",
    "\n",
    "print(\"\\nSet after using clear() function\")\n",
    "print(learning_path)"
   ]
  },
  {
   "cell_type": "markdown",
   "metadata": {},
   "source": [
    "# Dictionary"
   ]
  },
  {
   "cell_type": "markdown",
   "metadata": {},
   "source": [
    "A dictionary in Python is a collection of key-value pairs, where each key must be unique. Dictionaries are defined using curly braces `{}` and consist of comma-separated key-value pairs.\n",
    "\n",
    "\n",
    "Key Characteristics of Dictionaries:\n",
    "\n",
    "- Unordered: Elements in a dictionary have no specific order.\n",
    "- Mutable: Elements of a dictionary can be added, modified, or removed after the dictionary is created.\n",
    "- Key-Value Pairs: Each element in a dictionary is a key-value pair."
   ]
  },
  {
   "cell_type": "code",
   "execution_count": 52,
   "metadata": {},
   "outputs": [
    {
     "name": "stdout",
     "output_type": "stream",
     "text": [
      "Fruit Prices: {'apple': 1.0, 'orange': 0.8, 'banana': 0.5}\n"
     ]
    }
   ],
   "source": [
    "# Creating a dictionary\n",
    "fruit_prices = {\"apple\": 1.00, \"orange\": 0.80, \"banana\": 0.50}\n",
    "\n",
    "# Displaying the dictionary\n",
    "print(\"Fruit Prices:\", fruit_prices)"
   ]
  },
  {
   "cell_type": "code",
   "execution_count": 53,
   "metadata": {},
   "outputs": [],
   "source": [
    "# Dictionary operations\n",
    "student_info = {\"name\": \"John\",\n",
    "                \"age\": 20,\n",
    "                \"grade\": \"A\"}"
   ]
  },
  {
   "cell_type": "code",
   "execution_count": 54,
   "metadata": {},
   "outputs": [
    {
     "name": "stdout",
     "output_type": "stream",
     "text": [
      "Name: John\n"
     ]
    }
   ],
   "source": [
    "# Accessing values\n",
    "name = student_info[\"name\"]\n",
    "print(\"Name:\", name)"
   ]
  },
  {
   "cell_type": "code",
   "execution_count": 55,
   "metadata": {},
   "outputs": [
    {
     "name": "stdout",
     "output_type": "stream",
     "text": [
      "{'name': 'John', 'age': 20, 'grade': 'A', 'city': 'New York'}\n"
     ]
    }
   ],
   "source": [
    "# Adding a new key-value pair\n",
    "student_info[\"city\"] = \"New York\"\n",
    "print(student_info)"
   ]
  },
  {
   "cell_type": "code",
   "execution_count": 56,
   "metadata": {},
   "outputs": [
    {
     "name": "stdout",
     "output_type": "stream",
     "text": [
      "{'name': 'John', 'age': 21, 'grade': 'A', 'city': 'New York'}\n"
     ]
    }
   ],
   "source": [
    "# Modifying a value\n",
    "student_info[\"age\"] = 21\n",
    "print(student_info)"
   ]
  },
  {
   "cell_type": "code",
   "execution_count": 57,
   "metadata": {},
   "outputs": [
    {
     "name": "stdout",
     "output_type": "stream",
     "text": [
      "{'name': 'John', 'age': 21, 'city': 'New York'}\n"
     ]
    }
   ],
   "source": [
    "# Removing a key-value pair\n",
    "del student_info[\"grade\"]\n",
    "print(student_info)"
   ]
  },
  {
   "cell_type": "code",
   "execution_count": 58,
   "metadata": {},
   "outputs": [
    {
     "name": "stdout",
     "output_type": "stream",
     "text": [
      "Has grade key? False\n"
     ]
    }
   ],
   "source": [
    "# Checking key existence\n",
    "has_grade = \"grade\" in student_info\n",
    "print(\"Has grade key?\", has_grade)"
   ]
  },
  {
   "cell_type": "code",
   "execution_count": 61,
   "metadata": {},
   "outputs": [
    {
     "name": "stdout",
     "output_type": "stream",
     "text": [
      "Has name key? True\n"
     ]
    }
   ],
   "source": [
    "# Checking key existence\n",
    "has_grade = \"name\" in student_info\n",
    "print(\"Has name key?\", has_grade)"
   ]
  },
  {
   "cell_type": "code",
   "execution_count": 62,
   "metadata": {},
   "outputs": [
    {
     "name": "stdout",
     "output_type": "stream",
     "text": [
      "Updated Student Info: {'name': 'John', 'age': 21, 'city': 'New York'}\n"
     ]
    }
   ],
   "source": [
    "# Displaying the updated dictionary\n",
    "print(\"Updated Student Info:\", student_info)"
   ]
  },
  {
   "cell_type": "markdown",
   "metadata": {},
   "source": [
    "In this dictionary operations example:\n",
    "- Accessing values is done using square brackets and the key.\n",
    "- Adding, modifying, and removing key-value pairs are demonstrated.\n",
    "- Checking key existence is done using the `in` operator.\n",
    "\n",
    "Dictionaries are versatile and widely used in Python for storing and manipulating data with a key-based structure."
   ]
  },
  {
   "cell_type": "markdown",
   "metadata": {},
   "source": [
    "### Dictionary with Homogeneous Data"
   ]
  },
  {
   "cell_type": "code",
   "execution_count": 63,
   "metadata": {},
   "outputs": [
    {
     "name": "stdout",
     "output_type": "stream",
     "text": [
      "Person Information:\n",
      "Name: John Doe\n",
      "Age: 30\n",
      "Address: {'street': '123 Main St', 'city': 'Anytown', 'zipcode': '12345'}\n",
      "Email: john@example.com\n",
      "Home Phone: 555-1234\n",
      "Is Student? False\n"
     ]
    }
   ],
   "source": [
    "# Dictionary with homogeneous data (mixed types)\n",
    "person_info = {\n",
    "    \"name\": \"John Doe\",\n",
    "    \"age\": 30,\n",
    "    \"address\": {\n",
    "        \"street\": \"123 Main St\",\n",
    "        \"city\": \"Anytown\",\n",
    "        \"zipcode\": \"12345\"\n",
    "    },\n",
    "    \"contacts\": {\n",
    "        \"email\": \"john@example.com\",\n",
    "        \"phone\": {\n",
    "            \"home\": \"555-1234\",\n",
    "            \"work\": \"555-5678\"\n",
    "        }\n",
    "    },\n",
    "    \"is_student\": False\n",
    "}\n",
    "\n",
    "# Displaying the complex dictionary with homogeneous data\n",
    "print(\"Person Information:\")\n",
    "print(\"Name:\", person_info[\"name\"])\n",
    "print(\"Age:\", person_info[\"age\"])\n",
    "print(\"Address:\", person_info[\"address\"])\n",
    "print(\"Email:\", person_info[\"contacts\"][\"email\"])\n",
    "print(\"Home Phone:\", person_info[\"contacts\"][\"phone\"][\"home\"])\n",
    "print(\"Is Student?\", person_info[\"is_student\"])\n"
   ]
  },
  {
   "cell_type": "markdown",
   "metadata": {},
   "source": [
    "### **Using keys`()`, values`()`, and items`()` Functions in a Dictionary:**\n",
    "\n",
    "To examine data within a dictionary, we can use the functions `keys()`, `values()`, and `items()`.\n",
    "\n",
    "- `keys()`: Used to retrieve all keys in the dictionary.\n",
    "- `values()`: Used to retrieve all values (items) in the dictionary.\n",
    "- `items()`: Used to retrieve all key-value pairs in the dictionary."
   ]
  },
  {
   "cell_type": "code",
   "execution_count": 64,
   "metadata": {},
   "outputs": [],
   "source": [
    "# Sample dictionary\n",
    "person_info = {\n",
    "    \"name\": \"John Doe\",\n",
    "    \"age\": 30,\n",
    "    \"address\": {\n",
    "        \"street\": \"123 Main St\",\n",
    "        \"city\": \"Anytown\",\n",
    "        \"zipcode\": \"12345\"\n",
    "    },\n",
    "    \"contacts\": {\n",
    "        \"email\": \"john@example.com\",\n",
    "        \"phone\": {\n",
    "            \"home\": \"555-1234\",\n",
    "            \"work\": \"555-5678\"\n",
    "        }\n",
    "    },\n",
    "    \"is_student\": False\n",
    "}"
   ]
  },
  {
   "cell_type": "code",
   "execution_count": 65,
   "metadata": {},
   "outputs": [
    {
     "name": "stdout",
     "output_type": "stream",
     "text": [
      "Keys: dict_keys(['name', 'age', 'address', 'contacts', 'is_student'])\n"
     ]
    }
   ],
   "source": [
    "# Using keys() to get all keys\n",
    "keys_list = person_info.keys()\n",
    "print(\"Keys:\", keys_list)"
   ]
  },
  {
   "cell_type": "code",
   "execution_count": 66,
   "metadata": {},
   "outputs": [
    {
     "name": "stdout",
     "output_type": "stream",
     "text": [
      "Values: dict_values(['John Doe', 30, {'street': '123 Main St', 'city': 'Anytown', 'zipcode': '12345'}, {'email': 'john@example.com', 'phone': {'home': '555-1234', 'work': '555-5678'}}, False])\n"
     ]
    }
   ],
   "source": [
    "# Using values() to get all values\n",
    "values_list = person_info.values()\n",
    "print(\"Values:\", values_list)"
   ]
  },
  {
   "cell_type": "code",
   "execution_count": 67,
   "metadata": {},
   "outputs": [
    {
     "name": "stdout",
     "output_type": "stream",
     "text": [
      "Items: dict_items([('name', 'John Doe'), ('age', 30), ('address', {'street': '123 Main St', 'city': 'Anytown', 'zipcode': '12345'}), ('contacts', {'email': 'john@example.com', 'phone': {'home': '555-1234', 'work': '555-5678'}}), ('is_student', False)])\n"
     ]
    }
   ],
   "source": [
    "# Using items() to get all key-value pairs\n",
    "items_list = person_info.items()\n",
    "print(\"Items:\", items_list)"
   ]
  },
  {
   "cell_type": "markdown",
   "metadata": {},
   "source": [
    "### Acessing Dictionary by Values"
   ]
  },
  {
   "cell_type": "code",
   "execution_count": 68,
   "metadata": {},
   "outputs": [],
   "source": [
    "# Sample dictionary\n",
    "fruit_prices = {\"apple\": 1.00, \"orange\": 0.80, \"banana\": 0.50, \"kiwi\": 1.20}"
   ]
  },
  {
   "cell_type": "code",
   "execution_count": 69,
   "metadata": {},
   "outputs": [
    {
     "name": "stdout",
     "output_type": "stream",
     "text": [
      "Has Banana Key? True\n"
     ]
    }
   ],
   "source": [
    "# Using in to check if a key exists\n",
    "has_banana = \"banana\" in fruit_prices#.keys()\n",
    "print(\"Has Banana Key?\", has_banana)"
   ]
  },
  {
   "cell_type": "code",
   "execution_count": 70,
   "metadata": {},
   "outputs": [
    {
     "name": "stdout",
     "output_type": "stream",
     "text": [
      "Has Grape Key? True\n"
     ]
    }
   ],
   "source": [
    "# Using not in to check if a key doesn't exist\n",
    "has_grape = \"grape\" not in fruit_prices\n",
    "print(\"Has Grape Key?\", has_grape)"
   ]
  },
  {
   "cell_type": "code",
   "execution_count": 71,
   "metadata": {},
   "outputs": [
    {
     "name": "stdout",
     "output_type": "stream",
     "text": [
      "Has Price 0.80? True\n"
     ]
    }
   ],
   "source": [
    "# Using in to check if a value exists\n",
    "has_price_80 = 0.80 in fruit_prices.values()\n",
    "print(\"Has Price 0.80?\", has_price_80)"
   ]
  },
  {
   "cell_type": "code",
   "execution_count": 72,
   "metadata": {},
   "outputs": [
    {
     "name": "stdout",
     "output_type": "stream",
     "text": [
      "Has Price 1.00? False\n"
     ]
    }
   ],
   "source": [
    "# Using not in to check if a value doesn't exist\n",
    "has_price_1 = 1.00 not in fruit_prices.values()\n",
    "print(\"Has Price 1.00?\", has_price_1)"
   ]
  },
  {
   "cell_type": "markdown",
   "metadata": {},
   "source": [
    "### Accessing Dictionary Values by Key"
   ]
  },
  {
   "cell_type": "code",
   "execution_count": 73,
   "metadata": {},
   "outputs": [],
   "source": [
    "# Sample dictionary\n",
    "fruit_prices = {\"apple\": 1.00, \"orange\": 0.80, \"banana\": 0.50, \"kiwi\": 1.20}"
   ]
  },
  {
   "cell_type": "code",
   "execution_count": 74,
   "metadata": {},
   "outputs": [],
   "source": [
    "# Accessing values by key\n",
    "apple_price = fruit_prices[\"apple\"]\n",
    "banana_price = fruit_prices[\"banana\"]"
   ]
  },
  {
   "cell_type": "code",
   "execution_count": 75,
   "metadata": {},
   "outputs": [
    {
     "name": "stdout",
     "output_type": "stream",
     "text": [
      "Price of Apple: 1.0\n",
      "Price of Banana: 0.5\n"
     ]
    }
   ],
   "source": [
    "# Displaying the accessed values\n",
    "print(\"Price of Apple:\", apple_price)\n",
    "print(\"Price of Banana:\", banana_price)"
   ]
  },
  {
   "cell_type": "markdown",
   "metadata": {},
   "source": [
    "### Manipulating Data in a Dictionary"
   ]
  },
  {
   "cell_type": "markdown",
   "metadata": {},
   "source": [
    "Data in a dictionary can be added by providing new key-value pairs to the dictionary.\n",
    "\n",
    "There are three methods that can be used to remove specific data from the dictionary:\n",
    "\n",
    "1. **`del`**: Used to delete an element based on the key.\n",
    "2. **`pop()`**: Used to delete an element based on the key and returns the deleted value.\n",
    "3. **`clear()`**: Used to delete all elements in the dictionary."
   ]
  },
  {
   "cell_type": "code",
   "execution_count": 76,
   "metadata": {},
   "outputs": [],
   "source": [
    "# Sample dictionary\n",
    "student_info = {\"name\": \"Alice\", \"age\": 25, \"grade\": \"B\", \"is_student\": True}"
   ]
  },
  {
   "cell_type": "code",
   "execution_count": 77,
   "metadata": {},
   "outputs": [
    {
     "name": "stdout",
     "output_type": "stream",
     "text": [
      "{'name': 'Alice', 'age': 25, 'grade': 'B', 'is_student': True, 'city': 'Wonderland'}\n"
     ]
    }
   ],
   "source": [
    "# Adding a new key-value pair\n",
    "student_info[\"city\"] = \"Wonderland\"\n",
    "print(student_info)"
   ]
  },
  {
   "cell_type": "code",
   "execution_count": 78,
   "metadata": {},
   "outputs": [
    {
     "name": "stdout",
     "output_type": "stream",
     "text": [
      "After Deletion (del): {'name': 'Alice', 'age': 25, 'is_student': True, 'city': 'Wonderland'}\n"
     ]
    }
   ],
   "source": [
    "# Deleting an element using del\n",
    "del student_info[\"grade\"]\n",
    "print(\"After Deletion (del):\", student_info)"
   ]
  },
  {
   "cell_type": "code",
   "execution_count": 79,
   "metadata": {},
   "outputs": [
    {
     "name": "stdout",
     "output_type": "stream",
     "text": [
      "Removed Age (pop()): 25\n",
      "After Deletion (pop()): {'name': 'Alice', 'is_student': True, 'city': 'Wonderland'}\n"
     ]
    }
   ],
   "source": [
    "# Deleting and returning a value using pop()\n",
    "removed_age = student_info.pop(\"age\")\n",
    "print(\"Removed Age (pop()):\", removed_age)\n",
    "print(\"After Deletion (pop()):\", student_info)"
   ]
  },
  {
   "cell_type": "code",
   "execution_count": 80,
   "metadata": {},
   "outputs": [
    {
     "name": "stdout",
     "output_type": "stream",
     "text": [
      "After Clearing (clear()): {}\n"
     ]
    }
   ],
   "source": [
    "# Clearing all elements using clear()\n",
    "student_info.clear()\n",
    "print(\"After Clearing (clear()):\", student_info)"
   ]
  },
  {
   "cell_type": "markdown",
   "metadata": {},
   "source": [
    "# `Rangkuman`"
   ]
  },
  {
   "cell_type": "markdown",
   "metadata": {},
   "source": [
    "| Fitur          | List                             | Set                                | Tuple                               | Dictionary                           |\n",
    "|----------------|----------------------------------|------------------------------------|-------------------------------------|--------------------------------------|\n",
    "| Tipe Data      | Mutable (bisa diubah)            | Mutable (bisa diubah)              | Immutable (tidak bisa diubah)       | Mutable (bisa diubah)               |\n",
    "| Deklarasi      | `my_list = [1, 2, 3]`            | `my_set = {1, 2, 3}`               | `my_tuple = (1, 2, 3)`              | `my_dict = {'key1': 'value1'}`     |\n",
    "| Notasi Kosong  | `my_list = []`                   | `my_set = set()`                   | `my_tuple = ()`                     | `my_dict = {}`                      |\n",
    "| Indeks         | Menggunakan indeks numerik       | Tidak memiliki indeks              | Menggunakan indeks numerik          | Menggunakan kunci (key)            |\n",
    "| Unik           | Tidak mewajibkan unik            | Menghilangkan duplikat secara otomatis | Tidak mewajibkan unik              | Kunci (key) harus unik             |\n",
    "| Urutan         | Memperhatikan urutan (ordered)   | Tidak memperhatikan urutan (unordered) | Memperhatikan urutan (ordered)     | Tidak memperhatikan urutan (unordered) |\n",
    "| Duplikasi      | Memperbolehkan duplikasi         | Tidak memperbolehkan duplikasi      | Memperbolehkan duplikasi            | Tidak memperbolehkan duplikasi     |\n",
    "| Operasi        | Terdapat operasi untuk list      | Terdapat operasi khusus untuk set  | Terdapat sedikit operasi untuk tuple | Terdapat operasi untuk dictionary |\n",
    "| Contoh         | `my_list = [1, 2, 3, 1]`         | `my_set = {1, 2, 3}`               | `my_tuple = (1, 2, 3)`              | `my_dict = {'name': 'John', 'age': 30}` |\n"
   ]
  },
  {
   "cell_type": "markdown",
   "metadata": {},
   "source": [
    "# `String Operation`"
   ]
  },
  {
   "cell_type": "code",
   "execution_count": 81,
   "metadata": {},
   "outputs": [
    {
     "data": {
      "text/plain": [
       "str"
      ]
     },
     "execution_count": 81,
     "metadata": {},
     "output_type": "execute_result"
    }
   ],
   "source": [
    "nama = \"Whisnumurty\"\n",
    "type(nama)"
   ]
  },
  {
   "cell_type": "markdown",
   "metadata": {},
   "source": [
    "### Slicing"
   ]
  },
  {
   "cell_type": "code",
   "execution_count": 82,
   "metadata": {},
   "outputs": [
    {
     "name": "stdout",
     "output_type": "stream",
     "text": [
      "Whisn\n"
     ]
    }
   ],
   "source": [
    "print(nama[:5])"
   ]
  },
  {
   "cell_type": "code",
   "execution_count": 83,
   "metadata": {},
   "outputs": [
    {
     "name": "stdout",
     "output_type": "stream",
     "text": [
      "sn\n"
     ]
    }
   ],
   "source": [
    "print(nama[3:5])"
   ]
  },
  {
   "cell_type": "code",
   "execution_count": 84,
   "metadata": {},
   "outputs": [
    {
     "name": "stdout",
     "output_type": "stream",
     "text": [
      "snumurty\n"
     ]
    }
   ],
   "source": [
    "print(nama[3:])"
   ]
  },
  {
   "cell_type": "code",
   "execution_count": 86,
   "metadata": {},
   "outputs": [
    {
     "name": "stdout",
     "output_type": "stream",
     "text": [
      "ytrumunsihW\n"
     ]
    }
   ],
   "source": [
    "print(nama[::-1])"
   ]
  },
  {
   "cell_type": "markdown",
   "metadata": {},
   "source": [
    "### Modify String"
   ]
  },
  {
   "cell_type": "code",
   "execution_count": 90,
   "metadata": {},
   "outputs": [
    {
     "data": {
      "text/plain": [
       "'WHISNUMURTY'"
      ]
     },
     "execution_count": 90,
     "metadata": {},
     "output_type": "execute_result"
    }
   ],
   "source": [
    "nama.upper()"
   ]
  },
  {
   "cell_type": "code",
   "execution_count": 91,
   "metadata": {},
   "outputs": [
    {
     "data": {
      "text/plain": [
       "'whisnumurty'"
      ]
     },
     "execution_count": 91,
     "metadata": {},
     "output_type": "execute_result"
    }
   ],
   "source": [
    "nama.lower()"
   ]
  },
  {
   "cell_type": "code",
   "execution_count": 103,
   "metadata": {},
   "outputs": [
    {
     "data": {
      "text/plain": [
       "'Whisnumurty Galih Ananta                                     '"
      ]
     },
     "execution_count": 103,
     "metadata": {},
     "output_type": "execute_result"
    }
   ],
   "source": [
    "nama_panjang = 'Whisnumurty Galih Ananta                                     '\n",
    "nama_panjang"
   ]
  },
  {
   "cell_type": "code",
   "execution_count": 104,
   "metadata": {},
   "outputs": [
    {
     "name": "stdout",
     "output_type": "stream",
     "text": [
      "Whisnumurty Galih Ananta\n"
     ]
    }
   ],
   "source": [
    "print(nama_panjang.strip()) # returns \"Hello, World!\""
   ]
  },
  {
   "cell_type": "code",
   "execution_count": 105,
   "metadata": {},
   "outputs": [
    {
     "name": "stdout",
     "output_type": "stream",
     "text": [
      "Whisnumurty Galih Ananta                                     \n"
     ]
    }
   ],
   "source": [
    "print(nama_panjang.replace(\"H\", \"\"))"
   ]
  },
  {
   "cell_type": "code",
   "execution_count": 134,
   "metadata": {},
   "outputs": [
    {
     "name": "stdout",
     "output_type": "stream",
     "text": [
      "WISNUMURTY GALI ANANTA                                     \n"
     ]
    }
   ],
   "source": [
    "print(nama_panjang.upper().replace(\"H\", \"\"))"
   ]
  },
  {
   "cell_type": "code",
   "execution_count": 136,
   "metadata": {},
   "outputs": [
    {
     "data": {
      "text/plain": [
       "['Whisnumurty', 'Galih', 'Ananta']"
      ]
     },
     "execution_count": 136,
     "metadata": {},
     "output_type": "execute_result"
    }
   ],
   "source": [
    "nama_in_list = nama_panjang.strip().split(\" \")\n",
    "nama_in_list"
   ]
  },
  {
   "cell_type": "markdown",
   "metadata": {},
   "source": [
    "### String Concatenation"
   ]
  },
  {
   "cell_type": "code",
   "execution_count": 112,
   "metadata": {},
   "outputs": [
    {
     "name": "stdout",
     "output_type": "stream",
     "text": [
      "Hello World\n"
     ]
    }
   ],
   "source": [
    "a = \"Hello\"\n",
    "b = \"World\"\n",
    "c = a + \" \" + b\n",
    "print(c)"
   ]
  },
  {
   "cell_type": "code",
   "execution_count": 117,
   "metadata": {},
   "outputs": [
    {
     "data": {
      "text/plain": [
       "'I want 3 pieces of item 567 for 49.95 dollars.'"
      ]
     },
     "execution_count": 117,
     "metadata": {},
     "output_type": "execute_result"
    }
   ],
   "source": [
    "quantity = 3\n",
    "itemno = 567\n",
    "price = 49.95\n",
    "myorder = \"I want {} pieces of item {} for {} dollars.\".format(quantity, itemno, price)\n",
    "myorder"
   ]
  },
  {
   "cell_type": "code",
   "execution_count": 118,
   "metadata": {},
   "outputs": [
    {
     "name": "stdout",
     "output_type": "stream",
     "text": [
      "I want to pay 49.95 dollars for 3 pieces of item 567.\n"
     ]
    }
   ],
   "source": [
    "quantity = 3\n",
    "itemno = 567\n",
    "price = 49.95\n",
    "myorder = \"I want to pay {2} dollars for {0} pieces of item {1}.\".format(quantity, itemno, price)\n",
    "print(myorder)"
   ]
  },
  {
   "cell_type": "markdown",
   "metadata": {},
   "source": [
    "### Escape Character"
   ]
  },
  {
   "cell_type": "code",
   "execution_count": 119,
   "metadata": {},
   "outputs": [
    {
     "data": {
      "text/plain": [
       "'We are the so-called \"Vikings\" from the north.'"
      ]
     },
     "execution_count": 119,
     "metadata": {},
     "output_type": "execute_result"
    }
   ],
   "source": [
    "txt = \"We are the so-called \\\"Vikings\\\" from the north.\"\n",
    "txt"
   ]
  },
  {
   "cell_type": "code",
   "execution_count": 120,
   "metadata": {},
   "outputs": [
    {
     "ename": "SyntaxError",
     "evalue": "invalid syntax (562493097.py, line 1)",
     "output_type": "error",
     "traceback": [
      "\u001b[1;36m  Cell \u001b[1;32mIn[120], line 1\u001b[1;36m\u001b[0m\n\u001b[1;33m    print('jum'at')\u001b[0m\n\u001b[1;37m               ^\u001b[0m\n\u001b[1;31mSyntaxError\u001b[0m\u001b[1;31m:\u001b[0m invalid syntax\n"
     ]
    }
   ],
   "source": [
    "print('jum'at')"
   ]
  },
  {
   "cell_type": "code",
   "execution_count": 126,
   "metadata": {},
   "outputs": [
    {
     "name": "stdout",
     "output_type": "stream",
     "text": [
      "jum'at\n"
     ]
    }
   ],
   "source": [
    "print('jum\\'at')"
   ]
  },
  {
   "cell_type": "code",
   "execution_count": 127,
   "metadata": {},
   "outputs": [
    {
     "name": "stdout",
     "output_type": "stream",
     "text": [
      "jum'at\n"
     ]
    }
   ],
   "source": [
    "print(\"jum'at\")"
   ]
  },
  {
   "cell_type": "code",
   "execution_count": 128,
   "metadata": {},
   "outputs": [
    {
     "name": "stdout",
     "output_type": "stream",
     "text": [
      "whisnu\n"
     ]
    }
   ],
   "source": [
    "print(\"Whisnu\".casefold())"
   ]
  },
  {
   "cell_type": "markdown",
   "metadata": {},
   "source": [
    "### String Method"
   ]
  },
  {
   "cell_type": "markdown",
   "metadata": {},
   "source": [
    "| Method        | Description                                                       |\n",
    "|---------------|-------------------------------------------------------------------|\n",
    "| capitalize() | Converts the first character to upper case                        |\n",
    "| casefold()    | Converts string into lower case                                   |\n",
    "| center()      | Returns a centered string                                         |\n",
    "| count()       | Returns the number of times a specified value occurs in a string  |\n",
    "| encode()      | Returns an encoded version of the string                           |\n",
    "| endswith()    | Returns true if the string ends with the specified value           |\n",
    "| expandtabs() | Sets the tab size of the string                                    |\n",
    "| find()        | Searches the string for a specified value and returns the position of where it was found |\n",
    "| format()      | Formats specified values in a string                              |\n",
    "| format_map()  | Formats specified values in a string                              |\n",
    "| index()       | Searches the string for a specified value and returns the position of where it was found |\n",
    "| isalnum()     | Returns True if all characters in the string are alphanumeric     |\n",
    "| isalpha()     | Returns True if all characters in the string are in the alphabet   |\n",
    "| isascii()     | Returns True if all characters in the string are ascii characters |\n",
    "| isdecimal()   | Returns True if all characters in the string are decimals         |\n",
    "| isdigit()     | Returns True if all characters in the string are digits           |\n",
    "| isidentifier()| Returns True if the string is an identifier                       |\n",
    "| islower()     | Returns True if all characters in the string are lower case       |\n",
    "| isnumeric()   | Returns True if all characters in the string are numeric          |\n",
    "| isprintable() | Returns True if all characters in the string are printable        |\n",
    "| isspace()     | Returns True if all characters in the string are whitespaces      |\n",
    "| istitle()     | Returns True if the string follows the rules of a title           |\n",
    "| isupper()     | Returns True if all characters in the string are upper case       |\n",
    "| join()        | Joins the elements of an iterable to the end of the string        |\n",
    "| ljust()       | Returns a left justified version of the string                    |\n",
    "| lower()       | Converts a string into lower case                                 |\n",
    "| lstrip()      | Returns a left trim version of the string                         |\n",
    "| maketrans()   | Returns a translation table to be used in translations            |\n",
    "| partition()   | Returns a tuple where the string is parted into three parts       |\n",
    "| replace()     | Returns a string where a specified value is replaced with a specified value |\n",
    "| rfind()       | Searches the string for a specified value and returns the last position of where it was found |\n",
    "| rindex()      | Searches the string for a specified value and returns the last position of where it was found |\n",
    "| rjust()       | Returns a right justified version of the string                   |\n",
    "| rpartition()  | Returns a tuple where the string is parted into three parts       |\n",
    "| rsplit()      | Splits the string at the specified separator, and returns a list |\n",
    "| rstrip()      | Returns a right trim version of the string                        |\n",
    "| split()       | Splits the string at the specified separator, and returns a list |\n",
    "| splitlines()  | Splits the string at line breaks and returns a list               |\n",
    "| startswith()  | Returns true if the string starts with the specified value        |\n",
    "| strip()       | Returns a trimmed version of the string                           |\n",
    "| swapcase()    | Swaps cases, lower case becomes upper case and vice versa        |\n",
    "| title()       | Converts the first character of each word to upper case           |\n",
    "| translate()   | Returns a translated string                                       |\n",
    "| upper()       | Converts a string into upper case                                 |\n",
    "| zfill()       | Fills the string with a specified number of 0 values at the beginning |\n"
   ]
  }
 ],
 "metadata": {
  "kernelspec": {
   "display_name": "bangkit",
   "language": "python",
   "name": "python3"
  },
  "language_info": {
   "codemirror_mode": {
    "name": "ipython",
    "version": 3
   },
   "file_extension": ".py",
   "mimetype": "text/x-python",
   "name": "python",
   "nbconvert_exporter": "python",
   "pygments_lexer": "ipython3",
   "version": "3.9.18"
  }
 },
 "nbformat": 4,
 "nbformat_minor": 2
}
