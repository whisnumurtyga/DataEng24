{
 "cells": [
  {
   "cell_type": "markdown",
   "id": "48c8bf02",
   "metadata": {
    "id": "48c8bf02"
   },
   "source": [
    "### SDGS Tujuan 11\n",
    "#### - Kota dan pemukiman berkelanjutan.\n",
    "#### \tMendukung hubungan ekonomi, sosial dan lingkungan antara urban, pinggiran kota, dan perdesaan dengan memperkuat perencanaan pembangunan nasional dan daerah.\n",
    "### Indikator\n",
    "#### 11.1.1.(a) Persentase rumah tangga yang memiliki akses terhadap hunian yang layak dan terjangkau.\n",
    "### Judul\n",
    "#### Menciptakan Hunian Layak dan Terjangkau : “Strategi pemerintah dalam membangun kota dan pemukiman berkelanjutan di Jawa Barat”\n",
    "### Goals\n",
    "#### Menciptakan kota dan pemukiman yang berkelanjutan di Jawa Barat, dengan fokus pada kualitas hunian yang layak.\n",
    "### Rumusan Masalah\n",
    "#### 1. Bagaimana tren akses terhadap hunian layak dan terjangkau di Jawa Barat berdasarkan beberapa kriteria selama periode waktu tertentu?\n",
    "#### 2. Bagaimana kesenjangan akses terhadap hunian layak dan terjangkau di Jawa Barat antar wilayah (kabupaten/kota)?\n",
    "#### 3. Bagaimana jumlah sampah di tiap-tiap daerah di  provinsi Jawa Barat memengaruhi jenis hunian yang layak, cukup layak,dan tidak layak huni ?\n",
    "#### 4. Bagaimana kemudahan terhadap akses air minum bersih pada kota-kota di Jawa Barat   ini berbeda antara hunian layak dan tidak layak?\n",
    "#### 5. Bagaimana integrasi aspek keberlanjutan ke dalam kebijakan perumahan di Jawa Barat dapat mengatasi masalah hunian tidak layak dan meningkatkan kualitas hidup penduduk?\n",
    "### Latar Belakang\n",
    "####           Dalam upaya membangun kota dan pemukiman berkelanjutan, penting untuk memiliki indikator yang dapat mewujudkannya. Salah satu indikator kunci adalah memberikan kemudahan akses terhadap hunian yang layak dan terjangkau. Kelayakan hunian ditentukan oleh faktor-faktor seperti memenuhi standar luas tempat tinggal minimal 7,2 m2 per kapita, memiliki akses terhadap air minum dan sanitasi layak, serta memperhitungkan ketahanan bangunan.\n",
    "####           Selain itu, hunian yang layak juga harus menciptakan lingkungan perkotaan yang berkelanjutan dengan melibatkan peningkatan kualitas lingkungan seperti akses air minum yang layak, sanitasi yang memadai, dan pengelolaan sampah yang efektif. Implementasi indikator ini diharapkan dapat meningkatkan kualitas hidup, kesejahteraan, dan ketahanan masyarakat di berbagai daerah.\n",
    "\n",
    "\n"
   ]
  },
  {
   "cell_type": "markdown",
   "id": "fb6a28bc",
   "metadata": {
    "id": "fb6a28bc"
   },
   "source": [
    "## I. PREPROCESSING"
   ]
  },
  {
   "cell_type": "markdown",
   "id": "d1875bb2",
   "metadata": {
    "id": "d1875bb2"
   },
   "source": [
    "### Import Library"
   ]
  },
  {
   "cell_type": "code",
   "execution_count": 1,
   "id": "a5e10117",
   "metadata": {
    "id": "a5e10117"
   },
   "outputs": [],
   "source": [
    "import pandas as pd\n",
    "import numpy as np\n",
    "import warnings\n",
    "warnings.filterwarnings('ignore')\n",
    "import matplotlib.pyplot as plt\n",
    "import seaborn as sns"
   ]
  },
  {
   "cell_type": "markdown",
   "id": "e70588a5",
   "metadata": {
    "id": "e70588a5"
   },
   "source": [
    "### Import Data"
   ]
  },
  {
   "cell_type": "code",
   "execution_count": 2,
   "id": "abeea0db",
   "metadata": {
    "id": "abeea0db"
   },
   "outputs": [],
   "source": [
    "rumah = pd.read_csv('rumah_tidak_layak_huni.csv')\n",
    "air = pd.read_excel('jml_akses_air_minum.xlsx')\n",
    "sampah = pd.read_csv('jumlah_sampah.csv')\n",
    "sanitasi = pd.read_excel('sanitasi_layak_jamban.xlsx')"
   ]
  },
  {
   "cell_type": "markdown",
   "id": "212a3de7",
   "metadata": {
    "id": "212a3de7"
   },
   "source": [
    "### Checking Missing Value"
   ]
  },
  {
   "cell_type": "code",
   "execution_count": 3,
   "id": "cd13e8eb",
   "metadata": {
    "id": "cd13e8eb",
    "outputId": "e1cf44d3-b81e-42c0-97a2-ea0b83c61472"
   },
   "outputs": [
    {
     "name": "stdout",
     "output_type": "stream",
     "text": [
      "Missing values in data rumah tidak layak huni:\n",
      "id                         0\n",
      "kode_provinsi              0\n",
      "nama_provinsi              0\n",
      "kode_kabupaten_kota        0\n",
      "nama_kabupaten_kota        0\n",
      "jumlah_pemilik_rutilahu    0\n",
      "satuan                     0\n",
      "tahun                      0\n",
      "dtype: int64\n",
      "\n",
      "Missing values in data akses air minum:\n",
      "id                     0\n",
      "kode_provinsi          0\n",
      "nama_provinsi          0\n",
      "kode_kabupaten_kota    0\n",
      "nama_kabupaten_kota    0\n",
      "akses_air_minum        0\n",
      "jumlah_akses           0\n",
      "satuan                 0\n",
      "tahun                  0\n",
      "dtype: int64\n",
      "\n",
      "Missing values in data pelayanan sampah:\n",
      "id                     0\n",
      "kode_provinsi          0\n",
      "nama_provinsi          0\n",
      "kode_kabupaten_kota    0\n",
      "nama_kabupaten_kota    0\n",
      "jumlah_sampah          0\n",
      "satuan                 0\n",
      "tahun                  0\n",
      "dtype: int64\n",
      "\n",
      "Missing values in data sanitasi jamban layak:\n",
      "id                           0\n",
      "kode_provinsi                0\n",
      "nama_provinsi                0\n",
      "kode_kabupaten_kota          0\n",
      "nama_kabupaten_kota          0\n",
      "jumlah_sanitasi layak        0\n",
      "persentase_sanitasi_layak    0\n",
      "satuan                       0\n",
      "tahun                        0\n",
      "dtype: int64\n",
      "\n"
     ]
    }
   ],
   "source": [
    "def print_missing_values(data_name, data):\n",
    "    missing_values = data.isnull().sum()\n",
    "    print(f\"Missing values in data {data_name}:\\n{missing_values}\\n\")\n",
    "\n",
    "print_missing_values(\"rumah tidak layak huni\", rumah)\n",
    "print_missing_values(\"akses air minum\", air)\n",
    "print_missing_values(\"pelayanan sampah\", sampah)\n",
    "print_missing_values(\"sanitasi jamban layak\", sanitasi)"
   ]
  },
  {
   "cell_type": "markdown",
   "id": "406fe472",
   "metadata": {
    "id": "406fe472"
   },
   "source": [
    "### Checking Duplicated"
   ]
  },
  {
   "cell_type": "code",
   "execution_count": 4,
   "id": "23924533",
   "metadata": {
    "id": "23924533",
    "outputId": "fc252037-d1be-4a0e-f205-7f4c06d08a43"
   },
   "outputs": [
    {
     "name": "stdout",
     "output_type": "stream",
     "text": [
      "Duplikasi pada kolom 'ID' pada data Rumah:\n",
      "False\n",
      "\n",
      "Duplikasi pada kolom 'ID' pada data Air:\n",
      "False\n",
      "\n",
      "Duplikasi pada kolom 'ID' pada data Sampah:\n",
      "False\n",
      "\n",
      "Duplikasi pada kolom 'ID' pada data Sanitasi:\n",
      "False\n"
     ]
    }
   ],
   "source": [
    "duplicate_rumah = rumah.duplicated(subset=['id'])\n",
    "duplicate_air = air.duplicated(subset=['id'])\n",
    "duplicate_sampah = sampah.duplicated(subset=['id'])\n",
    "duplicate_sanitasi = sanitasi.duplicated(subset=['id'])\n",
    "\n",
    "print(\"Duplikasi pada kolom 'ID' pada data Rumah:\")\n",
    "print(duplicate_rumah.any())\n",
    "\n",
    "print(\"\\nDuplikasi pada kolom 'ID' pada data Air:\")\n",
    "print(duplicate_air.any())\n",
    "\n",
    "print(\"\\nDuplikasi pada kolom 'ID' pada data Sampah:\")\n",
    "print(duplicate_sampah.any())\n",
    "\n",
    "print(\"\\nDuplikasi pada kolom 'ID' pada data Sanitasi:\")\n",
    "print(duplicate_sampah.any())"
   ]
  },
  {
   "cell_type": "markdown",
   "id": "e8c07cad",
   "metadata": {
    "id": "e8c07cad"
   },
   "source": [
    "### Checking Type Data"
   ]
  },
  {
   "cell_type": "code",
   "execution_count": 5,
   "id": "96e95245",
   "metadata": {
    "id": "96e95245",
    "outputId": "ed0895f0-1487-4cf7-f882-a71ef66d6644"
   },
   "outputs": [
    {
     "name": "stdout",
     "output_type": "stream",
     "text": [
      "Data types in data rumah tidak layak huni:\n",
      "id                          int64\n",
      "kode_provinsi               int64\n",
      "nama_provinsi              object\n",
      "kode_kabupaten_kota         int64\n",
      "nama_kabupaten_kota        object\n",
      "jumlah_pemilik_rutilahu     int64\n",
      "satuan                     object\n",
      "tahun                       int64\n",
      "dtype: object\n",
      "\n",
      "Data types in data akses air minum:\n",
      "id                      int64\n",
      "kode_provinsi           int64\n",
      "nama_provinsi          object\n",
      "kode_kabupaten_kota     int64\n",
      "nama_kabupaten_kota    object\n",
      "akses_air_minum        object\n",
      "jumlah_akses            int64\n",
      "satuan                 object\n",
      "tahun                   int64\n",
      "dtype: object\n",
      "\n",
      "Data types in data pelayanan sampah:\n",
      "id                       int64\n",
      "kode_provinsi            int64\n",
      "nama_provinsi           object\n",
      "kode_kabupaten_kota      int64\n",
      "nama_kabupaten_kota     object\n",
      "jumlah_sampah          float64\n",
      "satuan                  object\n",
      "tahun                    int64\n",
      "dtype: object\n",
      "\n",
      "Data types in data sanitasi jamban layak:\n",
      "id                             int64\n",
      "kode_provinsi                  int64\n",
      "nama_provinsi                 object\n",
      "kode_kabupaten_kota            int64\n",
      "nama_kabupaten_kota           object\n",
      "jumlah_sanitasi layak        float64\n",
      "persentase_sanitasi_layak    float64\n",
      "satuan                        object\n",
      "tahun                          int64\n",
      "dtype: object\n",
      "\n"
     ]
    }
   ],
   "source": [
    "def print_data_types(data_name, data):\n",
    "    data_types = data.dtypes\n",
    "    print(f\"Data types in data {data_name}:\\n{data_types}\\n\")\n",
    "\n",
    "print_data_types(\"rumah tidak layak huni\", rumah)\n",
    "print_data_types(\"akses air minum\", air)\n",
    "print_data_types(\"pelayanan sampah\", sampah)\n",
    "print_data_types(\"sanitasi jamban layak\", sanitasi)"
   ]
  },
  {
   "cell_type": "markdown",
   "id": "da7b0fe7",
   "metadata": {
    "id": "da7b0fe7"
   },
   "source": [
    "### Mengubah type kolom 'tahun' pada masing-masing data"
   ]
  },
  {
   "cell_type": "code",
   "execution_count": 6,
   "id": "59cd39fb",
   "metadata": {
    "id": "59cd39fb",
    "outputId": "41469b45-6fa5-4093-e1da-0ceb40aa6632"
   },
   "outputs": [
    {
     "name": "stdout",
     "output_type": "stream",
     "text": [
      "\n",
      "Tipe data setelah perubahan:\n",
      "id                                  int64\n",
      "kode_provinsi                       int64\n",
      "nama_provinsi                      object\n",
      "kode_kabupaten_kota                 int64\n",
      "nama_kabupaten_kota                object\n",
      "jumlah_pemilik_rutilahu             int64\n",
      "satuan                             object\n",
      "tahun                      datetime64[ns]\n",
      "dtype: object\n",
      "id                              int64\n",
      "kode_provinsi                   int64\n",
      "nama_provinsi                  object\n",
      "kode_kabupaten_kota             int64\n",
      "nama_kabupaten_kota            object\n",
      "akses_air_minum                object\n",
      "jumlah_akses                    int64\n",
      "satuan                         object\n",
      "tahun                  datetime64[ns]\n",
      "dtype: object\n",
      "id                              int64\n",
      "kode_provinsi                   int64\n",
      "nama_provinsi                  object\n",
      "kode_kabupaten_kota             int64\n",
      "nama_kabupaten_kota            object\n",
      "jumlah_sampah                 float64\n",
      "satuan                         object\n",
      "tahun                  datetime64[ns]\n",
      "dtype: object\n",
      "id                                    int64\n",
      "kode_provinsi                         int64\n",
      "nama_provinsi                        object\n",
      "kode_kabupaten_kota                   int64\n",
      "nama_kabupaten_kota                  object\n",
      "jumlah_sanitasi layak               float64\n",
      "persentase_sanitasi_layak           float64\n",
      "satuan                               object\n",
      "tahun                        datetime64[ns]\n",
      "dtype: object\n"
     ]
    }
   ],
   "source": [
    "rumah['tahun'] = pd.to_datetime(rumah['tahun'], format='%Y', errors='coerce')\n",
    "air['tahun'] = pd.to_datetime(air['tahun'], format='%Y', errors='coerce')\n",
    "sampah['tahun'] = pd.to_datetime(sampah['tahun'], format='%Y', errors='coerce')\n",
    "sanitasi['tahun'] = pd.to_datetime(sanitasi['tahun'], format='%Y', errors='coerce')\n",
    "\n",
    "print(\"\\nTipe data setelah perubahan:\")\n",
    "print(rumah.dtypes)\n",
    "print(air.dtypes)\n",
    "print(sampah.dtypes)\n",
    "print(sanitasi.dtypes)"
   ]
  },
  {
   "cell_type": "markdown",
   "id": "c0197c36",
   "metadata": {
    "id": "c0197c36"
   },
   "source": [
    "### Mengubah kata pada kolom 'akses_air_minum' data akses air minum"
   ]
  },
  {
   "cell_type": "code",
   "execution_count": 7,
   "id": "29028645",
   "metadata": {
    "id": "29028645",
    "outputId": "158fd977-4abf-40d9-f59f-7715c4e6c65f"
   },
   "outputs": [
    {
     "data": {
      "text/plain": [
       "array(['AIR LEDENG', 'POMPA', 'SUMUR TERLINDUNG', 'MATA AIR TERLINDUNG',\n",
       "       'AIR HUJAN', 'TERMINAL AIR', 'SUMUR TERLINDUNGI',\n",
       "       'MATA AIR TERLINDUNGI', 'AIR LEDENG  - PERKOTAAN',\n",
       "       'AIR LEDENG  - PEDESAAN'], dtype=object)"
      ]
     },
     "execution_count": 7,
     "metadata": {},
     "output_type": "execute_result"
    }
   ],
   "source": [
    "air['akses_air_minum'].unique()"
   ]
  },
  {
   "cell_type": "code",
   "execution_count": 8,
   "id": "fd1a7e09",
   "metadata": {
    "id": "fd1a7e09"
   },
   "outputs": [],
   "source": [
    "air['akses_air_minum'] = air['akses_air_minum'].replace({\n",
    "    'MATA AIR TERLINDUNG': 'MATA AIR TERLINDUNGI',\n",
    "    'SUMUR TERLINDUNG': 'SUMUR TERLINDUNGI',\n",
    "    'AIR LEDENG  - PERKOTAAN': 'AIR LEDENG',\n",
    "    'AIR LEDENG  - PEDESAAN': 'AIR LEDENG'})"
   ]
  },
  {
   "cell_type": "code",
   "execution_count": 9,
   "id": "28b5ab27",
   "metadata": {
    "id": "28b5ab27",
    "outputId": "6f87ba28-4d9c-43b9-8414-0b546db14744"
   },
   "outputs": [
    {
     "data": {
      "text/plain": [
       "array(['AIR LEDENG', 'POMPA', 'SUMUR TERLINDUNGI', 'MATA AIR TERLINDUNGI',\n",
       "       'AIR HUJAN', 'TERMINAL AIR'], dtype=object)"
      ]
     },
     "execution_count": 9,
     "metadata": {},
     "output_type": "execute_result"
    }
   ],
   "source": [
    "air['akses_air_minum'].unique()"
   ]
  },
  {
   "cell_type": "markdown",
   "id": "31225188",
   "metadata": {
    "id": "31225188"
   },
   "source": [
    "### Enriching kolom 'kategori_rumah' pada data rumah, air, sanitasi dan sampah (layak, cukup layak dan layak)."
   ]
  },
  {
   "cell_type": "code",
   "execution_count": 10,
   "id": "0f921140",
   "metadata": {
    "id": "0f921140",
    "outputId": "f6f52151-ab15-4b01-f230-883b55710241"
   },
   "outputs": [
    {
     "data": {
      "text/html": [
       "<div>\n",
       "<style scoped>\n",
       "    .dataframe tbody tr th:only-of-type {\n",
       "        vertical-align: middle;\n",
       "    }\n",
       "\n",
       "    .dataframe tbody tr th {\n",
       "        vertical-align: top;\n",
       "    }\n",
       "\n",
       "    .dataframe thead th {\n",
       "        text-align: right;\n",
       "    }\n",
       "</style>\n",
       "<table border=\"1\" class=\"dataframe\">\n",
       "  <thead>\n",
       "    <tr style=\"text-align: right;\">\n",
       "      <th></th>\n",
       "      <th>id</th>\n",
       "      <th>kode_provinsi</th>\n",
       "      <th>nama_provinsi</th>\n",
       "      <th>kode_kabupaten_kota</th>\n",
       "      <th>nama_kabupaten_kota</th>\n",
       "      <th>jumlah_pemilik_rutilahu</th>\n",
       "      <th>satuan</th>\n",
       "      <th>tahun</th>\n",
       "      <th>kategori_rumah</th>\n",
       "    </tr>\n",
       "  </thead>\n",
       "  <tbody>\n",
       "    <tr>\n",
       "      <th>0</th>\n",
       "      <td>1</td>\n",
       "      <td>32</td>\n",
       "      <td>JAWA BARAT</td>\n",
       "      <td>3201</td>\n",
       "      <td>KABUPATEN BOGOR</td>\n",
       "      <td>180673</td>\n",
       "      <td>KELUARGA RUMAH TANGGA SASARAN</td>\n",
       "      <td>2019-01-01</td>\n",
       "      <td>tidak layak</td>\n",
       "    </tr>\n",
       "    <tr>\n",
       "      <th>1</th>\n",
       "      <td>2</td>\n",
       "      <td>32</td>\n",
       "      <td>JAWA BARAT</td>\n",
       "      <td>3202</td>\n",
       "      <td>KABUPATEN SUKABUMI</td>\n",
       "      <td>255109</td>\n",
       "      <td>KELUARGA RUMAH TANGGA SASARAN</td>\n",
       "      <td>2019-01-01</td>\n",
       "      <td>tidak layak</td>\n",
       "    </tr>\n",
       "    <tr>\n",
       "      <th>2</th>\n",
       "      <td>3</td>\n",
       "      <td>32</td>\n",
       "      <td>JAWA BARAT</td>\n",
       "      <td>3203</td>\n",
       "      <td>KABUPATEN CIANJUR</td>\n",
       "      <td>193566</td>\n",
       "      <td>KELUARGA RUMAH TANGGA SASARAN</td>\n",
       "      <td>2019-01-01</td>\n",
       "      <td>tidak layak</td>\n",
       "    </tr>\n",
       "  </tbody>\n",
       "</table>\n",
       "</div>"
      ],
      "text/plain": [
       "   id  kode_provinsi nama_provinsi  kode_kabupaten_kota nama_kabupaten_kota  \\\n",
       "0   1             32    JAWA BARAT                 3201     KABUPATEN BOGOR   \n",
       "1   2             32    JAWA BARAT                 3202  KABUPATEN SUKABUMI   \n",
       "2   3             32    JAWA BARAT                 3203   KABUPATEN CIANJUR   \n",
       "\n",
       "   jumlah_pemilik_rutilahu                         satuan      tahun  \\\n",
       "0                   180673  KELUARGA RUMAH TANGGA SASARAN 2019-01-01   \n",
       "1                   255109  KELUARGA RUMAH TANGGA SASARAN 2019-01-01   \n",
       "2                   193566  KELUARGA RUMAH TANGGA SASARAN 2019-01-01   \n",
       "\n",
       "  kategori_rumah  \n",
       "0    tidak layak  \n",
       "1    tidak layak  \n",
       "2    tidak layak  "
      ]
     },
     "execution_count": 10,
     "metadata": {},
     "output_type": "execute_result"
    }
   ],
   "source": [
    "q1_rumah = np.percentile(rumah['jumlah_pemilik_rutilahu'], 25)\n",
    "q2_rumah = np.percentile(rumah['jumlah_pemilik_rutilahu'], 50)\n",
    "q3_rumah = np.percentile(rumah['jumlah_pemilik_rutilahu'], 75)\n",
    "\n",
    "rumah['kategori_rumah'] = pd.cut(rumah['jumlah_pemilik_rutilahu'], bins=[float('-inf'), q1_rumah, q2_rumah, float('inf')],\n",
    "                        labels=['layak', 'cukup layak', 'tidak layak'], include_lowest=True, right=False)\n",
    "rumah.head(3)"
   ]
  },
  {
   "cell_type": "code",
   "execution_count": 11,
   "id": "a786c6ce",
   "metadata": {
    "id": "a786c6ce",
    "outputId": "4c2beefb-4378-4546-e592-0209782134c6"
   },
   "outputs": [
    {
     "data": {
      "text/html": [
       "<div>\n",
       "<style scoped>\n",
       "    .dataframe tbody tr th:only-of-type {\n",
       "        vertical-align: middle;\n",
       "    }\n",
       "\n",
       "    .dataframe tbody tr th {\n",
       "        vertical-align: top;\n",
       "    }\n",
       "\n",
       "    .dataframe thead th {\n",
       "        text-align: right;\n",
       "    }\n",
       "</style>\n",
       "<table border=\"1\" class=\"dataframe\">\n",
       "  <thead>\n",
       "    <tr style=\"text-align: right;\">\n",
       "      <th></th>\n",
       "      <th>id</th>\n",
       "      <th>kode_provinsi</th>\n",
       "      <th>nama_provinsi</th>\n",
       "      <th>kode_kabupaten_kota</th>\n",
       "      <th>nama_kabupaten_kota</th>\n",
       "      <th>akses_air_minum</th>\n",
       "      <th>jumlah_akses</th>\n",
       "      <th>satuan</th>\n",
       "      <th>tahun</th>\n",
       "      <th>kategori_air</th>\n",
       "    </tr>\n",
       "  </thead>\n",
       "  <tbody>\n",
       "    <tr>\n",
       "      <th>0</th>\n",
       "      <td>1</td>\n",
       "      <td>32</td>\n",
       "      <td>JAWA BARAT</td>\n",
       "      <td>3201</td>\n",
       "      <td>KABUPATEN BOGOR</td>\n",
       "      <td>AIR LEDENG</td>\n",
       "      <td>120956</td>\n",
       "      <td>KEPALA KELUARGA</td>\n",
       "      <td>2013-01-01</td>\n",
       "      <td>tidak layak</td>\n",
       "    </tr>\n",
       "    <tr>\n",
       "      <th>1</th>\n",
       "      <td>2</td>\n",
       "      <td>32</td>\n",
       "      <td>JAWA BARAT</td>\n",
       "      <td>3201</td>\n",
       "      <td>KABUPATEN BOGOR</td>\n",
       "      <td>POMPA</td>\n",
       "      <td>75550</td>\n",
       "      <td>KEPALA KELUARGA</td>\n",
       "      <td>2013-01-01</td>\n",
       "      <td>tidak layak</td>\n",
       "    </tr>\n",
       "  </tbody>\n",
       "</table>\n",
       "</div>"
      ],
      "text/plain": [
       "   id  kode_provinsi nama_provinsi  kode_kabupaten_kota nama_kabupaten_kota  \\\n",
       "0   1             32    JAWA BARAT                 3201     KABUPATEN BOGOR   \n",
       "1   2             32    JAWA BARAT                 3201     KABUPATEN BOGOR   \n",
       "\n",
       "  akses_air_minum  jumlah_akses           satuan      tahun kategori_air  \n",
       "0      AIR LEDENG        120956  KEPALA KELUARGA 2013-01-01  tidak layak  \n",
       "1           POMPA         75550  KEPALA KELUARGA 2013-01-01  tidak layak  "
      ]
     },
     "execution_count": 11,
     "metadata": {},
     "output_type": "execute_result"
    }
   ],
   "source": [
    "q1_air = np.percentile(air['jumlah_akses'], 25)\n",
    "q2_air = np.percentile(air['jumlah_akses'], 50)\n",
    "q3_air = np.percentile(air['jumlah_akses'], 75)\n",
    "\n",
    "air['kategori_air'] = pd.cut(air['jumlah_akses'], bins=[float('-inf'), q1_air, q2_air, float('inf')],\n",
    "                        labels=['layak', 'cukup layak', 'tidak layak'], include_lowest=True, right=False)\n",
    "air.head(2)"
   ]
  },
  {
   "cell_type": "code",
   "execution_count": 12,
   "id": "d6325cc8",
   "metadata": {
    "id": "d6325cc8",
    "outputId": "ebddf287-86c4-4f60-d240-084a18e2c94a"
   },
   "outputs": [
    {
     "data": {
      "text/html": [
       "<div>\n",
       "<style scoped>\n",
       "    .dataframe tbody tr th:only-of-type {\n",
       "        vertical-align: middle;\n",
       "    }\n",
       "\n",
       "    .dataframe tbody tr th {\n",
       "        vertical-align: top;\n",
       "    }\n",
       "\n",
       "    .dataframe thead th {\n",
       "        text-align: right;\n",
       "    }\n",
       "</style>\n",
       "<table border=\"1\" class=\"dataframe\">\n",
       "  <thead>\n",
       "    <tr style=\"text-align: right;\">\n",
       "      <th></th>\n",
       "      <th>id</th>\n",
       "      <th>kode_provinsi</th>\n",
       "      <th>nama_provinsi</th>\n",
       "      <th>kode_kabupaten_kota</th>\n",
       "      <th>nama_kabupaten_kota</th>\n",
       "      <th>jumlah_sampah</th>\n",
       "      <th>satuan</th>\n",
       "      <th>tahun</th>\n",
       "      <th>kategori_sampah</th>\n",
       "    </tr>\n",
       "  </thead>\n",
       "  <tbody>\n",
       "    <tr>\n",
       "      <th>0</th>\n",
       "      <td>1</td>\n",
       "      <td>32</td>\n",
       "      <td>JAWA BARAT</td>\n",
       "      <td>3201</td>\n",
       "      <td>KABUPATEN BOGOR</td>\n",
       "      <td>861919.33</td>\n",
       "      <td>TON PER HARI</td>\n",
       "      <td>2015-01-01</td>\n",
       "      <td>tidak layak</td>\n",
       "    </tr>\n",
       "    <tr>\n",
       "      <th>1</th>\n",
       "      <td>2</td>\n",
       "      <td>32</td>\n",
       "      <td>JAWA BARAT</td>\n",
       "      <td>3202</td>\n",
       "      <td>KABUPATEN SUKABUMI</td>\n",
       "      <td>205690.23</td>\n",
       "      <td>TON PER HARI</td>\n",
       "      <td>2015-01-01</td>\n",
       "      <td>tidak layak</td>\n",
       "    </tr>\n",
       "  </tbody>\n",
       "</table>\n",
       "</div>"
      ],
      "text/plain": [
       "   id  kode_provinsi nama_provinsi  kode_kabupaten_kota nama_kabupaten_kota  \\\n",
       "0   1             32    JAWA BARAT                 3201     KABUPATEN BOGOR   \n",
       "1   2             32    JAWA BARAT                 3202  KABUPATEN SUKABUMI   \n",
       "\n",
       "   jumlah_sampah        satuan      tahun kategori_sampah  \n",
       "0      861919.33  TON PER HARI 2015-01-01     tidak layak  \n",
       "1      205690.23  TON PER HARI 2015-01-01     tidak layak  "
      ]
     },
     "execution_count": 12,
     "metadata": {},
     "output_type": "execute_result"
    }
   ],
   "source": [
    "q1_sampah = np.percentile(sampah['jumlah_sampah'], 25)\n",
    "q2_sampah = np.percentile(sampah['jumlah_sampah'], 50)\n",
    "q3_sampah = np.percentile(sampah['jumlah_sampah'], 75)\n",
    "\n",
    "sampah['kategori_sampah'] = pd.cut(sampah['jumlah_sampah'], bins=[float('-inf'), q1_sampah, q2_sampah, float('inf')],\n",
    "                        labels=['layak', 'cukup layak', 'tidak layak'], include_lowest=True, right=False)\n",
    "sampah.head(2)"
   ]
  },
  {
   "cell_type": "code",
   "execution_count": 13,
   "id": "c9db1479",
   "metadata": {
    "id": "c9db1479",
    "outputId": "bfe38c89-ec35-4c47-fbae-cfc495bd0acf"
   },
   "outputs": [
    {
     "data": {
      "text/html": [
       "<div>\n",
       "<style scoped>\n",
       "    .dataframe tbody tr th:only-of-type {\n",
       "        vertical-align: middle;\n",
       "    }\n",
       "\n",
       "    .dataframe tbody tr th {\n",
       "        vertical-align: top;\n",
       "    }\n",
       "\n",
       "    .dataframe thead th {\n",
       "        text-align: right;\n",
       "    }\n",
       "</style>\n",
       "<table border=\"1\" class=\"dataframe\">\n",
       "  <thead>\n",
       "    <tr style=\"text-align: right;\">\n",
       "      <th></th>\n",
       "      <th>id</th>\n",
       "      <th>kode_provinsi</th>\n",
       "      <th>nama_provinsi</th>\n",
       "      <th>kode_kabupaten_kota</th>\n",
       "      <th>nama_kabupaten_kota</th>\n",
       "      <th>jumlah_sanitasi layak</th>\n",
       "      <th>persentase_sanitasi_layak</th>\n",
       "      <th>satuan</th>\n",
       "      <th>tahun</th>\n",
       "      <th>kategori_sanitasi</th>\n",
       "    </tr>\n",
       "  </thead>\n",
       "  <tbody>\n",
       "    <tr>\n",
       "      <th>0</th>\n",
       "      <td>1</td>\n",
       "      <td>32</td>\n",
       "      <td>JAWA BARAT</td>\n",
       "      <td>3201</td>\n",
       "      <td>KABUPATEN BOGOR</td>\n",
       "      <td>685.0</td>\n",
       "      <td>6.85</td>\n",
       "      <td>PERSEN</td>\n",
       "      <td>2014-01-01</td>\n",
       "      <td>layak</td>\n",
       "    </tr>\n",
       "    <tr>\n",
       "      <th>1</th>\n",
       "      <td>2</td>\n",
       "      <td>32</td>\n",
       "      <td>JAWA BARAT</td>\n",
       "      <td>3202</td>\n",
       "      <td>KABUPATEN SUKABUMI</td>\n",
       "      <td>4729.0</td>\n",
       "      <td>47.29</td>\n",
       "      <td>PERSEN</td>\n",
       "      <td>2014-01-01</td>\n",
       "      <td>layak</td>\n",
       "    </tr>\n",
       "  </tbody>\n",
       "</table>\n",
       "</div>"
      ],
      "text/plain": [
       "   id  kode_provinsi nama_provinsi  kode_kabupaten_kota nama_kabupaten_kota  \\\n",
       "0   1             32    JAWA BARAT                 3201     KABUPATEN BOGOR   \n",
       "1   2             32    JAWA BARAT                 3202  KABUPATEN SUKABUMI   \n",
       "\n",
       "   jumlah_sanitasi layak  persentase_sanitasi_layak  satuan      tahun  \\\n",
       "0                  685.0                       6.85  PERSEN 2014-01-01   \n",
       "1                 4729.0                      47.29  PERSEN 2014-01-01   \n",
       "\n",
       "  kategori_sanitasi  \n",
       "0             layak  \n",
       "1             layak  "
      ]
     },
     "execution_count": 13,
     "metadata": {},
     "output_type": "execute_result"
    }
   ],
   "source": [
    "q1_sanitasi = np.percentile(sanitasi['jumlah_sanitasi layak'], 25)\n",
    "q2_sanitasi = np.percentile(sanitasi['jumlah_sanitasi layak'], 50)\n",
    "q3_sanitasi = np.percentile(sanitasi['jumlah_sanitasi layak'], 75)\n",
    "\n",
    "sanitasi['kategori_sanitasi'] = pd.cut(sanitasi['jumlah_sanitasi layak'], bins=[float('-inf'), q1_sanitasi, q2_sanitasi, float('inf')],\n",
    "                        labels=['layak', 'cukup layak', 'tidak layak'], include_lowest=True, right=False)\n",
    "sanitasi.head(2)"
   ]
  },
  {
   "cell_type": "markdown",
   "id": "7c5d0753",
   "metadata": {
    "id": "7c5d0753"
   },
   "source": [
    "## II. DATA EXPLORATION"
   ]
  },
  {
   "cell_type": "markdown",
   "id": "2f7129a8",
   "metadata": {
    "id": "2f7129a8"
   },
   "source": [
    "### Analisis perbandingan per data"
   ]
  },
  {
   "cell_type": "code",
   "execution_count": 14,
   "id": "cff1473e",
   "metadata": {
    "id": "cff1473e",
    "outputId": "7db6e6f8-e78b-4a95-b708-df1c78ba6f92"
   },
   "outputs": [
    {
     "data": {
      "image/png": "[encoded data removed]",
      "text/plain": [
       "<Figure size 864x504 with 1 Axes>"
      ]
     },
     "metadata": {
      "needs_background": "light"
     },
     "output_type": "display_data"
    }
   ],
   "source": [
    "kota1 = 'nama_kabupaten_kota'\n",
    "jumlah_rumah ='jumlah_pemilik_rutilahu'\n",
    "\n",
    "sort1 = rumah.sort_values(by=jumlah_rumah,ascending=False)\n",
    "\n",
    "plt.figure(figsize=(12,7))\n",
    "ax = sns.barplot(x=jumlah_rumah, y=kota1, data=sort1, palette='cividis')\n",
    "plt.xlabel('Jumlah Rumah per KK')\n",
    "plt.ylabel(\"Nama Kabupaten atau Kota\")\n",
    "plt.title('Jumlah Kepemilikan Rumah')\n",
    "\n",
    "plt.tight_layout()\n",
    "plt.show()"
   ]
  },
  {
   "cell_type": "code",
   "execution_count": 15,
   "id": "a62da4da",
   "metadata": {
    "id": "a62da4da",
    "outputId": "98e04512-7168-4361-a9da-67dbca373811"
   },
   "outputs": [
    {
     "data": {
      "image/png": "[encoded data removed]",
      "text/plain": [
       "<Figure size 576x360 with 1 Axes>"
      ]
     },
     "metadata": {
      "needs_background": "light"
     },
     "output_type": "display_data"
    }
   ],
   "source": [
    "kota2 = 'nama_kabupaten_kota'\n",
    "jumlah_sampah ='jumlah_sampah'\n",
    "sort2 = sampah.sort_values(by=jumlah_sampah, ascending=False)\n",
    "\n",
    "plt.figure(figsize=(8,5))\n",
    "ax = sns.barplot(x=jumlah_sampah, y=kota2, data=sort2, palette='cividis')\n",
    "plt.xlabel('Jumlah Sampah')\n",
    "plt.ylabel(\"Nama Kabupaten atau Kota\")\n",
    "plt.title('Jumlah Produksi Sampah (Ton per hari)')\n",
    "\n",
    "plt.tight_layout()\n",
    "plt.show()"
   ]
  },
  {
   "cell_type": "code",
   "execution_count": 16,
   "id": "8bd595f3",
   "metadata": {
    "id": "8bd595f3",
    "outputId": "7d0323a4-4ac5-4474-999c-2e26baa2ebb8"
   },
   "outputs": [
    {
     "data": {
      "image/png": "[encoded data removed]",
      "text/plain": [
       "<Figure size 648x432 with 1 Axes>"
      ]
     },
     "metadata": {
      "needs_background": "light"
     },
     "output_type": "display_data"
    }
   ],
   "source": [
    "kota3 = 'nama_kabupaten_kota'\n",
    "jumlah_air ='jumlah_akses'\n",
    "sort3 = air.sort_values(by=jumlah_air,ascending=False)\n",
    "\n",
    "plt.figure(figsize=(9,6))\n",
    "ax = sns.barplot(x=jumlah_air, y=kota3, data=sort3, palette='cividis')\n",
    "plt.xlabel('Jumlah Akses Air')\n",
    "plt.ylabel(\"Nama Kabupaten atau Kota\")\n",
    "plt.title('Jumlah Akses Air Minum per KK')\n",
    "\n",
    "plt.tight_layout()\n",
    "plt.show()"
   ]
  },
  {
   "cell_type": "code",
   "execution_count": 17,
   "id": "0c0fbdcb",
   "metadata": {
    "id": "0c0fbdcb",
    "outputId": "b4d01664-c093-4855-ccb1-818a53eb408d"
   },
   "outputs": [
    {
     "data": {
      "image/png": "[encoded data removed]",
      "text/plain": [
       "<Figure size 648x432 with 1 Axes>"
      ]
     },
     "metadata": {
      "needs_background": "light"
     },
     "output_type": "display_data"
    }
   ],
   "source": [
    "kota4 = 'nama_kabupaten_kota'\n",
    "jumlah_sanitasi ='jumlah_sanitasi layak'\n",
    "sort4 = sanitasi.sort_values(by=jumlah_sanitasi,ascending=False)\n",
    "\n",
    "plt.figure(figsize=(9,6))\n",
    "ax= sns.barplot(x=jumlah_sanitasi, y=kota4, data=sort4, palette='cividis')\n",
    "plt.xlabel('Jumlah Sanitasi Layak')\n",
    "plt.ylabel(\"Nama Kabupaten atau Kota\")\n",
    "plt.title('Jumlah Akses Sanitasi Layak per KK')\n",
    "\n",
    "plt.tight_layout()\n",
    "plt.show()"
   ]
  },
  {
   "cell_type": "markdown",
   "id": "3ee9cd4b",
   "metadata": {
    "id": "3ee9cd4b"
   },
   "source": [
    "### Perbandingan Jumlah Kategori (Layak, Cukup Layak, Tidak Layak) per data dengan tahun yang sama '2019'"
   ]
  },
  {
   "cell_type": "code",
   "execution_count": 18,
   "id": "0921b0f0",
   "metadata": {
    "id": "0921b0f0",
    "outputId": "0b082da7-dea4-4577-a0c1-fadb886726b7"
   },
   "outputs": [
    {
     "data": {
      "image/png": "[encoded data removed]",
      "text/plain": [
       "<Figure size 432x288 with 1 Axes>"
      ]
     },
     "metadata": {
      "needs_background": "light"
     },
     "output_type": "display_data"
    }
   ],
   "source": [
    "tahun_2019 = '01-01-2019'\n",
    "\n",
    "layak1 = rumah[(rumah['kategori_rumah'] == 'layak') & (rumah['tahun'] == tahun_2019)]\n",
    "tidak_layak1 = rumah[(rumah['kategori_rumah'] == 'tidak layak') & (rumah['tahun'] == tahun_2019)]\n",
    "cukup_layak1 = rumah[(rumah['kategori_rumah'] == 'cukup layak') & (rumah['tahun'] == tahun_2019)]\n",
    "\n",
    "total_layak1 = len(layak1)\n",
    "total_tidak1 = len(tidak_layak1)\n",
    "total_cukup1 = len(cukup_layak1)\n",
    "\n",
    "plt.barh([\"Tidak Layak\", \"Cukup Layak\", \"Layak\"],\n",
    "         [total_tidak1, total_cukup1, total_layak1],\n",
    "         color='skyblue')\n",
    "plt.ylabel(\"Kategori\")\n",
    "plt.xlabel(\"Total Kategori\")\n",
    "plt.title(\"Perbandingan Jumlah Rumah Tidak Layak per Kategori Tahun 2019\")\n",
    "plt.show()\n"
   ]
  },
  {
   "cell_type": "code",
   "execution_count": 19,
   "id": "6a194c5a",
   "metadata": {
    "id": "6a194c5a",
    "outputId": "a20902f4-a563-49fc-97d8-de6da9160d1e"
   },
   "outputs": [
    {
     "data": {
      "image/png": "[encoded data removed]",
      "text/plain": [
       "<Figure size 432x288 with 1 Axes>"
      ]
     },
     "metadata": {
      "needs_background": "light"
     },
     "output_type": "display_data"
    }
   ],
   "source": [
    "tahun_2019 = '01-01-2019'\n",
    "\n",
    "sampah_layak2 = sampah[(sampah['kategori_sampah'] == 'layak') & (sampah['tahun'] == tahun_2019)]\n",
    "sampah_tidak_layak2 = sampah[(sampah['kategori_sampah'] == 'tidak layak') & (sampah['tahun'] == tahun_2019)]\n",
    "sampah_cukup_layak2 = sampah[(sampah['kategori_sampah'] == 'cukup layak') & (sampah['tahun'] == tahun_2019)]\n",
    "\n",
    "total_layak2 = len(sampah_layak2)\n",
    "total_tidak2 = len(sampah_tidak_layak2)\n",
    "total_cukup2 = len(sampah_cukup_layak2)\n",
    "\n",
    "plt.barh([\"Tidak Layak\", \"Cukup Layak\", \"Layak\"],\n",
    "         [total_tidak2, total_cukup2, total_layak2],\n",
    "         color='skyblue')\n",
    "plt.ylabel(\"Kategori\")\n",
    "plt.xlabel(\"Total Kategori\")\n",
    "plt.title(\"Perbandingan Jumlah Sampah per Kategori Tahun 2019\")\n",
    "plt.show()\n"
   ]
  },
  {
   "cell_type": "code",
   "execution_count": 20,
   "id": "79969f53",
   "metadata": {
    "id": "79969f53",
    "outputId": "e1cdd6be-6e28-490a-9196-7538e51c69c3"
   },
   "outputs": [
    {
     "data": {
      "image/png": "[encoded data removed]",
      "text/plain": [
       "<Figure size 432x288 with 1 Axes>"
      ]
     },
     "metadata": {
      "needs_background": "light"
     },
     "output_type": "display_data"
    }
   ],
   "source": [
    "tahun_2019 = '01-01-2019'\n",
    "\n",
    "air_layak3 = air[(air['kategori_air'] == 'layak') & (air['tahun'] == tahun_2019)]\n",
    "air_tidak_layak3 = air[(air['kategori_air'] == 'tidak layak') & (air['tahun'] == tahun_2019)]\n",
    "air_cukup_layak3 = air[(air['kategori_air'] == 'cukup layak') & (air['tahun'] == tahun_2019)]\n",
    "\n",
    "total_layak3 = len(air_layak3)\n",
    "total_tidak3 = len(air_tidak_layak3)\n",
    "total_cukup3 = len(air_cukup_layak3)\n",
    "\n",
    "plt.barh([\"Tidak Layak\", \"Cukup Layak\", \"Layak\"],\n",
    "         [total_tidak3, total_cukup3, total_layak3],\n",
    "         color='skyblue')\n",
    "plt.ylabel(\"Kategori\")\n",
    "plt.xlabel(\"Total Kategori\")\n",
    "plt.title(\"Perbandingan Jumlah Akses Air Minum per Kategori Tahun 2019\")\n",
    "plt.show()\n"
   ]
  },
  {
   "cell_type": "code",
   "execution_count": 21,
   "id": "ef2a3180",
   "metadata": {
    "id": "ef2a3180",
    "outputId": "df968463-47e7-4d06-a1d5-ddea54b2b669"
   },
   "outputs": [
    {
     "data": {
      "image/png": "[encoded data removed]",
      "text/plain": [
       "<Figure size 432x288 with 1 Axes>"
      ]
     },
     "metadata": {
      "needs_background": "light"
     },
     "output_type": "display_data"
    }
   ],
   "source": [
    "tahun_2019 = '01-01-2019'\n",
    "\n",
    "sanitasi_layak4 = sanitasi[(sanitasi['kategori_sanitasi'] == 'layak') & (sanitasi['tahun'] == tahun_2019)]\n",
    "sanitasi_tidak_layak4 = sanitasi[(sanitasi['kategori_sanitasi'] == 'tidak layak') & (sanitasi['tahun'] == tahun_2019)]\n",
    "sanitasi_cukup_layak4 = sanitasi[(sanitasi['kategori_sanitasi'] == 'cukup layak') & (sanitasi['tahun'] == tahun_2019)]\n",
    "\n",
    "total_layak4 = len(sanitasi_layak4)\n",
    "total_tidak4 = len(sanitasi_tidak_layak4)\n",
    "total_cukup4 = len(sanitasi_cukup_layak4)\n",
    "\n",
    "plt.barh([\"Tidak Layak\", \"Cukup Layak\", \"Layak\"],\n",
    "         [total_tidak4, total_cukup4, total_layak4],\n",
    "         color='skyblue')\n",
    "plt.ylabel(\"Kategori\")\n",
    "plt.xlabel(\"Total Kategori\")\n",
    "plt.title(\"Perbandingan Jumlah Akses Sanitasi Jamban per Kategori Tahun 2019\")\n",
    "plt.show()\n"
   ]
  },
  {
   "cell_type": "markdown",
   "id": "a856d5d9",
   "metadata": {
    "id": "a856d5d9"
   },
   "source": [
    "### Analisis rata-rata tren data (jumlah sampah, akses sanitasi dan akses air minum)"
   ]
  },
  {
   "cell_type": "code",
   "execution_count": 22,
   "id": "f539c540",
   "metadata": {
    "id": "f539c540",
    "outputId": "173801ff-1464-4676-84b7-c47c6608aa52"
   },
   "outputs": [
    {
     "data": {
      "image/png": "[encoded data removed]",
      "text/plain": [
       "<Figure size 432x288 with 1 Axes>"
      ]
     },
     "metadata": {
      "needs_background": "light"
     },
     "output_type": "display_data"
    }
   ],
   "source": [
    "df = sampah.set_index(sampah['tahun'])\n",
    "tahunan = df['jumlah_sampah'].resample('Y').mean()\n",
    "tahunan.plot(title='Tren Produksi Sampah per tahunnya', color='blue')\n",
    "plt.show()"
   ]
  },
  {
   "cell_type": "code",
   "execution_count": 23,
   "id": "7ecf645c",
   "metadata": {
    "id": "7ecf645c",
    "outputId": "2d40a03d-0661-4a30-b840-927a04aa5ad3"
   },
   "outputs": [
    {
     "data": {
      "image/png": "[encoded data removed]",
      "text/plain": [
       "<Figure size 432x288 with 1 Axes>"
      ]
     },
     "metadata": {
      "needs_background": "light"
     },
     "output_type": "display_data"
    }
   ],
   "source": [
    "df2 = sanitasi.set_index(sanitasi['tahun'])\n",
    "tahunan = df2['jumlah_sanitasi layak'].resample('Y').mean()\n",
    "tahunan.plot(title='Tren Jumlah Fasilitas Sanitasi per Tahunnya', color='blue')\n",
    "plt.show()"
   ]
  },
  {
   "cell_type": "code",
   "execution_count": 24,
   "id": "62ca32e5",
   "metadata": {
    "id": "62ca32e5",
    "outputId": "46d699c9-377a-4c81-baf2-571a96f015e2"
   },
   "outputs": [
    {
     "data": {
      "image/png": "[encoded data removed]",
      "text/plain": [
       "<Figure size 432x288 with 1 Axes>"
      ]
     },
     "metadata": {
      "needs_background": "light"
     },
     "output_type": "display_data"
    }
   ],
   "source": [
    "df3 = air.set_index(air['tahun'])\n",
    "tahunan = df3['jumlah_akses'].resample('Y').mean()\n",
    "tahunan.plot(title='Tren Akses Air Minum per Tahunnya', color='blue')\n",
    "plt.show()"
   ]
  },
  {
   "cell_type": "markdown",
   "id": "1dde0035",
   "metadata": {
    "id": "1dde0035"
   },
   "source": [
    "### Interpretasi :\n",
    "### Berdasarkan visualisasi diatas diketahui bahwa :\n",
    "#### 1.  Dilihat dari trennya semakin meningkat pelayanannya untuk semua aspek. Namun, ada beberapa yang peningkatannya kecil, karena setiap tahunnya tetap ada yang layak tetapi sangat kecil.\n",
    "#### 2. Dilihat dari 3 aspek hunian layak yaitu sanitasi, akses air minum, dan jumlah sampah diproduksi pada hunian yang layak banyak ditemukan di wilayah Cirebon karena wilayah jumlah sanitasi layak dan akses air minum yang layak terjadi peningkatan serta penurunan produksi sampah, berdasarkan sumber  bisnis.com Pemkot Cirebon terus mendorong ketersediaan rumah layak huni bagi warganya sejak tahun 2014. Dan wilayah Tasikmalaya juga termasuk wilayah yang memiliki hunian layak terbanyak karena pemerintah kota Tasikmalaya sejak tahun 2016 berupaya mengurangi hunian tidak layak tanpa menggusur rumah melalui program kota tanpa kumuh (KOTAKU) (sumber:https://banten.antaranews.com/) sehingga terlihat pada data https://opendata.tasikmalayakota.go.id terjadi penurunan angka pemukiman kumuh antara tahun 2020-2022. Sedangkan akses hunian yang tidak layak banyak ditemukan di wilayah Sukabumi karena wilayah ini jumlah sanitasi yang layak terjadi penurunan dari tahun ke tahun dan berdasarkan sumber radarsukabumi.com  hal tersebut terjadi karena ketidakmampuan keuangan daerah dalam mengalokasikan anggaran perbaikan rumah.\n",
    "#### 3. Kesenjangan terhadap akses hunian berdasarkan kategori layak jika dilihat dari jumlah  sampah dari tahun ke tahun mengalami penurunan artinya masyarakat di Jawa Barat mulai menyadari akan faktor hunian yang layak juga berdasarkan kebersihan lingkungan, tingginya produksi sampah di suatu daerah dapat menciptakan masalah lingkungan dan kesehatan yang memengaruhi kelayakan suatu hunian. Pada kategori cukup layak terjadi peningkatan dari tahun 2018-2020 kemudian menurun pada tahun 2021 hal ini menunjukkan pada mulanya masyarakat di beberapa wilayah di Jawa Barat kurang menyadari terhadap permasalahan sampah dapat memengaruhi keberlanjutan suatu hunian kemudian di tahun 2021 masyarakat mulai menyadari tentang kebersihan lingkungan pada tahun tersebut Pemprov Jabar melakukan program pengurangan sampah sebesar 30% melalui daur ulang guna meningkatkan perekonomian masyarakat. Sedangkan pada hunian tidak layak jumlah sampah yang dihasilkan terjadi penurunan yang signifikan dari 2017 - 2018 kemudian konstan, berarti masyarakat mulai mengusahakan menjaga kebersihan lingkungan demi menjadikan suatu hunian layak huni.\n",
    "#### 4. Berdasarkan kemudahan akses air minum layak berdasarkan jumlah rumah yang cukup layak dan tidak layak di tahun 2019 mengalami kenaikan berarti sepanjang tahun ini pemerintah provinsi di Jawa Barat selalu melakukan perbaikan infrastruktur air minum di seluruh wilayah di Jawa Barat guna meningkatkan kesejahteraan masyarakat.\n",
    "#### 5. Pemerintah provinsi Jawa Barat sebaiknya melakukan integrasi aspek pembangunan kota yang berkelanjutan dengan melihat pembangunan infrastruktur perumahan yang berkelanjutan termasuk penyediaan terhadap akses air minum yang bersih , sanitasi yang baik dan managemen dalam mengolah sampah secara efektif. Tidak lupa mengikutsertakan partisipasi masyarakat dalam proses perencanaan dan pembangunan pemukiman yang berkelanjutan."
   ]
  },
  {
   "cell_type": "markdown",
   "id": "15f29c71",
   "metadata": {
    "id": "15f29c71"
   },
   "source": [
    "###  Export Excel"
   ]
  },
  {
   "cell_type": "code",
   "execution_count": 25,
   "id": "87713cb4",
   "metadata": {
    "id": "87713cb4"
   },
   "outputs": [],
   "source": [
    "file_excel = 'kategori_rumah.xlsx'\n",
    "rumah.to_excel(file_excel, index=False)"
   ]
  },
  {
   "cell_type": "code",
   "execution_count": 26,
   "id": "46200b8e",
   "metadata": {
    "id": "46200b8e"
   },
   "outputs": [],
   "source": [
    "file_excel = 'kategori_air.xlsx'\n",
    "air.to_excel(file_excel, index=False)"
   ]
  },
  {
   "cell_type": "code",
   "execution_count": 27,
   "id": "3eac1a73",
   "metadata": {
    "id": "3eac1a73"
   },
   "outputs": [],
   "source": [
    "file_excel = 'kategori_sampah.xlsx'\n",
    "sampah.to_excel(file_excel, index=False)"
   ]
  },
  {
   "cell_type": "code",
   "execution_count": 28,
   "id": "4eb2630e",
   "metadata": {
    "id": "4eb2630e"
   },
   "outputs": [],
   "source": [
    "file_excel = 'kategori_sanitasi.xlsx'\n",
    "sanitasi.to_excel(file_excel, index=False)"
   ]
  },
  {
   "cell_type": "markdown",
   "id": "05be4903",
   "metadata": {
    "id": "05be4903"
   },
   "source": [
    "### Penggabungan Data berdasarkan \"Nama Kabupaten\""
   ]
  },
  {
   "cell_type": "code",
   "execution_count": 29,
   "id": "30f64612",
   "metadata": {
    "id": "30f64612",
    "outputId": "7401d746-034a-485a-e096-78372f2ad4fd"
   },
   "outputs": [
    {
     "data": {
      "text/html": [
       "<div>\n",
       "<style scoped>\n",
       "    .dataframe tbody tr th:only-of-type {\n",
       "        vertical-align: middle;\n",
       "    }\n",
       "\n",
       "    .dataframe tbody tr th {\n",
       "        vertical-align: top;\n",
       "    }\n",
       "\n",
       "    .dataframe thead th {\n",
       "        text-align: right;\n",
       "    }\n",
       "</style>\n",
       "<table border=\"1\" class=\"dataframe\">\n",
       "  <thead>\n",
       "    <tr style=\"text-align: right;\">\n",
       "      <th></th>\n",
       "      <th>id_x</th>\n",
       "      <th>kode_provinsi_x</th>\n",
       "      <th>nama_provinsi_x</th>\n",
       "      <th>kode_kabupaten_kota_x</th>\n",
       "      <th>nama_kabupaten_kota</th>\n",
       "      <th>jumlah_pemilik_rutilahu</th>\n",
       "      <th>satuan_x</th>\n",
       "      <th>tahun_x</th>\n",
       "      <th>kategori_rumah</th>\n",
       "      <th>id_y</th>\n",
       "      <th>...</th>\n",
       "      <th>kategori_sampah</th>\n",
       "      <th>id_y</th>\n",
       "      <th>kode_provinsi_y</th>\n",
       "      <th>nama_provinsi_y</th>\n",
       "      <th>kode_kabupaten_kota_y</th>\n",
       "      <th>jumlah_sanitasi layak</th>\n",
       "      <th>persentase_sanitasi_layak</th>\n",
       "      <th>satuan_y</th>\n",
       "      <th>tahun_y</th>\n",
       "      <th>kategori_sanitasi</th>\n",
       "    </tr>\n",
       "  </thead>\n",
       "  <tbody>\n",
       "    <tr>\n",
       "      <th>0</th>\n",
       "      <td>1</td>\n",
       "      <td>32</td>\n",
       "      <td>JAWA BARAT</td>\n",
       "      <td>3201</td>\n",
       "      <td>KABUPATEN BOGOR</td>\n",
       "      <td>180673</td>\n",
       "      <td>KELUARGA RUMAH TANGGA SASARAN</td>\n",
       "      <td>2019-01-01</td>\n",
       "      <td>tidak layak</td>\n",
       "      <td>1</td>\n",
       "      <td>...</td>\n",
       "      <td>tidak layak</td>\n",
       "      <td>1</td>\n",
       "      <td>32</td>\n",
       "      <td>JAWA BARAT</td>\n",
       "      <td>3201</td>\n",
       "      <td>685.0</td>\n",
       "      <td>6.85</td>\n",
       "      <td>PERSEN</td>\n",
       "      <td>2014-01-01</td>\n",
       "      <td>layak</td>\n",
       "    </tr>\n",
       "    <tr>\n",
       "      <th>1</th>\n",
       "      <td>1</td>\n",
       "      <td>32</td>\n",
       "      <td>JAWA BARAT</td>\n",
       "      <td>3201</td>\n",
       "      <td>KABUPATEN BOGOR</td>\n",
       "      <td>180673</td>\n",
       "      <td>KELUARGA RUMAH TANGGA SASARAN</td>\n",
       "      <td>2019-01-01</td>\n",
       "      <td>tidak layak</td>\n",
       "      <td>1</td>\n",
       "      <td>...</td>\n",
       "      <td>tidak layak</td>\n",
       "      <td>28</td>\n",
       "      <td>32</td>\n",
       "      <td>JAWA BARAT</td>\n",
       "      <td>3201</td>\n",
       "      <td>6958.0</td>\n",
       "      <td>69.58</td>\n",
       "      <td>PERSEN</td>\n",
       "      <td>2015-01-01</td>\n",
       "      <td>cukup layak</td>\n",
       "    </tr>\n",
       "    <tr>\n",
       "      <th>2</th>\n",
       "      <td>1</td>\n",
       "      <td>32</td>\n",
       "      <td>JAWA BARAT</td>\n",
       "      <td>3201</td>\n",
       "      <td>KABUPATEN BOGOR</td>\n",
       "      <td>180673</td>\n",
       "      <td>KELUARGA RUMAH TANGGA SASARAN</td>\n",
       "      <td>2019-01-01</td>\n",
       "      <td>tidak layak</td>\n",
       "      <td>1</td>\n",
       "      <td>...</td>\n",
       "      <td>tidak layak</td>\n",
       "      <td>55</td>\n",
       "      <td>32</td>\n",
       "      <td>JAWA BARAT</td>\n",
       "      <td>3201</td>\n",
       "      <td>7208.0</td>\n",
       "      <td>72.08</td>\n",
       "      <td>PERSEN</td>\n",
       "      <td>2016-01-01</td>\n",
       "      <td>cukup layak</td>\n",
       "    </tr>\n",
       "    <tr>\n",
       "      <th>3</th>\n",
       "      <td>1</td>\n",
       "      <td>32</td>\n",
       "      <td>JAWA BARAT</td>\n",
       "      <td>3201</td>\n",
       "      <td>KABUPATEN BOGOR</td>\n",
       "      <td>180673</td>\n",
       "      <td>KELUARGA RUMAH TANGGA SASARAN</td>\n",
       "      <td>2019-01-01</td>\n",
       "      <td>tidak layak</td>\n",
       "      <td>1</td>\n",
       "      <td>...</td>\n",
       "      <td>tidak layak</td>\n",
       "      <td>82</td>\n",
       "      <td>32</td>\n",
       "      <td>JAWA BARAT</td>\n",
       "      <td>3201</td>\n",
       "      <td>7044.0</td>\n",
       "      <td>70.44</td>\n",
       "      <td>PERSEN</td>\n",
       "      <td>2017-01-01</td>\n",
       "      <td>cukup layak</td>\n",
       "    </tr>\n",
       "    <tr>\n",
       "      <th>4</th>\n",
       "      <td>1</td>\n",
       "      <td>32</td>\n",
       "      <td>JAWA BARAT</td>\n",
       "      <td>3201</td>\n",
       "      <td>KABUPATEN BOGOR</td>\n",
       "      <td>180673</td>\n",
       "      <td>KELUARGA RUMAH TANGGA SASARAN</td>\n",
       "      <td>2019-01-01</td>\n",
       "      <td>tidak layak</td>\n",
       "      <td>1</td>\n",
       "      <td>...</td>\n",
       "      <td>tidak layak</td>\n",
       "      <td>109</td>\n",
       "      <td>32</td>\n",
       "      <td>JAWA BARAT</td>\n",
       "      <td>3201</td>\n",
       "      <td>7396.0</td>\n",
       "      <td>73.96</td>\n",
       "      <td>PERSEN</td>\n",
       "      <td>2018-01-01</td>\n",
       "      <td>cukup layak</td>\n",
       "    </tr>\n",
       "    <tr>\n",
       "      <th>...</th>\n",
       "      <td>...</td>\n",
       "      <td>...</td>\n",
       "      <td>...</td>\n",
       "      <td>...</td>\n",
       "      <td>...</td>\n",
       "      <td>...</td>\n",
       "      <td>...</td>\n",
       "      <td>...</td>\n",
       "      <td>...</td>\n",
       "      <td>...</td>\n",
       "      <td>...</td>\n",
       "      <td>...</td>\n",
       "      <td>...</td>\n",
       "      <td>...</td>\n",
       "      <td>...</td>\n",
       "      <td>...</td>\n",
       "      <td>...</td>\n",
       "      <td>...</td>\n",
       "      <td>...</td>\n",
       "      <td>...</td>\n",
       "      <td>...</td>\n",
       "    </tr>\n",
       "    <tr>\n",
       "      <th>83155</th>\n",
       "      <td>27</td>\n",
       "      <td>32</td>\n",
       "      <td>JAWA BARAT</td>\n",
       "      <td>3279</td>\n",
       "      <td>KOTA BANJAR</td>\n",
       "      <td>6313</td>\n",
       "      <td>KELUARGA RUMAH TANGGA SASARAN</td>\n",
       "      <td>2019-01-01</td>\n",
       "      <td>layak</td>\n",
       "      <td>1485</td>\n",
       "      <td>...</td>\n",
       "      <td>layak</td>\n",
       "      <td>108</td>\n",
       "      <td>32</td>\n",
       "      <td>JAWA BARAT</td>\n",
       "      <td>3279</td>\n",
       "      <td>8036.0</td>\n",
       "      <td>80.36</td>\n",
       "      <td>PERSEN</td>\n",
       "      <td>2017-01-01</td>\n",
       "      <td>tidak layak</td>\n",
       "    </tr>\n",
       "    <tr>\n",
       "      <th>83156</th>\n",
       "      <td>27</td>\n",
       "      <td>32</td>\n",
       "      <td>JAWA BARAT</td>\n",
       "      <td>3279</td>\n",
       "      <td>KOTA BANJAR</td>\n",
       "      <td>6313</td>\n",
       "      <td>KELUARGA RUMAH TANGGA SASARAN</td>\n",
       "      <td>2019-01-01</td>\n",
       "      <td>layak</td>\n",
       "      <td>1485</td>\n",
       "      <td>...</td>\n",
       "      <td>layak</td>\n",
       "      <td>135</td>\n",
       "      <td>32</td>\n",
       "      <td>JAWA BARAT</td>\n",
       "      <td>3279</td>\n",
       "      <td>7182.0</td>\n",
       "      <td>71.82</td>\n",
       "      <td>PERSEN</td>\n",
       "      <td>2018-01-01</td>\n",
       "      <td>cukup layak</td>\n",
       "    </tr>\n",
       "    <tr>\n",
       "      <th>83157</th>\n",
       "      <td>27</td>\n",
       "      <td>32</td>\n",
       "      <td>JAWA BARAT</td>\n",
       "      <td>3279</td>\n",
       "      <td>KOTA BANJAR</td>\n",
       "      <td>6313</td>\n",
       "      <td>KELUARGA RUMAH TANGGA SASARAN</td>\n",
       "      <td>2019-01-01</td>\n",
       "      <td>layak</td>\n",
       "      <td>1485</td>\n",
       "      <td>...</td>\n",
       "      <td>layak</td>\n",
       "      <td>162</td>\n",
       "      <td>32</td>\n",
       "      <td>JAWA BARAT</td>\n",
       "      <td>3279</td>\n",
       "      <td>4700.0</td>\n",
       "      <td>47.00</td>\n",
       "      <td>PERSEN</td>\n",
       "      <td>2019-01-01</td>\n",
       "      <td>layak</td>\n",
       "    </tr>\n",
       "    <tr>\n",
       "      <th>83158</th>\n",
       "      <td>27</td>\n",
       "      <td>32</td>\n",
       "      <td>JAWA BARAT</td>\n",
       "      <td>3279</td>\n",
       "      <td>KOTA BANJAR</td>\n",
       "      <td>6313</td>\n",
       "      <td>KELUARGA RUMAH TANGGA SASARAN</td>\n",
       "      <td>2019-01-01</td>\n",
       "      <td>layak</td>\n",
       "      <td>1485</td>\n",
       "      <td>...</td>\n",
       "      <td>layak</td>\n",
       "      <td>189</td>\n",
       "      <td>32</td>\n",
       "      <td>JAWA BARAT</td>\n",
       "      <td>3279</td>\n",
       "      <td>8520.0</td>\n",
       "      <td>85.20</td>\n",
       "      <td>PERSEN</td>\n",
       "      <td>2020-01-01</td>\n",
       "      <td>tidak layak</td>\n",
       "    </tr>\n",
       "    <tr>\n",
       "      <th>83159</th>\n",
       "      <td>27</td>\n",
       "      <td>32</td>\n",
       "      <td>JAWA BARAT</td>\n",
       "      <td>3279</td>\n",
       "      <td>KOTA BANJAR</td>\n",
       "      <td>6313</td>\n",
       "      <td>KELUARGA RUMAH TANGGA SASARAN</td>\n",
       "      <td>2019-01-01</td>\n",
       "      <td>layak</td>\n",
       "      <td>1485</td>\n",
       "      <td>...</td>\n",
       "      <td>layak</td>\n",
       "      <td>216</td>\n",
       "      <td>32</td>\n",
       "      <td>JAWA BARAT</td>\n",
       "      <td>3279</td>\n",
       "      <td>9797.0</td>\n",
       "      <td>97.97</td>\n",
       "      <td>PERSEN</td>\n",
       "      <td>2021-01-01</td>\n",
       "      <td>tidak layak</td>\n",
       "    </tr>\n",
       "  </tbody>\n",
       "</table>\n",
       "<p>83160 rows × 35 columns</p>\n",
       "</div>"
      ],
      "text/plain": [
       "       id_x  kode_provinsi_x nama_provinsi_x  kode_kabupaten_kota_x  \\\n",
       "0         1               32      JAWA BARAT                   3201   \n",
       "1         1               32      JAWA BARAT                   3201   \n",
       "2         1               32      JAWA BARAT                   3201   \n",
       "3         1               32      JAWA BARAT                   3201   \n",
       "4         1               32      JAWA BARAT                   3201   \n",
       "...     ...              ...             ...                    ...   \n",
       "83155    27               32      JAWA BARAT                   3279   \n",
       "83156    27               32      JAWA BARAT                   3279   \n",
       "83157    27               32      JAWA BARAT                   3279   \n",
       "83158    27               32      JAWA BARAT                   3279   \n",
       "83159    27               32      JAWA BARAT                   3279   \n",
       "\n",
       "      nama_kabupaten_kota  jumlah_pemilik_rutilahu  \\\n",
       "0         KABUPATEN BOGOR                   180673   \n",
       "1         KABUPATEN BOGOR                   180673   \n",
       "2         KABUPATEN BOGOR                   180673   \n",
       "3         KABUPATEN BOGOR                   180673   \n",
       "4         KABUPATEN BOGOR                   180673   \n",
       "...                   ...                      ...   \n",
       "83155         KOTA BANJAR                     6313   \n",
       "83156         KOTA BANJAR                     6313   \n",
       "83157         KOTA BANJAR                     6313   \n",
       "83158         KOTA BANJAR                     6313   \n",
       "83159         KOTA BANJAR                     6313   \n",
       "\n",
       "                            satuan_x    tahun_x kategori_rumah  id_y  ...  \\\n",
       "0      KELUARGA RUMAH TANGGA SASARAN 2019-01-01    tidak layak     1  ...   \n",
       "1      KELUARGA RUMAH TANGGA SASARAN 2019-01-01    tidak layak     1  ...   \n",
       "2      KELUARGA RUMAH TANGGA SASARAN 2019-01-01    tidak layak     1  ...   \n",
       "3      KELUARGA RUMAH TANGGA SASARAN 2019-01-01    tidak layak     1  ...   \n",
       "4      KELUARGA RUMAH TANGGA SASARAN 2019-01-01    tidak layak     1  ...   \n",
       "...                              ...        ...            ...   ...  ...   \n",
       "83155  KELUARGA RUMAH TANGGA SASARAN 2019-01-01          layak  1485  ...   \n",
       "83156  KELUARGA RUMAH TANGGA SASARAN 2019-01-01          layak  1485  ...   \n",
       "83157  KELUARGA RUMAH TANGGA SASARAN 2019-01-01          layak  1485  ...   \n",
       "83158  KELUARGA RUMAH TANGGA SASARAN 2019-01-01          layak  1485  ...   \n",
       "83159  KELUARGA RUMAH TANGGA SASARAN 2019-01-01          layak  1485  ...   \n",
       "\n",
       "       kategori_sampah id_y  kode_provinsi_y nama_provinsi_y  \\\n",
       "0          tidak layak    1               32      JAWA BARAT   \n",
       "1          tidak layak   28               32      JAWA BARAT   \n",
       "2          tidak layak   55               32      JAWA BARAT   \n",
       "3          tidak layak   82               32      JAWA BARAT   \n",
       "4          tidak layak  109               32      JAWA BARAT   \n",
       "...                ...  ...              ...             ...   \n",
       "83155            layak  108               32      JAWA BARAT   \n",
       "83156            layak  135               32      JAWA BARAT   \n",
       "83157            layak  162               32      JAWA BARAT   \n",
       "83158            layak  189               32      JAWA BARAT   \n",
       "83159            layak  216               32      JAWA BARAT   \n",
       "\n",
       "       kode_kabupaten_kota_y jumlah_sanitasi layak persentase_sanitasi_layak  \\\n",
       "0                       3201                 685.0                      6.85   \n",
       "1                       3201                6958.0                     69.58   \n",
       "2                       3201                7208.0                     72.08   \n",
       "3                       3201                7044.0                     70.44   \n",
       "4                       3201                7396.0                     73.96   \n",
       "...                      ...                   ...                       ...   \n",
       "83155                   3279                8036.0                     80.36   \n",
       "83156                   3279                7182.0                     71.82   \n",
       "83157                   3279                4700.0                     47.00   \n",
       "83158                   3279                8520.0                     85.20   \n",
       "83159                   3279                9797.0                     97.97   \n",
       "\n",
       "      satuan_y    tahun_y  kategori_sanitasi  \n",
       "0       PERSEN 2014-01-01              layak  \n",
       "1       PERSEN 2015-01-01        cukup layak  \n",
       "2       PERSEN 2016-01-01        cukup layak  \n",
       "3       PERSEN 2017-01-01        cukup layak  \n",
       "4       PERSEN 2018-01-01        cukup layak  \n",
       "...        ...        ...                ...  \n",
       "83155   PERSEN 2017-01-01        tidak layak  \n",
       "83156   PERSEN 2018-01-01        cukup layak  \n",
       "83157   PERSEN 2019-01-01              layak  \n",
       "83158   PERSEN 2020-01-01        tidak layak  \n",
       "83159   PERSEN 2021-01-01        tidak layak  \n",
       "\n",
       "[83160 rows x 35 columns]"
      ]
     },
     "execution_count": 29,
     "metadata": {},
     "output_type": "execute_result"
    }
   ],
   "source": [
    "finish = pd.merge(rumah, air, on='nama_kabupaten_kota').merge(sampah, on='nama_kabupaten_kota').merge(sanitasi, on='nama_kabupaten_kota')\n",
    "finish"
   ]
  },
  {
   "cell_type": "markdown",
   "id": "f3a0af9f",
   "metadata": {
    "id": "f3a0af9f"
   },
   "source": [
    "### Kesimpulan :\n",
    "### Dalam mencapai tujuan ini dibutuhkan sinergi bersama antar semua pihak mulai dari pemerintah, sektor swasta, masyarakat sipil, dan lembaga internasional. Kolaborasi lintas sektor ini dapat diterapkan dalam  indikator kemudahan akses rumah tangga yang memiliki  hunian yang layak dan terjangkau. Berdasarkan pemaparan tentang karakteristik akses hunian yang layak sebelumnya, diharapkan dapat menciptakan pemukiman perkotaan yang tidak hanya berkelanjutan tetapi juga ramah lingkungan.\n",
    "### Rekomendasi :\n",
    "#### - Fokus pada Perbaikan Berkelanjutan:\n",
    "#### Lakukan peninjauan terhadap wilayah-wilayah yang memiliki rumah tidak layak yang paling tinggi.  Implementasikan strategi dan program yang terbukti efektif. Lakukan monitoring dan evaluasi berkala untuk memastikan program berjalan efektif dan mencapai target.\n",
    "#### - Prioritaskan wilayah tertinggal:\n",
    "#### Berikan perhatian khusus pada wilayah wilayah yang mengalami ketertinggalan pada beberapa kategori seperti daerah Sukabumi. Alokasikan sumber daya yang cukup untuk meningkatkan pelayanan di wilayah-wilayah tersebut. Lakukan intervensi tepat sasaran untuk mengatasi hambatan spesifik di setiap wilayah.\n",
    "#### - Peningkatan Sanitasi dan Akses Air Minum:\n",
    "#### Teruskan upaya peningkatan sanitasi dan akses air minum, khususnya di wilayah Sukabumi.\n",
    "#### - Perbaikan manajemen Sampah:\n",
    "#### Perluas program pengurangan sampah melalui daur ulang dan edukasi masyarakat.\n",
    "#### - Perbaikan infrastruktur Berkelanjutan:\n",
    "#### Integrasikan pembangunan infrastruktur perumahan dengan penyediaan layanan dasar berkelanjutan.\n",
    "#### - Edukasi dan kesadaran masyarakat:\n",
    "#### Tingkatkan edukasi untuk meningkatkan kesadaran masyarakat tentang kebersihan lingkungan dan pengelolaan sampah.\n",
    "#### - Keterlibatan masyarakat:\n",
    "#### Libatkan masyarakat dalam perencanaan dan pembangunan pemukiman berkelanjutan.\n",
    "#### - Pemantauan dan Evaluasi:\n",
    "#### Lakukan pemantauan dan evaluasi berkala untuk mengukur efektivitas program dan membuat penyesuaian yang diperlukan.\n"
   ]
  },
  {
   "cell_type": "code",
   "execution_count": null,
   "id": "eac7dbfc",
   "metadata": {
    "id": "eac7dbfc"
   },
   "outputs": [],
   "source": []
  }
 ],
 "metadata": {
  "colab": {
   "provenance": []
  },
  "kernelspec": {
   "display_name": "Python 3 (ipykernel)",
   "language": "python",
   "name": "python3"
  },
  "language_info": {
   "codemirror_mode": {
    "name": "ipython",
    "version": 3
   },
   "file_extension": ".py",
   "mimetype": "text/x-python",
   "name": "python",
   "nbconvert_exporter": "python",
   "pygments_lexer": "ipython3",
   "version": "3.9.12"
  }
 },
 "nbformat": 4,
 "nbformat_minor": 5
}
