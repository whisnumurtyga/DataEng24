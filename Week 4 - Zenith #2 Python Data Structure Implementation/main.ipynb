{
 "cells": [
  {
   "cell_type": "markdown",
   "metadata": {},
   "source": [
    "# List"
   ]
  },
  {
   "cell_type": "code",
   "execution_count": 1,
   "metadata": {},
   "outputs": [],
   "source": [
    "import pandas as pd\n",
    "import matplotlib.pyplot as plt\n",
    "import seaborn as sns"
   ]
  },
  {
   "cell_type": "code",
   "execution_count": 2,
   "metadata": {},
   "outputs": [
    {
     "name": "stdout",
     "output_type": "stream",
     "text": [
      "Object Columns: \n",
      "['Name', 'Birthdate', 'City']\n",
      "\n",
      "Numeric Columns: \n",
      "['Age']\n",
      "\n",
      "Date Columns: \n",
      "['Birthdate']\n"
     ]
    }
   ],
   "source": [
    "# Contoh DataFrame\n",
    "data = {\n",
    "    'Name': ['John', 'Alice', 'Bob', 'Eve'],\n",
    "    'Age': [25, 30, 35, 40],\n",
    "    'Birthdate': ['1996-05-10', '1992-08-20', '1987-12-05', '1982-04-15'],\n",
    "    'City': ['New York', 'Los Angeles', 'Chicago', 'Seattle']\n",
    "}\n",
    "\n",
    "df = pd.DataFrame(data)\n",
    "date_col = ['Birthdate']\n",
    "object_columns = [col for col in df.select_dtypes(include='O')]\n",
    "num_columns = [col for col in df.select_dtypes(exclude='O') if col not in date_col]\n",
    "\n",
    "print(f'Object Columns: \\n{object_columns}\\n')\n",
    "print(f'Numeric Columns: \\n{num_columns}\\n')\n",
    "print(f'Date Columns: \\n{date_col}')"
   ]
  },
  {
   "cell_type": "code",
   "execution_count": 12,
   "metadata": {},
   "outputs": [
    {
     "data": {
      "text/html": [
       "<div>\n",
       "<style scoped>\n",
       "    .dataframe tbody tr th:only-of-type {\n",
       "        vertical-align: middle;\n",
       "    }\n",
       "\n",
       "    .dataframe tbody tr th {\n",
       "        vertical-align: top;\n",
       "    }\n",
       "\n",
       "    .dataframe thead th {\n",
       "        text-align: right;\n",
       "    }\n",
       "</style>\n",
       "<table border=\"1\" class=\"dataframe\">\n",
       "  <thead>\n",
       "    <tr style=\"text-align: right;\">\n",
       "      <th></th>\n",
       "      <th>Name</th>\n",
       "      <th>Age</th>\n",
       "      <th>Birthdate</th>\n",
       "      <th>City</th>\n",
       "    </tr>\n",
       "  </thead>\n",
       "  <tbody>\n",
       "    <tr>\n",
       "      <th>0</th>\n",
       "      <td>John</td>\n",
       "      <td>25</td>\n",
       "      <td>1996-05-10</td>\n",
       "      <td>New York</td>\n",
       "    </tr>\n",
       "    <tr>\n",
       "      <th>1</th>\n",
       "      <td>Alice</td>\n",
       "      <td>30</td>\n",
       "      <td>1992-08-20</td>\n",
       "      <td>Los Angeles</td>\n",
       "    </tr>\n",
       "    <tr>\n",
       "      <th>2</th>\n",
       "      <td>Bob</td>\n",
       "      <td>35</td>\n",
       "      <td>1987-12-05</td>\n",
       "      <td>Chicago</td>\n",
       "    </tr>\n",
       "    <tr>\n",
       "      <th>3</th>\n",
       "      <td>Eve</td>\n",
       "      <td>40</td>\n",
       "      <td>1982-04-15</td>\n",
       "      <td>Seattle</td>\n",
       "    </tr>\n",
       "  </tbody>\n",
       "</table>\n",
       "</div>"
      ],
      "text/plain": [
       "    Name  Age   Birthdate         City\n",
       "0   John   25  1996-05-10     New York\n",
       "1  Alice   30  1992-08-20  Los Angeles\n",
       "2    Bob   35  1987-12-05      Chicago\n",
       "3    Eve   40  1982-04-15      Seattle"
      ]
     },
     "execution_count": 12,
     "metadata": {},
     "output_type": "execute_result"
    }
   ],
   "source": [
    "df.head()"
   ]
  },
  {
   "cell_type": "code",
   "execution_count": 17,
   "metadata": {},
   "outputs": [],
   "source": [
    "data = {\n",
    "    'Name': ['John', 'Alice', 'Bob', 'Eve', 'Michael', 'Jessica', 'David', 'Sarah', 'Ryan', 'Emily', 'Daniel', 'Olivia', 'Matthew', 'Emma', 'Andrew', 'Hannah', 'James', 'Lauren', 'Christopher', 'Ava'],\n",
    "    'Age': [25, 30, 35, 40, 27, 32, 37, 42, 29, 34, 39, 44, 31, 36, 41, 26, 33, 38, 43, 28],\n",
    "    'Birthdate': ['1996-05-10', '1992-08-20', '1987-12-05', '1982-04-15', '1999-03-25', '1994-06-18', '1989-09-30', '1984-11-22', '1995-02-12', '1990-07-08', '1985-10-17', '1980-01-31', '1993-04-04', '1988-07-19', '1983-12-28', '1998-02-05', '1991-05-15', '1986-08-07', '1979-11-10', '1997-01-23'],\n",
    "    'City': ['New York', 'Los Angeles', 'Chicago', 'Seattle', 'San Francisco', 'Boston', 'Houston', 'Philadelphia', 'Phoenix', 'San Diego', 'Dallas', 'Austin', 'Miami', 'Atlanta', 'Denver', 'Washington', 'Nashville', 'Detroit', 'Portland', 'Minneapolis'],\n",
    "    'Income': [50000, 60000, 70000, 80000, 55000, 65000, 75000, 85000, 60000, 70000, 80000, 90000, 62000, 72000, 82000, 92000, 63000, 73000, 83000, 93000],\n",
    "    'Expenditure': [20000, 25000, 30000, 35000, 22000, 27000, 32000, 37000, 23000, 28000, 33000, 38000, 24000, 29000, 34000, 39000, 25000, 30000, 35000, 40000],\n",
    "    'Tax': [1000, 1200, 1400, 1600, 1100, 1300, 1500, 1700, 1200, 1400, 1600, 1800, 1240, 1440, 1640, 1840, 1260, 1460, 1660, 1860]\n",
    "}\n",
    "df = pd.DataFrame(data)\n",
    "date_col = ['Birthdate']\n",
    "object_columns = [col for col in df.select_dtypes(include='O')]\n",
    "num_columns = [col for col in df.select_dtypes(exclude='O') if col not in date_col + ['Age']]"
   ]
  },
  {
   "cell_type": "code",
   "execution_count": 18,
   "metadata": {},
   "outputs": [
    {
     "name": "stdout",
     "output_type": "stream",
     "text": [
      "Object Columns: \n",
      "['Name', 'Birthdate', 'City']\n",
      "\n",
      "Numeric Columns: \n",
      "['Income', 'Expenditure', 'Tax']\n",
      "\n",
      "Date Columns: \n",
      "['Birthdate']\n"
     ]
    }
   ],
   "source": [
    "print(f'Object Columns: \\n{object_columns}\\n')\n",
    "print(f'Numeric Columns: \\n{num_columns}\\n')\n",
    "print(f'Date Columns: \\n{date_col}')"
   ]
  },
  {
   "cell_type": "code",
   "execution_count": 19,
   "metadata": {},
   "outputs": [],
   "source": [
    "def advanced_scatter_plot(x_column, y_column, target_column, dataframe):\n",
    "    plt.figure(figsize=(15, 6))\n",
    "    sns.scatterplot(x=x_column, y=y_column, hue=target_column, data=dataframe, palette='viridis')\n",
    "    plt.title(f'Scatter Plot of {x_column} vs {y_column} Hue by {target_column}', fontsize=16)\n",
    "    plt.xlabel(x_column, fontsize=14)\n",
    "    plt.ylabel(y_column, fontsize=14)\n",
    "    plt.legend(title=target_column)\n",
    "    plt.grid(True)\n",
    "    plt.show()"
   ]
  },
  {
   "cell_type": "code",
   "execution_count": 20,
   "metadata": {},
   "outputs": [
    {
     "data": {
      "image/png": "[encoded data removed]",
      "text/plain": [
       "<Figure size 1500x600 with 1 Axes>"
      ]
     },
     "metadata": {},
     "output_type": "display_data"
    },
    {
     "data": {
      "image/png": "[encoded data removed]",
      "text/plain": [
       "<Figure size 1500x600 with 1 Axes>"
      ]
     },
     "metadata": {},
     "output_type": "display_data"
    },
    {
     "data": {
      "image/png": "[encoded data removed]",
      "text/plain": [
       "<Figure size 1500x600 with 1 Axes>"
      ]
     },
     "metadata": {},
     "output_type": "display_data"
    }
   ],
   "source": [
    "for i, col in enumerate(num_columns):\n",
    "    advanced_scatter_plot('Expenditure', num_columns[i], 'Age', df)"
   ]
  },
  {
   "cell_type": "markdown",
   "metadata": {},
   "source": [
    "# SET"
   ]
  },
  {
   "cell_type": "code",
   "execution_count": 57,
   "metadata": {},
   "outputs": [
    {
     "data": {
      "text/html": [
       "<div>\n",
       "<style scoped>\n",
       "    .dataframe tbody tr th:only-of-type {\n",
       "        vertical-align: middle;\n",
       "    }\n",
       "\n",
       "    .dataframe tbody tr th {\n",
       "        vertical-align: top;\n",
       "    }\n",
       "\n",
       "    .dataframe thead th {\n",
       "        text-align: right;\n",
       "    }\n",
       "</style>\n",
       "<table border=\"1\" class=\"dataframe\">\n",
       "  <thead>\n",
       "    <tr style=\"text-align: right;\">\n",
       "      <th></th>\n",
       "      <th>Nama Customer</th>\n",
       "      <th>Gender</th>\n",
       "      <th>Rating</th>\n",
       "      <th>Usia</th>\n",
       "    </tr>\n",
       "  </thead>\n",
       "  <tbody>\n",
       "    <tr>\n",
       "      <th>0</th>\n",
       "      <td>John</td>\n",
       "      <td>Male</td>\n",
       "      <td>A</td>\n",
       "      <td>38</td>\n",
       "    </tr>\n",
       "    <tr>\n",
       "      <th>1</th>\n",
       "      <td>Emily</td>\n",
       "      <td>Female</td>\n",
       "      <td>B</td>\n",
       "      <td>28</td>\n",
       "    </tr>\n",
       "    <tr>\n",
       "      <th>2</th>\n",
       "      <td>Bobi</td>\n",
       "      <td>Unknown</td>\n",
       "      <td>C</td>\n",
       "      <td>43</td>\n",
       "    </tr>\n",
       "    <tr>\n",
       "      <th>3</th>\n",
       "      <td>John</td>\n",
       "      <td>Male</td>\n",
       "      <td>A</td>\n",
       "      <td>31</td>\n",
       "    </tr>\n",
       "    <tr>\n",
       "      <th>4</th>\n",
       "      <td>Emily</td>\n",
       "      <td>Female</td>\n",
       "      <td>B</td>\n",
       "      <td>33</td>\n",
       "    </tr>\n",
       "  </tbody>\n",
       "</table>\n",
       "</div>"
      ],
      "text/plain": [
       "  Nama Customer   Gender Rating  Usia\n",
       "0          John     Male      A    38\n",
       "1         Emily   Female      B    28\n",
       "2          Bobi  Unknown      C    43\n",
       "3          John     Male      A    31\n",
       "4         Emily   Female      B    33"
      ]
     },
     "metadata": {},
     "output_type": "display_data"
    },
    {
     "data": {
      "text/html": [
       "<div>\n",
       "<style scoped>\n",
       "    .dataframe tbody tr th:only-of-type {\n",
       "        vertical-align: middle;\n",
       "    }\n",
       "\n",
       "    .dataframe tbody tr th {\n",
       "        vertical-align: top;\n",
       "    }\n",
       "\n",
       "    .dataframe thead th {\n",
       "        text-align: right;\n",
       "    }\n",
       "</style>\n",
       "<table border=\"1\" class=\"dataframe\">\n",
       "  <thead>\n",
       "    <tr style=\"text-align: right;\">\n",
       "      <th></th>\n",
       "      <th>Nama Customer</th>\n",
       "      <th>Gender</th>\n",
       "      <th>Rating</th>\n",
       "      <th>Usia</th>\n",
       "    </tr>\n",
       "  </thead>\n",
       "  <tbody>\n",
       "    <tr>\n",
       "      <th>0</th>\n",
       "      <td>John</td>\n",
       "      <td>M</td>\n",
       "      <td>Bagus</td>\n",
       "      <td>25</td>\n",
       "    </tr>\n",
       "    <tr>\n",
       "      <th>1</th>\n",
       "      <td>Emily</td>\n",
       "      <td>F</td>\n",
       "      <td>Biasa</td>\n",
       "      <td>43</td>\n",
       "    </tr>\n",
       "    <tr>\n",
       "      <th>2</th>\n",
       "      <td>Bobi</td>\n",
       "      <td>Unknown</td>\n",
       "      <td>Jelek</td>\n",
       "      <td>45</td>\n",
       "    </tr>\n",
       "    <tr>\n",
       "      <th>3</th>\n",
       "      <td>John</td>\n",
       "      <td>M</td>\n",
       "      <td>Bagus</td>\n",
       "      <td>43</td>\n",
       "    </tr>\n",
       "    <tr>\n",
       "      <th>4</th>\n",
       "      <td>Emily</td>\n",
       "      <td>F</td>\n",
       "      <td>Biasa</td>\n",
       "      <td>48</td>\n",
       "    </tr>\n",
       "  </tbody>\n",
       "</table>\n",
       "</div>"
      ],
      "text/plain": [
       "  Nama Customer   Gender Rating  Usia\n",
       "0          John        M  Bagus    25\n",
       "1         Emily        F  Biasa    43\n",
       "2          Bobi  Unknown  Jelek    45\n",
       "3          John        M  Bagus    43\n",
       "4         Emily        F  Biasa    48"
      ]
     },
     "metadata": {},
     "output_type": "display_data"
    },
    {
     "data": {
      "text/html": [
       "<div>\n",
       "<style scoped>\n",
       "    .dataframe tbody tr th:only-of-type {\n",
       "        vertical-align: middle;\n",
       "    }\n",
       "\n",
       "    .dataframe tbody tr th {\n",
       "        vertical-align: top;\n",
       "    }\n",
       "\n",
       "    .dataframe thead th {\n",
       "        text-align: right;\n",
       "    }\n",
       "</style>\n",
       "<table border=\"1\" class=\"dataframe\">\n",
       "  <thead>\n",
       "    <tr style=\"text-align: right;\">\n",
       "      <th></th>\n",
       "      <th>Nama Customer</th>\n",
       "      <th>Gender</th>\n",
       "      <th>Rating</th>\n",
       "      <th>Usia</th>\n",
       "    </tr>\n",
       "  </thead>\n",
       "  <tbody>\n",
       "    <tr>\n",
       "      <th>0</th>\n",
       "      <td>John</td>\n",
       "      <td>L</td>\n",
       "      <td>3</td>\n",
       "      <td>25</td>\n",
       "    </tr>\n",
       "    <tr>\n",
       "      <th>1</th>\n",
       "      <td>Emily</td>\n",
       "      <td>P</td>\n",
       "      <td>2</td>\n",
       "      <td>38</td>\n",
       "    </tr>\n",
       "    <tr>\n",
       "      <th>2</th>\n",
       "      <td>Bobi</td>\n",
       "      <td>-</td>\n",
       "      <td>1</td>\n",
       "      <td>27</td>\n",
       "    </tr>\n",
       "    <tr>\n",
       "      <th>3</th>\n",
       "      <td>John</td>\n",
       "      <td>L</td>\n",
       "      <td>3</td>\n",
       "      <td>28</td>\n",
       "    </tr>\n",
       "    <tr>\n",
       "      <th>4</th>\n",
       "      <td>Emily</td>\n",
       "      <td>P</td>\n",
       "      <td>2</td>\n",
       "      <td>33</td>\n",
       "    </tr>\n",
       "  </tbody>\n",
       "</table>\n",
       "</div>"
      ],
      "text/plain": [
       "  Nama Customer Gender Rating  Usia\n",
       "0          John      L      3    25\n",
       "1         Emily      P      2    38\n",
       "2          Bobi      -      1    27\n",
       "3          John      L      3    28\n",
       "4         Emily      P      2    33"
      ]
     },
     "metadata": {},
     "output_type": "display_data"
    }
   ],
   "source": [
    "import numpy as np\n",
    "\n",
    "data1 = {\n",
    "    'Nama Customer': ['John', 'Emily', 'Bobi'] * 6, \n",
    "    'Gender': ['Male', 'Female', 'Unknown'] * 6, \n",
    "    'Rating': ['A', 'B', 'C'] * 6, \n",
    "    'Usia': np.random.randint(20, 50, size=18)\n",
    "    }\n",
    "df1 = pd.DataFrame(data1)\n",
    "\n",
    "data2 = {\n",
    "    'Nama Customer': ['John', 'Emily', 'Bobi'] * 6, \n",
    "    'Gender': ['M', 'F', 'Unknown'] * 6, \n",
    "    'Rating': ['Bagus', 'Biasa', 'Jelek'] * 6, \n",
    "    'Usia': np.random.randint(20, 50, size=18)\n",
    "    }\n",
    "df2 = pd.DataFrame(data2)\n",
    "\n",
    "\n",
    "data3 = {\n",
    "    'Nama Customer': ['John', 'Emily', 'Bobi'] * 6, \n",
    "    'Gender': ['L', 'P', '-'] * 6, \n",
    "    'Rating': ['3', '2', '1'] * 6, \n",
    "    'Usia': np.random.randint(20, 50, size=18)\n",
    "    }\n",
    "df3 = pd.DataFrame(data3)\n",
    "\n",
    "display(df1.head(), df2.head(), df3.head())"
   ]
  },
  {
   "cell_type": "code",
   "execution_count": 66,
   "metadata": {},
   "outputs": [
    {
     "data": {
      "text/plain": [
       "['Gender', 'Rating']"
      ]
     },
     "execution_count": 66,
     "metadata": {},
     "output_type": "execute_result"
    }
   ],
   "source": [
    "columns_to_check = [col for col in df.columns if col not in ['Nama Customer', 'Usia']]\n",
    "columns_to_check"
   ]
  },
  {
   "cell_type": "code",
   "execution_count": 72,
   "metadata": {},
   "outputs": [
    {
     "name": "stdout",
     "output_type": "stream",
     "text": [
      "Columns Gender: ['-', 'F', 'Female', 'L', 'Male', 'M', 'P']\n",
      "Columns Rating: ['B', 'C', 'Bagus', 'Biasa', 'A', '2', '1', 'Jelek', '3']\n"
     ]
    }
   ],
   "source": [
    "def check_col_val(df1, df2, df3, col):\n",
    "    return list(set(df1[col]) ^ set(df2[col]) ^ set(df3[col]))\n",
    "\n",
    "for col in columns_to_check:\n",
    "    print(f'Columns {col}: {check_col_val(df1, df2, df3, col)}')\n",
    "    "
   ]
  },
  {
   "cell_type": "markdown",
   "metadata": {},
   "source": [
    "# TUPLE"
   ]
  },
  {
   "cell_type": "code",
   "execution_count": 41,
   "metadata": {},
   "outputs": [
    {
     "data": {
      "text/html": [
       "<div>\n",
       "<style scoped>\n",
       "    .dataframe tbody tr th:only-of-type {\n",
       "        vertical-align: middle;\n",
       "    }\n",
       "\n",
       "    .dataframe tbody tr th {\n",
       "        vertical-align: top;\n",
       "    }\n",
       "\n",
       "    .dataframe thead th {\n",
       "        text-align: right;\n",
       "    }\n",
       "</style>\n",
       "<table border=\"1\" class=\"dataframe\">\n",
       "  <thead>\n",
       "    <tr style=\"text-align: right;\">\n",
       "      <th></th>\n",
       "      <th>Nama Customer</th>\n",
       "      <th>Gender</th>\n",
       "      <th>Rating</th>\n",
       "      <th>Usia</th>\n",
       "    </tr>\n",
       "  </thead>\n",
       "  <tbody>\n",
       "    <tr>\n",
       "      <th>4</th>\n",
       "      <td>NaN</td>\n",
       "      <td>Female</td>\n",
       "      <td>B</td>\n",
       "      <td>44.0</td>\n",
       "    </tr>\n",
       "    <tr>\n",
       "      <th>5</th>\n",
       "      <td>Bobi</td>\n",
       "      <td>NaN</td>\n",
       "      <td>C</td>\n",
       "      <td>39.0</td>\n",
       "    </tr>\n",
       "    <tr>\n",
       "      <th>6</th>\n",
       "      <td>John</td>\n",
       "      <td>Male</td>\n",
       "      <td>NaN</td>\n",
       "      <td>NaN</td>\n",
       "    </tr>\n",
       "    <tr>\n",
       "      <th>7</th>\n",
       "      <td>NaN</td>\n",
       "      <td>Female</td>\n",
       "      <td>B</td>\n",
       "      <td>NaN</td>\n",
       "    </tr>\n",
       "    <tr>\n",
       "      <th>8</th>\n",
       "      <td>Bobi</td>\n",
       "      <td>NaN</td>\n",
       "      <td>C</td>\n",
       "      <td>NaN</td>\n",
       "    </tr>\n",
       "  </tbody>\n",
       "</table>\n",
       "</div>"
      ],
      "text/plain": [
       "  Nama Customer  Gender Rating  Usia\n",
       "4           NaN  Female      B  44.0\n",
       "5          Bobi     NaN      C  39.0\n",
       "6          John    Male    NaN   NaN\n",
       "7           NaN  Female      B   NaN\n",
       "8          Bobi     NaN      C   NaN"
      ]
     },
     "execution_count": 41,
     "metadata": {},
     "output_type": "execute_result"
    }
   ],
   "source": [
    "data = {\n",
    "    'Nama Customer': ['John', np.nan, 'Bobi'] * 3, \n",
    "    'Gender': ['Male', 'Female', np.nan] * 3, \n",
    "    'Rating': [np.nan, 'B', 'C'] * 3, \n",
    "    'Usia': np.concatenate([np.random.randint(20, 50, size=6), [np.nan] * 3])\n",
    "    }\n",
    "df = pd.DataFrame(data)\n",
    "df.tail()"
   ]
  },
  {
   "cell_type": "code",
   "execution_count": 48,
   "metadata": {},
   "outputs": [],
   "source": [
    "def fill_missing_val(df):\n",
    "    fill_nama_customer = df['Nama Customer'].fillna('Unknown')\n",
    "    fill_gender = df['Gender'].fillna(df['Gender'].mode()[0])\n",
    "    fill_rating = df['Rating'].fillna('A')\n",
    "    fill_usia = df['Usia'].fillna(df['Usia'].mean())\n",
    "    return (fill_nama_customer, fill_gender, fill_rating, fill_usia)"
   ]
  },
  {
   "cell_type": "code",
   "execution_count": 49,
   "metadata": {},
   "outputs": [
    {
     "data": {
      "text/plain": [
       "0       John\n",
       "1    Unknown\n",
       "2       Bobi\n",
       "3       John\n",
       "4    Unknown\n",
       "5       Bobi\n",
       "6       John\n",
       "7    Unknown\n",
       "8       Bobi\n",
       "Name: Nama Customer, dtype: object"
      ]
     },
     "metadata": {},
     "output_type": "display_data"
    },
    {
     "data": {
      "text/plain": [
       "0      Male\n",
       "1    Female\n",
       "2    Female\n",
       "3      Male\n",
       "4    Female\n",
       "5    Female\n",
       "6      Male\n",
       "7    Female\n",
       "8    Female\n",
       "Name: Gender, dtype: object"
      ]
     },
     "metadata": {},
     "output_type": "display_data"
    },
    {
     "data": {
      "text/plain": [
       "0    A\n",
       "1    B\n",
       "2    C\n",
       "3    A\n",
       "4    B\n",
       "5    C\n",
       "6    A\n",
       "7    B\n",
       "8    C\n",
       "Name: Rating, dtype: object"
      ]
     },
     "metadata": {},
     "output_type": "display_data"
    },
    {
     "data": {
      "text/plain": [
       "0    24.000000\n",
       "1    47.000000\n",
       "2    39.000000\n",
       "3    43.000000\n",
       "4    44.000000\n",
       "5    39.000000\n",
       "6    39.333333\n",
       "7    39.333333\n",
       "8    39.333333\n",
       "Name: Usia, dtype: float64"
      ]
     },
     "metadata": {},
     "output_type": "display_data"
    }
   ],
   "source": [
    "step1, step2, step3, step4 = fill_missing_val(df)\n",
    "display(step1, step2, step3, step4)"
   ]
  },
  {
   "cell_type": "markdown",
   "metadata": {},
   "source": [
    "# Dictionary"
   ]
  },
  {
   "cell_type": "code",
   "execution_count": 90,
   "metadata": {},
   "outputs": [
    {
     "data": {
      "text/html": [
       "<div>\n",
       "<style scoped>\n",
       "    .dataframe tbody tr th:only-of-type {\n",
       "        vertical-align: middle;\n",
       "    }\n",
       "\n",
       "    .dataframe tbody tr th {\n",
       "        vertical-align: top;\n",
       "    }\n",
       "\n",
       "    .dataframe thead th {\n",
       "        text-align: right;\n",
       "    }\n",
       "</style>\n",
       "<table border=\"1\" class=\"dataframe\">\n",
       "  <thead>\n",
       "    <tr style=\"text-align: right;\">\n",
       "      <th></th>\n",
       "      <th>Nama Customer</th>\n",
       "      <th>Gender</th>\n",
       "      <th>Rating</th>\n",
       "      <th>Usia</th>\n",
       "    </tr>\n",
       "  </thead>\n",
       "  <tbody>\n",
       "    <tr>\n",
       "      <th>0</th>\n",
       "      <td>John</td>\n",
       "      <td>Male</td>\n",
       "      <td>A</td>\n",
       "      <td>27</td>\n",
       "    </tr>\n",
       "    <tr>\n",
       "      <th>1</th>\n",
       "      <td>Emily</td>\n",
       "      <td>Female</td>\n",
       "      <td>B</td>\n",
       "      <td>45</td>\n",
       "    </tr>\n",
       "    <tr>\n",
       "      <th>2</th>\n",
       "      <td>Bobi</td>\n",
       "      <td>Unknown</td>\n",
       "      <td>C</td>\n",
       "      <td>24</td>\n",
       "    </tr>\n",
       "    <tr>\n",
       "      <th>3</th>\n",
       "      <td>John</td>\n",
       "      <td>M</td>\n",
       "      <td>Bagus</td>\n",
       "      <td>25</td>\n",
       "    </tr>\n",
       "    <tr>\n",
       "      <th>4</th>\n",
       "      <td>Emily</td>\n",
       "      <td>F</td>\n",
       "      <td>Biasa</td>\n",
       "      <td>33</td>\n",
       "    </tr>\n",
       "  </tbody>\n",
       "</table>\n",
       "</div>"
      ],
      "text/plain": [
       "  Nama Customer   Gender Rating  Usia\n",
       "0          John     Male      A    27\n",
       "1         Emily   Female      B    45\n",
       "2          Bobi  Unknown      C    24\n",
       "3          John        M  Bagus    25\n",
       "4         Emily        F  Biasa    33"
      ]
     },
     "execution_count": 90,
     "metadata": {},
     "output_type": "execute_result"
    }
   ],
   "source": [
    "data1 = {\n",
    "    'Nama Customer': ['John', 'Emily', 'Bobi'], \n",
    "    'Gender': ['Male', 'Female', 'Unknown'], \n",
    "    'Rating': ['A', 'B', 'C'], \n",
    "    'Usia': np.random.randint(20, 50, size=3)\n",
    "    }\n",
    "\n",
    "data2 = {\n",
    "    'Nama Customer': ['John', 'Emily', 'Bobi'], \n",
    "    'Gender': ['M', 'F', '-'], \n",
    "    'Rating': ['Bagus', 'Biasa', 'Jelek'], \n",
    "    'Usia': np.random.randint(20, 50, size=3)\n",
    "    }\n",
    "\n",
    "df1 = pd.DataFrame(data1)\n",
    "df2 = pd.DataFrame(data2)\n",
    "\n",
    "new_df = pd.concat([df1, df2], ignore_index=True)\n",
    "new_df.head()"
   ]
  },
  {
   "cell_type": "code",
   "execution_count": 97,
   "metadata": {},
   "outputs": [],
   "source": [
    "def mapping_value(df):\n",
    "    gender_map = {\n",
    "        'Male': 'M', \n",
    "        'Female': 'F', \n",
    "        'Unknown': '-'\n",
    "        }\n",
    "    df['Gender'] = df['Gender'].map(lambda x: gender_map[x] if x in gender_map else x)\n",
    "    \n",
    "    rating_map = {\n",
    "        'Bagus': 'A', \n",
    "        'Biasa': 'B', \n",
    "        'Jelek': 'C'\n",
    "        }\n",
    "    df['Rating'] = df['Rating'].map(lambda x: rating_map[x] if x in rating_map else x)\n",
    "    \n",
    "    return df"
   ]
  },
  {
   "cell_type": "code",
   "execution_count": 99,
   "metadata": {},
   "outputs": [
    {
     "data": {
      "text/html": [
       "<div>\n",
       "<style scoped>\n",
       "    .dataframe tbody tr th:only-of-type {\n",
       "        vertical-align: middle;\n",
       "    }\n",
       "\n",
       "    .dataframe tbody tr th {\n",
       "        vertical-align: top;\n",
       "    }\n",
       "\n",
       "    .dataframe thead th {\n",
       "        text-align: right;\n",
       "    }\n",
       "</style>\n",
       "<table border=\"1\" class=\"dataframe\">\n",
       "  <thead>\n",
       "    <tr style=\"text-align: right;\">\n",
       "      <th></th>\n",
       "      <th>Nama Customer</th>\n",
       "      <th>Gender</th>\n",
       "      <th>Rating</th>\n",
       "      <th>Usia</th>\n",
       "    </tr>\n",
       "  </thead>\n",
       "  <tbody>\n",
       "    <tr>\n",
       "      <th>0</th>\n",
       "      <td>John</td>\n",
       "      <td>M</td>\n",
       "      <td>A</td>\n",
       "      <td>27</td>\n",
       "    </tr>\n",
       "    <tr>\n",
       "      <th>1</th>\n",
       "      <td>Emily</td>\n",
       "      <td>F</td>\n",
       "      <td>B</td>\n",
       "      <td>45</td>\n",
       "    </tr>\n",
       "    <tr>\n",
       "      <th>2</th>\n",
       "      <td>Bobi</td>\n",
       "      <td>-</td>\n",
       "      <td>C</td>\n",
       "      <td>24</td>\n",
       "    </tr>\n",
       "    <tr>\n",
       "      <th>3</th>\n",
       "      <td>John</td>\n",
       "      <td>M</td>\n",
       "      <td>A</td>\n",
       "      <td>25</td>\n",
       "    </tr>\n",
       "    <tr>\n",
       "      <th>4</th>\n",
       "      <td>Emily</td>\n",
       "      <td>F</td>\n",
       "      <td>B</td>\n",
       "      <td>33</td>\n",
       "    </tr>\n",
       "    <tr>\n",
       "      <th>5</th>\n",
       "      <td>Bobi</td>\n",
       "      <td>-</td>\n",
       "      <td>C</td>\n",
       "      <td>38</td>\n",
       "    </tr>\n",
       "  </tbody>\n",
       "</table>\n",
       "</div>"
      ],
      "text/plain": [
       "  Nama Customer Gender Rating  Usia\n",
       "0          John      M      A    27\n",
       "1         Emily      F      B    45\n",
       "2          Bobi      -      C    24\n",
       "3          John      M      A    25\n",
       "4         Emily      F      B    33\n",
       "5          Bobi      -      C    38"
      ]
     },
     "execution_count": 99,
     "metadata": {},
     "output_type": "execute_result"
    }
   ],
   "source": [
    "new_df = mapping_value(new_df)\n",
    "new_df.head()"
   ]
  }
 ],
 "metadata": {
  "kernelspec": {
   "display_name": "bangkit",
   "language": "python",
   "name": "python3"
  },
  "language_info": {
   "codemirror_mode": {
    "name": "ipython",
    "version": 3
   },
   "file_extension": ".py",
   "mimetype": "text/x-python",
   "name": "python",
   "nbconvert_exporter": "python",
   "pygments_lexer": "ipython3",
   "version": "3.10.14"
  }
 },
 "nbformat": 4,
 "nbformat_minor": 2
}
